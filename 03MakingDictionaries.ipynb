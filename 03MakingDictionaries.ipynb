{
 "cells": [
  {
   "cell_type": "markdown",
   "metadata": {},
   "source": [
    "**Dictionaries**  \n",
    "A dictionary is an associative array.  \n",
    "Each item in our list is associated with a key.  \n",
    "\n",
    "To make a dictionary:\n",
    "+ Rather than using an index, like a list, a dictionary uses \"keys\", typically strings or numbers, that you define.\n",
    "+ Like a list, a dictionary can contain any kind of data type for it's values, even other dictionaries or lists!\n",
    "+ Dictionaries consist of key-value-pairs, and as they can only be accessed using the 'key' names, they are unordered.\n",
    "+ You can make a dictionary by using dict(), or {}\n",
    "+ You can have a list or dictionary as a key.\n",
    "\n",
    "**Dictionaries format**  \n",
    "dictionary = {'key1':'value1','key2':'value2'......}"
   ]
  },
  {
   "cell_type": "code",
   "execution_count": 4,
   "metadata": {},
   "outputs": [
    {
     "data": {
      "text/plain": [
       "{'For Slams': ['Double coat tim tam', 'tim tam'],\n",
       " 'because I love peanuts': 'Snickers',\n",
       " 'Because I love caramel': 'Mars'}"
      ]
     },
     "execution_count": 4,
     "metadata": {},
     "output_type": "execute_result"
    }
   ],
   "source": [
    "yum = {'For Slams':['Double coat tim tam','tim tam'] #key 1 and values 1\n",
    "              ,'because I love peanuts':'Snickers', #key 2 and value 2\n",
    "              'Because I love caramel':'Mars', #key 3 and value 3\n",
    "              }\n",
    "yum"
   ]
  },
  {
   "cell_type": "code",
   "execution_count": 11,
   "metadata": {},
   "outputs": [
    {
     "name": "stdout",
     "output_type": "stream",
     "text": [
      "{'iphone': 2005, 'iPhone Pod': 3010, 'iphone3G': '2004', 'iphone3GS': '2009', 'iPhone Smart': 2001, 'iphone4': 2010, 'iphone4S': '2010', 'iPhone 4SS': 2015}\n"
     ]
    }
   ],
   "source": [
    "# An example of a dictionary with keys and values\n",
    "\n",
    "released = {    \n",
    "    \"iphone\" : 2005,\n",
    "    \"iPhone Pod\": 3010,\n",
    "    \"iphone3G\" : str(2004),    \n",
    "    \"iphone3GS\": str(2009),\n",
    "    \"iPhone Smart\": 2001,\n",
    "    \"iphone4\" : 2010,\n",
    "    \"iphone4S\": '2010',\n",
    "    'iPhone 4SS' : 2015\n",
    "}\n",
    "\n",
    "print(released)"
   ]
  },
  {
   "cell_type": "code",
   "execution_count": 3,
   "metadata": {},
   "outputs": [
    {
     "data": {
      "text/plain": [
       "2005"
      ]
     },
     "execution_count": 3,
     "metadata": {},
     "output_type": "execute_result"
    }
   ],
   "source": [
    "released[\"iphone\"] #grab a key from our dictionary to obtain its value"
   ]
  },
  {
   "cell_type": "code",
   "execution_count": 5,
   "metadata": {},
   "outputs": [
    {
     "data": {
      "text/plain": [
       "'Snickers'"
      ]
     },
     "execution_count": 5,
     "metadata": {},
     "output_type": "execute_result"
    }
   ],
   "source": [
    "yum['because I love peanuts'] #grab another key from our dictionary"
   ]
  },
  {
   "cell_type": "code",
   "execution_count": 8,
   "metadata": {},
   "outputs": [
    {
     "data": {
      "text/plain": [
       "'Double coat tim tam'"
      ]
     },
     "execution_count": 8,
     "metadata": {},
     "output_type": "execute_result"
    }
   ],
   "source": [
    "yum['For Slams'][1]\n",
    "yum['For Slams'][0]"
   ]
  },
  {
   "cell_type": "code",
   "execution_count": 12,
   "metadata": {},
   "outputs": [
    {
     "data": {
      "text/plain": [
       "{'For Slams': ['Double coat tim tam', 'tim tam'],\n",
       " 'because I love peanuts': 'Snickers',\n",
       " 'Because I love caramel': 'Mars',\n",
       " 'because I need more peanuts': 'picnic'}"
      ]
     },
     "execution_count": 12,
     "metadata": {},
     "output_type": "execute_result"
    }
   ],
   "source": [
    "yum['because I need more peanuts'] = 'picnic' #add a new dictionary item\n",
    "yum"
   ]
  },
  {
   "cell_type": "code",
   "execution_count": 12,
   "metadata": {},
   "outputs": [
    {
     "name": "stdout",
     "output_type": "stream",
     "text": [
      "{'iPhone Pod': 3010, 'iphone3G': '2004', 'iphone3GS': '2009', 'iPhone Smart': 2001, 'iphone4': 2010, 'iphone4S': '2010', 'iPhone 4SS': 2015}\n",
      "2005\n"
     ]
    }
   ],
   "source": [
    "#use pop and delete to delete\n",
    "iphone_pair = released.pop('iphone')\n",
    "print(released)\n",
    "print(iphone_pair) # only the key's value is kept by pop, not the key itself"
   ]
  },
  {
   "cell_type": "markdown",
   "metadata": {},
   "source": [
    "**Challenge 8**"
   ]
  },
  {
   "cell_type": "code",
   "execution_count": 20,
   "metadata": {},
   "outputs": [
    {
     "data": {
      "text/plain": [
       "{'iphone': 2007,\n",
       " 'iphone3G': 2008,\n",
       " 'iphone3GS': 2009,\n",
       " 'iphone4': 2010,\n",
       " 'iphone4S': 2011}"
      ]
     },
     "execution_count": 20,
     "metadata": {},
     "output_type": "execute_result"
    }
   ],
   "source": [
    "released = {    \n",
    "    \"iphone\" : 2005,\n",
    "    \"iPhone Pod\": 3010,\n",
    "    \"iphone3G\" : str(2004),    \n",
    "    \"iphone3GS\": str(2009),\n",
    "    \"iPhone Smart\": 2001,\n",
    "    \"iphone4\" : 2010,\n",
    "    \"iphone4S\": '2010',\n",
    "    'iPhone 4SS' : 2015\n",
    "}\n",
    "\n",
    "released['iphone'] = 2007 #changed iphone date\n",
    "del released['iPhone Pod'] #no iPhone Pod\n",
    "released['iphone3G'] = 2008\n",
    "released['iphone3GS'] = 2009\n",
    "del released['iPhone Smart']\n",
    "released['iphone4S'] = 2011\n",
    "del released['iPhone 4SS']\n",
    "\n",
    "released"
   ]
  },
  {
   "cell_type": "markdown",
   "metadata": {},
   "source": [
    "If we just want to see the dictionary keys or dictionary values:  \n",
    "+ dict.keys() *note: output is a list*\n",
    "+ dict.values()"
   ]
  },
  {
   "cell_type": "code",
   "execution_count": 14,
   "metadata": {},
   "outputs": [],
   "source": [
    "temp_dict = {}\n",
    "temp_dict[\"temp\"] = \"temporary record\"\n",
    "temp_dict[\"temp2\"] = \"second temporary record\""
   ]
  },
  {
   "cell_type": "code",
   "execution_count": 15,
   "metadata": {},
   "outputs": [
    {
     "name": "stdout",
     "output_type": "stream",
     "text": [
      "dict_values(['temporary record', 'second temporary record'])\n"
     ]
    },
    {
     "data": {
      "text/plain": [
       "['temp', 'temp2']"
      ]
     },
     "execution_count": 15,
     "metadata": {},
     "output_type": "execute_result"
    }
   ],
   "source": [
    "temp_dict.values()\n",
    "print(temp_dict.values()) #also prints dictionary name in front\n",
    "\n",
    "list(temp_dict.values()) #converts dictionary values into a list\n",
    "list(temp_dict.keys()) #converts dictionary keys into a list"
   ]
  }
 ],
 "metadata": {
  "kernelspec": {
   "display_name": "Python 3",
   "language": "python",
   "name": "python3"
  },
  "language_info": {
   "codemirror_mode": {
    "name": "ipython",
    "version": 3
   },
   "file_extension": ".py",
   "mimetype": "text/x-python",
   "name": "python",
   "nbconvert_exporter": "python",
   "pygments_lexer": "ipython3",
   "version": "3.7.1"
  }
 },
 "nbformat": 4,
 "nbformat_minor": 2
}
