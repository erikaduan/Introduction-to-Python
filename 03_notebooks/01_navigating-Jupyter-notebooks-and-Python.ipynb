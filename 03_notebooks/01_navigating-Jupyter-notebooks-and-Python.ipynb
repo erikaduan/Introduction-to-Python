{
 "cells": [
  {
   "cell_type": "markdown",
   "metadata": {},
   "source": [
    "# Introduction to Jupyter notebooks  "
   ]
  },
  {
   "cell_type": "markdown",
   "metadata": {},
   "source": [
    "![Welcome!](../02_images/notebook1.jpg)"
   ]
  },
  {
   "cell_type": "markdown",
   "metadata": {},
   "source": [
    "## Navigating Jupyter notebooks\n",
    "\n",
    "**Jupyter notebooks** are a versatile way to document and run your Python code. A notebook consist of many individual cells (similar to individual chunks found in an R markdown file).  \n",
    "\n",
    "You can:  \n",
    "\n",
    "+ Toggle between edit (`enter key`) or command (`esc key`).\n",
    "+ Toggle between code (`y key`) or markdown (`m key`).\n",
    "+ Each cell can run its individual code.\n",
    "+ Each cell only prints its last output, unless objects are specified using `print()`. \n",
    "+ Create new cells using `a | b keys` and navigate through them using `shift + enter keys` or `up | down keys`.\n",
    "+ Use `control + enter keys` to run cells.  \n",
    "+ During edit mode, use `x | c | v | d keys` to manipulate individual cells.  "
   ]
  },
  {
   "cell_type": "code",
   "execution_count": 34,
   "metadata": {},
   "outputs": [
    {
     "data": {
      "text/plain": [
       "[1, 2, 3]"
      ]
     },
     "execution_count": 34,
     "metadata": {},
     "output_type": "execute_result"
    }
   ],
   "source": [
    "b = [1, 2, 3] # use square brackets to store data in a list\n",
    "b # each cell automatically prints the last output"
   ]
  },
  {
   "cell_type": "code",
   "execution_count": 1,
   "metadata": {},
   "outputs": [
    {
     "name": "stdout",
     "output_type": "stream",
     "text": [
      "[[14, 15, 16], 5, 6, 7]\n"
     ]
    },
    {
     "data": {
      "text/plain": [
       "15"
      ]
     },
     "execution_count": 1,
     "metadata": {},
     "output_type": "execute_result"
    }
   ],
   "source": [
    "c = [[14, 15, 16], 5, 6, 7]\n",
    "print(c) \n",
    "\n",
    "c[0][1] # 1st position in the inner list found in position 0"
   ]
  },
  {
   "cell_type": "markdown",
   "metadata": {},
   "source": [
    "## Mathematical operations \n",
    "\n",
    "Python can be used to perform standard calculations.  \n",
    "\n",
    "+ Addition and subtraction.\n",
    "+ Handling negative numbers.\n",
    "+ Multiplication and division (following algebraic rules i.e. exponents, multiplication or division are calculated first).\n",
    "+ Working with exponents using `**n` (i.e. to the power of n).  \n",
    "\n",
    "Numbers can stored as either integers (faster to compute and does not contain decimals) or floats (slower to compute and contains decimals). \n",
    "\n",
    "**Warning:** Python rounds results into integers when you are [dividing by integers](https://stackoverflow.com/questions/33944111/how-to-convert-int-to-float-in-python).   "
   ]
  },
  {
   "cell_type": "code",
   "execution_count": 3,
   "metadata": {},
   "outputs": [
    {
     "data": {
      "text/plain": [
       "16"
      ]
     },
     "execution_count": 3,
     "metadata": {},
     "output_type": "execute_result"
    }
   ],
   "source": [
    "# addition  \n",
    "4 + 12"
   ]
  },
  {
   "cell_type": "code",
   "execution_count": 4,
   "metadata": {},
   "outputs": [
    {
     "data": {
      "text/plain": [
       "5"
      ]
     },
     "execution_count": 4,
     "metadata": {},
     "output_type": "execute_result"
    }
   ],
   "source": [
    "# handling negative numbers  \n",
    "-5 + 10"
   ]
  },
  {
   "cell_type": "code",
   "execution_count": 19,
   "metadata": {},
   "outputs": [
    {
     "data": {
      "text/plain": [
       "11.0"
      ]
     },
     "execution_count": 19,
     "metadata": {},
     "output_type": "execute_result"
    }
   ],
   "source": [
    "# mathematical operations are calculated from left to right\n",
    "3 * 11 / 3 "
   ]
  },
  {
   "cell_type": "code",
   "execution_count": 21,
   "metadata": {},
   "outputs": [
    {
     "data": {
      "text/plain": [
       "8"
      ]
     },
     "execution_count": 21,
     "metadata": {},
     "output_type": "execute_result"
    }
   ],
   "source": [
    "# 2 ^ 3\n",
    "2**3 "
   ]
  },
  {
   "cell_type": "markdown",
   "metadata": {},
   "source": [
    "Non-standard mathematical functions are also used in Python.   \n",
    "\n",
    "+ Divide and floor (i.e. round down the result to an integer) using `//`.  \n",
    "+ The modulo operation (i.e. divide and calculate the remainder) using `%`."
   ]
  },
  {
   "cell_type": "code",
   "execution_count": 22,
   "metadata": {},
   "outputs": [
    {
     "name": "stdout",
     "output_type": "stream",
     "text": [
      "2\n",
      "2.5\n"
     ]
    }
   ],
   "source": [
    "# divide and floor \n",
    "print(10//4) \n",
    "print(10/4) "
   ]
  },
  {
   "cell_type": "code",
   "execution_count": 33,
   "metadata": {
    "scrolled": true
   },
   "outputs": [
    {
     "name": "stdout",
     "output_type": "stream",
     "text": [
      "0\n",
      "1\n"
     ]
    }
   ],
   "source": [
    "# modulo operation \n",
    "print(12%3)\n",
    "print(13%4) # 12/4 + 1"
   ]
  },
  {
   "cell_type": "markdown",
   "metadata": {},
   "source": [
    "## Creating and manipulating character strings  \n",
    "\n",
    "Words can be converted into strings, by placing them inside the `\"\"` or `''`. Remember to use `\"\"` or `''` in a consistent manner.   \n",
    "In contrast to R, character strings in Python can be directly added or multiplied. "
   ]
  },
  {
   "cell_type": "code",
   "execution_count": 35,
   "metadata": {},
   "outputs": [
    {
     "data": {
      "text/plain": [
       "'This is a word!'"
      ]
     },
     "execution_count": 35,
     "metadata": {},
     "output_type": "execute_result"
    }
   ],
   "source": [
    "word = \"This is a word!\"\n",
    "word"
   ]
  },
  {
   "cell_type": "code",
   "execution_count": 37,
   "metadata": {},
   "outputs": [
    {
     "data": {
      "text/plain": [
       "'Erika M Duan'"
      ]
     },
     "execution_count": 37,
     "metadata": {},
     "output_type": "execute_result"
    }
   ],
   "source": [
    "my_name = \"Erika\" + \" \" + \"M\" + \" \" + \"Duan\" # manually add spaces via \" \"\n",
    "my_name # do not use my.name for annotation"
   ]
  },
  {
   "cell_type": "code",
   "execution_count": 12,
   "metadata": {},
   "outputs": [
    {
     "data": {
      "text/plain": [
       "'my precioussssss'"
      ]
     },
     "execution_count": 12,
     "metadata": {},
     "output_type": "execute_result"
    }
   ],
   "source": [
    "Gollum_says = \"my\" + \" \" + \"precious\" + \"s\" * 5\n",
    "Gollum_says"
   ]
  },
  {
   "cell_type": "markdown",
   "metadata": {},
   "source": [
    "## Python functions versus methods\n",
    "\n",
    "In Python, functions follow the general structure `function(objects, arguments)`.  \n",
    "\n",
    "+ The function `type()` shows data type and behaves like `class()` in R.\n",
    "+ The function `len()` finds the length of an object and behaves like `length()` in R.  \n",
    "+ The functions `int()`, `str()`, `float()` are data coercion functions and behave like `as.integer()`, `as.character()` and `as.numeric()` in R.  \n",
    "\n",
    "**Note:** The function `len()` is used to find the length of a string, data frame or object. It should not be used to print the value of an integer or float and will produce an error if treated thus.  "
   ]
  },
  {
   "cell_type": "code",
   "execution_count": 39,
   "metadata": {},
   "outputs": [
    {
     "data": {
      "text/plain": [
       "str"
      ]
     },
     "execution_count": 39,
     "metadata": {},
     "output_type": "execute_result"
    }
   ],
   "source": [
    "type(\"Hobbit\") # string i.e. character string"
   ]
  },
  {
   "cell_type": "code",
   "execution_count": 42,
   "metadata": {},
   "outputs": [
    {
     "data": {
      "text/plain": [
       "int"
      ]
     },
     "execution_count": 42,
     "metadata": {},
     "output_type": "execute_result"
    }
   ],
   "source": [
    "type(3**2)"
   ]
  },
  {
   "cell_type": "code",
   "execution_count": 43,
   "metadata": {},
   "outputs": [
    {
     "data": {
      "text/plain": [
       "float"
      ]
     },
     "execution_count": 43,
     "metadata": {},
     "output_type": "execute_result"
    }
   ],
   "source": [
    "type(3.1**2) "
   ]
  },
  {
   "cell_type": "code",
   "execution_count": 45,
   "metadata": {},
   "outputs": [
    {
     "data": {
      "text/plain": [
       "8"
      ]
     },
     "execution_count": 45,
     "metadata": {},
     "output_type": "execute_result"
    }
   ],
   "source": [
    "len(\"penguins\")"
   ]
  },
  {
   "cell_type": "code",
   "execution_count": 47,
   "metadata": {},
   "outputs": [
    {
     "data": {
      "text/plain": [
       "13"
      ]
     },
     "execution_count": 47,
     "metadata": {},
     "output_type": "execute_result"
    }
   ],
   "source": [
    "len(\"more penguins\") # 5 more characters than the previous string"
   ]
  },
  {
   "cell_type": "markdown",
   "metadata": {},
   "source": [
    "### Coercing objects into strings, intergers or floats"
   ]
  },
  {
   "cell_type": "code",
   "execution_count": 50,
   "metadata": {},
   "outputs": [
    {
     "data": {
      "text/plain": [
       "str"
      ]
     },
     "execution_count": 50,
     "metadata": {},
     "output_type": "execute_result"
    }
   ],
   "source": [
    "a = str(5000) \n",
    "type(a) # \"5000\" = a string"
   ]
  },
  {
   "cell_type": "code",
   "execution_count": 51,
   "metadata": {},
   "outputs": [
    {
     "data": {
      "text/plain": [
       "3"
      ]
     },
     "execution_count": 51,
     "metadata": {},
     "output_type": "execute_result"
    }
   ],
   "source": [
    "int(3.45) # coercing integers always rounds down to the nearest full integer"
   ]
  },
  {
   "cell_type": "code",
   "execution_count": 22,
   "metadata": {},
   "outputs": [
    {
     "data": {
      "text/plain": [
       "5.0"
      ]
     },
     "execution_count": 22,
     "metadata": {},
     "output_type": "execute_result"
    }
   ],
   "source": [
    "float(5) # retains decimals if present"
   ]
  },
  {
   "cell_type": "code",
   "execution_count": 52,
   "metadata": {},
   "outputs": [
    {
     "data": {
      "text/plain": [
       "2"
      ]
     },
     "execution_count": 52,
     "metadata": {},
     "output_type": "execute_result"
    }
   ],
   "source": [
    "int(1.0) + int(float(\"1.1\")) # integer coercion forces float 1.1 into 1"
   ]
  },
  {
   "cell_type": "markdown",
   "metadata": {},
   "source": [
    "### Working with strings  \n",
    "\n",
    "In Python, methods follow the structure `object.methods(arguments)`. Unlike functions, methods are thought of as actions which perform changes on objects.  \n",
    "\n",
    "For example, to convert everything into an uppercase, use the `.upper()` method. \n",
    "Other examples of methods exist [here](https://docs.python.org/3/library/stdtypes.html#string-methods) i.e. `.capitalize()` and `.title()`.     "
   ]
  },
  {
   "cell_type": "code",
   "execution_count": 53,
   "metadata": {},
   "outputs": [
    {
     "data": {
      "text/plain": [
       "'HELLO WORLD!'"
      ]
     },
     "execution_count": 53,
     "metadata": {},
     "output_type": "execute_result"
    }
   ],
   "source": [
    "\"Hello World!\".upper() # method because it changes the object to another form"
   ]
  },
  {
   "cell_type": "markdown",
   "metadata": {},
   "source": [
    "### Printing objects and statements  \n",
    "\n",
    "+ Print statements take the data input and print it as an output (i.e. as a string) to the console. \n",
    "+ Useful when trying to format some text output in a particular way - such as only using 2 decimal points for a number.\n",
    "+ Useful for 'looking under the hood' when you are coding.\n",
    "+ Useful when you are looking for issues in the code, i.e. you can print out your data at the point where you think things are going wrong. \n"
   ]
  },
  {
   "cell_type": "code",
   "execution_count": 27,
   "metadata": {},
   "outputs": [
    {
     "name": "stdout",
     "output_type": "stream",
     "text": [
      "Hello World 2019\n"
     ]
    }
   ],
   "source": [
    "print(\"Hello\", \"World\", 2019) # unlike adding strings, there is no need to add the \" \" spaces manually"
   ]
  },
  {
   "cell_type": "code",
   "execution_count": 28,
   "metadata": {},
   "outputs": [
    {
     "name": "stdout",
     "output_type": "stream",
     "text": [
      "100 0 0\n"
     ]
    }
   ],
   "source": [
    "print(100,000,000) # never use commas for large integers"
   ]
  },
  {
   "cell_type": "markdown",
   "metadata": {},
   "source": [
    "**Assigning variables in Python**  \n",
    "Python allows assigning of variables using the **= symbol**.  \n",
    "\n",
    "When assigning variables, you must follow some rules:  \n",
    "+ Names must start with a letter (a-z,A-Z) or underscore (_) and can be followed by any number of letters, digits (0-9), or underscores.\n",
    "+ Names cannot be the same as reserved words (i.e. False, True, None, And, If, For, While). \n",
    "+ Names are case-sensitive: 'YOU', 'you', 'You', and 'yOu' are all different names in Python.\n",
    "+ The **- | + | * | /** symbols are used by Python for defining operations on data and also cannot be used."
   ]
  },
  {
   "cell_type": "code",
   "execution_count": 29,
   "metadata": {},
   "outputs": [
    {
     "name": "stdout",
     "output_type": "stream",
     "text": [
      "<class 'float'>\n"
     ]
    }
   ],
   "source": [
    "number = 3.5\n",
    "\n",
    "print(type(number))"
   ]
  },
  {
   "cell_type": "code",
   "execution_count": 30,
   "metadata": {},
   "outputs": [
    {
     "name": "stdout",
     "output_type": "stream",
     "text": [
      "12.0\n"
     ]
    }
   ],
   "source": [
    "print(number*2 + 5) # (3.5 x 3.5) + 5"
   ]
  },
  {
   "cell_type": "markdown",
   "metadata": {},
   "source": [
    "**Printing sentences by stringing together characters and variables can be cumbersome and bulky.**"
   ]
  },
  {
   "cell_type": "code",
   "execution_count": 31,
   "metadata": {},
   "outputs": [
    {
     "name": "stdout",
     "output_type": "stream",
     "text": [
      "Our team name is Python Users . We are 2 in team number and our average age is 31.5 .\n"
     ]
    }
   ],
   "source": [
    "team_name = \"Python Users\"\n",
    "team_count = 2\n",
    "team_age = 31.5\n",
    "\n",
    "print(\"Our team name is\", team_name, \".\", \"We are\", team_count, \"in team number and our average age is\", team_age, \".\")"
   ]
  },
  {
   "cell_type": "markdown",
   "metadata": {},
   "source": [
    "**Luckily, an elegant way of performing print() exists that doesn't add in unintended spaces.**  \n",
    "\n",
    "It follows the syntax **print(\"This sentence contains %s and %i and %f.\" %(string, integer, float))**.  \n",
    "However, this format converts the string into a 'None Type' class. "
   ]
  },
  {
   "cell_type": "code",
   "execution_count": 32,
   "metadata": {},
   "outputs": [
    {
     "name": "stdout",
     "output_type": "stream",
     "text": [
      "Our team name is R Users. We have 4 members and we are, on average, 25.98 years old.\n"
     ]
    }
   ],
   "source": [
    "TeamName = 'R Users'\n",
    "X = 4\n",
    "Y = 25.976\n",
    "print(\"Our team name is %s. We have %i members and we are, on average, %0.2f years old.\" %(TeamName, X, Y))\n",
    "\n",
    "# %0.2f represents a float rounded to only 2 decimal places"
   ]
  },
  {
   "cell_type": "code",
   "execution_count": 33,
   "metadata": {},
   "outputs": [
    {
     "name": "stdout",
     "output_type": "stream",
     "text": [
      "In the Fellowship of the Ring, the team consisted of 9 members. The shortest person was Gimli.\n"
     ]
    }
   ],
   "source": [
    "Fellowship = 'Fellowship of the Ring'\n",
    "Team_number = 9\n",
    "Member = 'Gimli'\n",
    "\n",
    "print(\"In the %s, the team consisted of %i members. The shortest person was %s.\"\n",
    "      %(Fellowship, Team_number, Member))"
   ]
  },
  {
   "cell_type": "code",
   "execution_count": 34,
   "metadata": {},
   "outputs": [
    {
     "name": "stdout",
     "output_type": "stream",
     "text": [
      "Hello world. I know 2 programming languages, R and Python.\n",
      "<class 'str'>\n",
      "<class 'NoneType'>\n",
      "<class 'str'>\n"
     ]
    }
   ],
   "source": [
    "message = print(\"Hello world. I know %i programming languages, %s and %s.\" %(2, \"R\", \"Python\"))\n",
    "print(type(\"message\"))\n",
    "print(type(message)) \n",
    "\n",
    "str(message) # coerces to characters\n",
    "print(type(str(message)))"
   ]
  },
  {
   "cell_type": "markdown",
   "metadata": {},
   "source": [
    "**Watch out for the 3 pet peeves of Python!**  \n",
    "\n",
    "1. The first object in a list is stored in position **[0]**.\n",
    "2. To slice from a list, always slice between a and b+1 to extract a:b.\n",
    "3. Using list2 = list1 creates two names for the same list; use **list2 = list1[:]** or **list2 = list1.copy()** instead."
   ]
  },
  {
   "cell_type": "markdown",
   "metadata": {},
   "source": [
    "**Extra Python Crash Course Challenge - printing lists**  \n",
    "For the original exercise, please refer to page 46 of Python Crash Course (8th printing) by Eric Matthes."
   ]
  },
  {
   "cell_type": "code",
   "execution_count": 35,
   "metadata": {},
   "outputs": [
    {
     "name": "stdout",
     "output_type": "stream",
     "text": [
      "Hello Dad! I would like to invite you to dinner.\n",
      "Hello Mum! I would like to invite you to dinner.\n",
      "Hello Dan! I would like to invite you to dinner.\n",
      "Hello family cat! I would like to invite you to dinner.\n"
     ]
    }
   ],
   "source": [
    "# Write a guest list and individually write an invitation asking people to dinner. \n",
    "original_invite = [\"Dad\", \"Mum\", \"Dan\", \"family cat\"]\n",
    "\n",
    "for invitee in original_invite:\n",
    "    print(\"Hello %s! I would like to invite you to dinner.\" %(invitee))"
   ]
  },
  {
   "cell_type": "code",
   "execution_count": 36,
   "metadata": {},
   "outputs": [
    {
     "name": "stdout",
     "output_type": "stream",
     "text": [
      "Oh no, the family cat can't make it to dinner anymore. I guess I will have to change the list.\n"
     ]
    }
   ],
   "source": [
    "print(\"Oh no, the %s can't make it to dinner anymore. I guess I will have to change the list.\" %(original_invite[3]))"
   ]
  },
  {
   "cell_type": "code",
   "execution_count": 37,
   "metadata": {},
   "outputs": [
    {
     "name": "stdout",
     "output_type": "stream",
     "text": [
      "Hello Dad! I would like to invite you to dinner.\n",
      "Hello Mum! I would like to invite you to dinner.\n",
      "Hello Dan! I would like to invite you to dinner.\n",
      "Hello neighbour's cat! I would like to invite you to dinner.\n"
     ]
    }
   ],
   "source": [
    "new_invite = original_invite.copy() # create a copy of the original invite\n",
    "\n",
    "new_invite[3] = \"neighbour's cat\" \n",
    "\n",
    "for new_invitee in new_invite:\n",
    "     print(\"Hello %s! I would like to invite you to dinner.\" %(new_invitee))"
   ]
  },
  {
   "cell_type": "code",
   "execution_count": 38,
   "metadata": {},
   "outputs": [
    {
     "name": "stdout",
     "output_type": "stream",
     "text": [
      "Now the invite includes ['Dad', 'Mum', 'family corgi', 'Dan', \"neighbour's cat\", 'family German Shepherd'].\n"
     ]
    }
   ],
   "source": [
    "# The list increases in size!\n",
    "\n",
    "new_invite.insert(2, \"family corgi\") # adds a new object at the third position\n",
    "new_invite.append(\"family German Shepherd\") # adds a new object into the last position\n",
    "                  \n",
    "print(\"Now the invite includes %s.\" %(new_invite))"
   ]
  },
  {
   "cell_type": "code",
   "execution_count": 39,
   "metadata": {},
   "outputs": [
    {
     "name": "stdout",
     "output_type": "stream",
     "text": [
      "Sorry family German Shepherd, we will be inviting you to dinner another day.\n",
      "Sorry neighbour's cat, we will be inviting you to dinner another day.\n",
      "Okay, Dad! It's dinner time.\n",
      "Okay, Mum! It's dinner time.\n",
      "Okay, family corgi! It's dinner time.\n",
      "Okay, Dan! It's dinner time.\n"
     ]
    }
   ],
   "source": [
    "# The list decreases in size again!\n",
    "for next_time in new_invite[4:]: # objects from the fifth to last position \n",
    "    next_time = new_invite.pop(-1) # remove objects from new_invite list and store the object in in next_time \n",
    "    print(\"Sorry %s, we will be inviting you to dinner another day.\" %(next_time))\n",
    "\n",
    "for new_invitee in new_invite:\n",
    "    print(\"Okay, %s! It's dinner time.\" %(new_invitee))"
   ]
  },
  {
   "cell_type": "code",
   "execution_count": 40,
   "metadata": {},
   "outputs": [
    {
     "name": "stdout",
     "output_type": "stream",
     "text": [
      "['Dad', 'Mum', 'family corgi', 'Dan']\n",
      "['Dad', 'Mum', 'Dan']\n"
     ]
    }
   ],
   "source": [
    "# Deleting elements in a list using del\n",
    "\n",
    "print(new_invite) # new invite has been modified due to the previous for loop\n",
    "del new_invite[2] # del can also be used to delete an object in a list at any position\n",
    "\n",
    "print(new_invite)"
   ]
  },
  {
   "cell_type": "markdown",
   "metadata": {},
   "source": [
    "**This concludes the introduction to navigating Jupyter notebooks and using Python data structures.**"
   ]
  }
 ],
 "metadata": {
  "kernelspec": {
   "display_name": "Python 3",
   "language": "python",
   "name": "python3"
  },
  "language_info": {
   "codemirror_mode": {
    "name": "ipython",
    "version": 3
   },
   "file_extension": ".py",
   "mimetype": "text/x-python",
   "name": "python",
   "nbconvert_exporter": "python",
   "pygments_lexer": "ipython3",
   "version": "3.7.1"
  }
 },
 "nbformat": 4,
 "nbformat_minor": 2
}
