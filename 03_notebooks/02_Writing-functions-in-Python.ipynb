{
 "cells": [
  {
   "cell_type": "markdown",
   "metadata": {},
   "source": [
    "# Writing functions and error handling      \n",
    "## Author: Erika Duan"
   ]
  },
  {
   "cell_type": "markdown",
   "metadata": {},
   "source": [
    "# Writing functions  \n",
    "\n",
    "If you find yourself writing the same lines of code more than twice, turn your code into a function.  \n",
    "\n",
    "The syntax for writing basic functions is :  \n",
    "+ **def** example_function**(x):**\n",
    "    + action(x) \n",
    "    + return(x)   \n",
    "    \n",
    "**Note:** In contrast to R, a function without an explicit return statement returns **None**.  "
   ]
  },
  {
   "cell_type": "code",
   "execution_count": 52,
   "metadata": {},
   "outputs": [
    {
     "name": "stdout",
     "output_type": "stream",
     "text": [
      "The time is 12:54:44 on Sunday 15 November 2020.\n"
     ]
    }
   ],
   "source": [
    "#-----example 1-----  \n",
    "def print_date():  \n",
    "    import datetime  \n",
    "    now = datetime.datetime.now() \n",
    "    print(\"The time is {} on {} {} {} {}.\"\n",
    "          .format(now.strftime(\"%X\"),\n",
    "                  now.strftime(\"%A\"), now.strftime(\"%d\"), now.strftime(\"%B\"), now.strftime(\"%Y\")))\n",
    "    \n",
    "print_date() \n",
    "\n",
    "# remember to type '()' after function name"
   ]
  },
  {
   "cell_type": "code",
   "execution_count": 51,
   "metadata": {},
   "outputs": [
    {
     "name": "stdout",
     "output_type": "stream",
     "text": [
      "5\n",
      "23\n"
     ]
    }
   ],
   "source": [
    "#-----example 2-----\n",
    "def add_integers(x, y):\n",
    "    z = x + y\n",
    "    print(z) # return z\n",
    "    \n",
    "add_integers(2, 3)   \n",
    "add_integers('2', '3')   "
   ]
  },
  {
   "cell_type": "markdown",
   "metadata": {},
   "source": [
    "**Note:** The first example behaves exactly as intended but the second example returns a misleading result. We need to incorporate error handling to prevent the second scenario from returning an output.  "
   ]
  },
  {
   "cell_type": "markdown",
   "metadata": {},
   "source": [
    "## Global versus local variable scope     \n",
    "\n",
    "A variable's scope refers to the range of the script and environment where it is visible.   \n",
    "\n",
    "**Global variable**- a variable that is visible in every function i.e. modifications to it are permanent and visible to every function.    \n",
    "**Local variable** - a variable with limited scope i.e. it only exists within the block of code that it is declared in. \n",
    "\n",
    "We previously learnt that a consequence of for loops is that variables are globally assigned and retain their assignment following the completion of the for loop. In contrast, variables found within functions are only assigned locally within the function and do not exist in the global environment.  "
   ]
  },
  {
   "cell_type": "code",
   "execution_count": 47,
   "metadata": {},
   "outputs": [
    {
     "name": "stdout",
     "output_type": "stream",
     "text": [
      "['A', 'L', 'P', 'H', 'A', 'B', 'E', 'T']\n",
      "T\n"
     ]
    }
   ],
   "source": [
    "#-----example 1----- \n",
    "list_1 = list() # specify list outside for loop\n",
    "word = \"alphabet\" # specify container outside for loop\n",
    "\n",
    "for letter in word: \n",
    "    L = letter.upper()\n",
    "    list_1.append(L)  \n",
    "    \n",
    "print(list_1)\n",
    "print(L) \n",
    "\n",
    "# warning: L is also globally assigned as 'T'"
   ]
  },
  {
   "cell_type": "code",
   "execution_count": 81,
   "metadata": {},
   "outputs": [
    {
     "name": "stdout",
     "output_type": "stream",
     "text": [
      "3\n",
      "100\n"
     ]
    }
   ],
   "source": [
    "#-----example 2-----\n",
    "x = 1\n",
    "y = 2\n",
    "z = 100\n",
    "\n",
    "def add_integers(x, y):\n",
    "    z = x + y\n",
    "    print(z) \n",
    "\n",
    "add_integers(x, y) \n",
    "print(z) \n",
    "\n",
    "# evaluating a function does not change the global assignment for z    "
   ]
  },
  {
   "cell_type": "code",
   "execution_count": 105,
   "metadata": {},
   "outputs": [
    {
     "name": "stdout",
     "output_type": "stream",
     "text": [
      "[1, 2, 3, 5]\n"
     ]
    }
   ],
   "source": [
    "#-----example 3----- \n",
    "test = [1, 2, 3] # global variable here\n",
    "\n",
    "def add_to_list(list, x):\n",
    "    list.append(x)  \n",
    "    \n",
    "add_to_list(test, 5)\n",
    "print(test)  \n",
    "\n",
    "# we can also change a global variable using a function\n",
    "# but the syntax denoting the expected output is not completely clear "
   ]
  },
  {
   "cell_type": "markdown",
   "metadata": {},
   "source": [
    "## Using `return()` to output variables   "
   ]
  },
  {
   "cell_type": "markdown",
   "metadata": {},
   "source": [
    "When we evaluate a function, we are only performing an operation locally on variables inside the function.      \n",
    "To output a globally assignable variable, we should explicitly **return** an output that we can then assign globally.     "
   ]
  },
  {
   "cell_type": "code",
   "execution_count": 79,
   "metadata": {},
   "outputs": [
    {
     "name": "stdout",
     "output_type": "stream",
     "text": [
      "7\n",
      "None\n"
     ]
    }
   ],
   "source": [
    "#-----example 1-----\n",
    "x = 3\n",
    "y = 4\n",
    "\n",
    "def add_integers(x, y):\n",
    "    z = x + y\n",
    "    print(z) # prints z locally  \n",
    "    \n",
    "add_integers(x, y)\n",
    "print(z) \n",
    "\n",
    "# variable z does not exist globally"
   ]
  },
  {
   "cell_type": "code",
   "execution_count": 80,
   "metadata": {},
   "outputs": [
    {
     "name": "stdout",
     "output_type": "stream",
     "text": [
      "7\n",
      "None\n"
     ]
    }
   ],
   "source": [
    "#-----example 2-----  \n",
    "z = add_integers(x, y)\n",
    "print(z) \n",
    "\n",
    "# z is None i.e. it still does not exist globally "
   ]
  },
  {
   "cell_type": "code",
   "execution_count": 83,
   "metadata": {
    "scrolled": true
   },
   "outputs": [
    {
     "name": "stdout",
     "output_type": "stream",
     "text": [
      "7\n"
     ]
    }
   ],
   "source": [
    "#-----example 3-----\n",
    "x = 3\n",
    "y = 4\n",
    "\n",
    "def add_integers(x, y):\n",
    "    z = x + y\n",
    "    return z  \n",
    "    \n",
    "z = add_integers(x, y)\n",
    "print(z) # output z can be assigned globally "
   ]
  },
  {
   "cell_type": "markdown",
   "metadata": {},
   "source": [
    "**Note:** In Python, we can also return multiple items using the `return x, y ,z` instead of limiting ourselves to `return(x)`. We can also return the output as a list, dictionary or Pandas DataFrame etc.      "
   ]
  },
  {
   "cell_type": "code",
   "execution_count": 107,
   "metadata": {},
   "outputs": [
    {
     "name": "stdout",
     "output_type": "stream",
     "text": [
      "[True, False]\n",
      "[True, True]\n"
     ]
    }
   ],
   "source": [
    "#-----example 4-----\n",
    "def numerical_check(x, y):\n",
    "    num_list = []\n",
    "    if isinstance(x, (int, float)): \n",
    "        num_list.append(True)\n",
    "    else: \n",
    "        num_list.append(False)\n",
    "    if isinstance(y, (int, float)): \n",
    "        num_list.append(True)\n",
    "    else: \n",
    "        num_list.append(False)\n",
    "    return(num_list)\n",
    "\n",
    "check_1 = numerical_check(5,'5')                  \n",
    "check_2 = numerical_check(5,5.0)      \n",
    "\n",
    "print(check_1)\n",
    "print(check_2)"
   ]
  },
  {
   "cell_type": "markdown",
   "metadata": {},
   "source": [
    "## Setting argument defaults    \n",
    "\n",
    "The order of function arguments is non-default (i.e. compulsory) arguments before default arguments.     \n",
    "We can assign default parameters for arguments using `=`.      \n",
    "\n",
    "**Note:** When creating a function with non-default and default argument parameters, Python requires us to specify the non-default argument parameters first. This is different to R, which allows us to input function arguments in any chosen order, as long as we provide the argument name.   "
   ]
  },
  {
   "cell_type": "code",
   "execution_count": 120,
   "metadata": {},
   "outputs": [
    {
     "name": "stdout",
     "output_type": "stream",
     "text": [
      "knockknock on the steel_door\n"
     ]
    }
   ],
   "source": [
    "#-----example 1----- \n",
    "def knock_door(door, times = 2):\n",
    "    knocks = \"knock\" * times \n",
    "    print(\"{} on the {}\".format(knocks, door))  \n",
    "    \n",
    "# knock_door(times = 3, \"wooden door\")\n",
    "# SyntaxError: positional argument follows keyword argument  \n",
    "\n",
    "knock_door(\"steel_door\")"
   ]
  },
  {
   "cell_type": "markdown",
   "metadata": {},
   "source": [
    "## Specifying user inputs for inputs   \n",
    "\n",
    "One of the unique features of Python over R is that you can also prompt users to type in an input.    \n",
    "\n",
    "The syntax for programming a user input is:   \n",
    "\n",
    "+ variable_name = **input(**'Optional message displayed'**)**    \n",
    "\n",
    "**Note:** The `input()` function will automatically convert a user input into a string type element. "
   ]
  },
  {
   "cell_type": "code",
   "execution_count": 126,
   "metadata": {},
   "outputs": [],
   "source": [
    "#-----example 1-----\n",
    "def say_hello():\n",
    "    name = input(\"What is your name?\")\n",
    "    greeting = print(\"Welcome to Python, {}!\".format(name)) \n",
    "    return(greeting)  "
   ]
  },
  {
   "cell_type": "code",
   "execution_count": 127,
   "metadata": {
    "scrolled": true
   },
   "outputs": [
    {
     "name": "stdout",
     "output_type": "stream",
     "text": [
      "What is your name?Erika\n",
      "Welcome to Python, Erika!\n"
     ]
    }
   ],
   "source": [
    "#-----evaluate example 1-----\n",
    "say_hello()"
   ]
  },
  {
   "cell_type": "markdown",
   "metadata": {},
   "source": [
    "### User input challenge 1  \n",
    "\n",
    "Create a randomly generated list, with a length between 10 and 100 that is specified by user input.   \n",
    "Using this list, write a function that returns another sorted list containing only unique values.   "
   ]
  },
  {
   "cell_type": "code",
   "execution_count": 172,
   "metadata": {},
   "outputs": [
    {
     "name": "stdout",
     "output_type": "stream",
     "text": [
      "Choose a length between 10 and 10012\n",
      "Choose a length between 10 and 100\n",
      "Original list: [12, 6, 6, 11, 10, 5, 9, 2, 11, 4, 11, 3, 9]\n",
      "Unique list: {2, 3, 4, 5, 6, 9, 10, 11, 12}\n"
     ]
    }
   ],
   "source": [
    "#-----challenge 1-----\n",
    "import numpy as np  \n",
    "\n",
    "# create a randomly generated list with length specified by user input\n",
    "\n",
    "list_1 = list()\n",
    "list_length = input(\"Choose a length between 10 and 100\")  \n",
    "list_length = int(list_length)\n",
    "\n",
    "while len(list_1) <= list_length: \n",
    "    value = rng.integers(1, 15+1)\n",
    "    list_1.append(value)   \n",
    "else:\n",
    "    print(\"Choose a length between 10 and 100\")\n",
    "\n",
    "# write function that returns a sorted list of unique values   \n",
    "\n",
    "def return_unique_list(list_1):\n",
    "    list_2 = list_1.copy()\n",
    "    set_1 = set(list_2)\n",
    "    return(set_1)\n",
    "\n",
    "print(\"Original list: {}\".format(list_1))\n",
    "print(\"Unique list: {}\".format(return_unique_list(list_1)))"
   ]
  },
  {
   "cell_type": "markdown",
   "metadata": {},
   "source": [
    "# Error handling   "
   ]
  }
 ],
 "metadata": {
  "kernelspec": {
   "display_name": "Python 3",
   "language": "python",
   "name": "python3"
  },
  "language_info": {
   "codemirror_mode": {
    "name": "ipython",
    "version": 3
   },
   "file_extension": ".py",
   "mimetype": "text/x-python",
   "name": "python",
   "nbconvert_exporter": "python",
   "pygments_lexer": "ipython3",
   "version": "3.7.1"
  }
 },
 "nbformat": 4,
 "nbformat_minor": 2
}
