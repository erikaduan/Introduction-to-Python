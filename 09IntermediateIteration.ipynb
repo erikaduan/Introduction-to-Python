{
 "cells": [
  {
   "cell_type": "markdown",
   "metadata": {},
   "source": [
    "### Python Review Challenge\n",
    "**Step 1:** We have a lab machine read out a list of lists of numbers, and we want to get the number at index j in the list at index i and assign it a variable name.  \n",
    "**Step 2:** I want you to print out the variable data, the type of data, and the number of characters in the data point.  \n",
    "**(Extra Credit):** Print out the number of digits before and after the decimal if it's a float."
   ]
  },
  {
   "cell_type": "code",
   "execution_count": 2,
   "metadata": {},
   "outputs": [],
   "source": [
    "machine_readout=[[2,3.5,7,8.5,30,10000],[17,14,6,8,1291099.3,],[70,50,34,5,6,12.2,777],[87,92,45,67,66.66,555]]\n",
    "# the two indices I want you to use\n",
    "i=1 # tells you which list to extract from machine readout\n",
    "j=4 #which index in that sublist"
   ]
  },
  {
   "cell_type": "code",
   "execution_count": 10,
   "metadata": {},
   "outputs": [
    {
     "name": "stdout",
     "output_type": "stream",
     "text": [
      "1291099.3\n"
     ]
    }
   ],
   "source": [
    "j_i = machine_readout[1][4] #can also use machine_readout[i][j]\n",
    "print(j_i)"
   ]
  },
  {
   "cell_type": "code",
   "execution_count": 11,
   "metadata": {},
   "outputs": [
    {
     "data": {
      "text/plain": [
       "float"
      ]
     },
     "execution_count": 11,
     "metadata": {},
     "output_type": "execute_result"
    }
   ],
   "source": [
    "type(j_i)"
   ]
  },
  {
   "cell_type": "code",
   "execution_count": 25,
   "metadata": {},
   "outputs": [
    {
     "name": "stdout",
     "output_type": "stream",
     "text": [
      "1291099.3\n"
     ]
    }
   ],
   "source": [
    "len(str(j_i))\n",
    "print(str(j_i))"
   ]
  },
  {
   "cell_type": "markdown",
   "metadata": {},
   "source": [
    "### Intermediate iterations  \n",
    "The general structure of a 'for loop' looks like this:  \n",
    "**for variable in collection: action(variable)**  \n"
   ]
  },
  {
   "cell_type": "code",
   "execution_count": 32,
   "metadata": {},
   "outputs": [
    {
     "name": "stdout",
     "output_type": "stream",
     "text": [
      "Jon\n",
      "a\n",
      "b\n",
      "c\n",
      "after the loop, name is c\n"
     ]
    }
   ],
   "source": [
    "name = \"Jon\"\n",
    "print(name)\n",
    "\n",
    "# This is going to re-write \"name\"\n",
    "for name in 'abc':\n",
    "    print(name)\n",
    "\n",
    "print('after the loop, name is', name)"
   ]
  },
  {
   "cell_type": "code",
   "execution_count": 34,
   "metadata": {},
   "outputs": [
    {
     "name": "stdout",
     "output_type": "stream",
     "text": [
      "not a string 1\n",
      "not a string 3\n",
      "its a string with length 4\n",
      "done with loop!\n"
     ]
    },
    {
     "data": {
      "text/plain": [
       "'This'"
      ]
     },
     "execution_count": 34,
     "metadata": {},
     "output_type": "execute_result"
    }
   ],
   "source": [
    "# We can do this with both lists\n",
    "p_list = [1,3,'This']\n",
    "\n",
    "for p in p_list:\n",
    "    if type(p) is str: #notice that we used our str function without Parentheses to compare types!\n",
    "        print('its a string with length', len(p))\n",
    "    else:\n",
    "        print('not a string', p)\n",
    "print('done with loop!')\n",
    "p"
   ]
  },
  {
   "cell_type": "markdown",
   "metadata": {},
   "source": [
    "**Range: quick and dirty iterable for the hard working Pythoneer**  \n",
    "Because sometimes you still want to loop when you don't have a list or string, or maybe you want to skip a few items in a list?"
   ]
  },
  {
   "cell_type": "code",
   "execution_count": 39,
   "metadata": {},
   "outputs": [
    {
     "name": "stdout",
     "output_type": "stream",
     "text": [
      "2\n",
      "3\n",
      "4\n",
      "5\n"
     ]
    }
   ],
   "source": [
    "for num in range(2,5+1):\n",
    "    print(num)"
   ]
  },
  {
   "cell_type": "code",
   "execution_count": 41,
   "metadata": {},
   "outputs": [
    {
     "name": "stdout",
     "output_type": "stream",
     "text": [
      "0\n",
      "1\n",
      "2\n",
      "3\n",
      "4\n",
      "5\n",
      "6\n",
      "7\n",
      "8\n",
      "9\n",
      "10\n"
     ]
    }
   ],
   "source": [
    "for num in range(10+1):\n",
    "    print(num) \n",
    "    \n",
    "# output starts at 0 and ends at 10"
   ]
  },
  {
   "cell_type": "code",
   "execution_count": 42,
   "metadata": {},
   "outputs": [
    {
     "name": "stdout",
     "output_type": "stream",
     "text": [
      "[5, 6, 7, 8, 9]\n"
     ]
    }
   ],
   "source": [
    "# if we look at this as a list we get:\n",
    "rangelist = []\n",
    "for num in range(5,10):\n",
    "    rangelist.append(num)\n",
    "    \n",
    "print(rangelist)"
   ]
  },
  {
   "cell_type": "markdown",
   "metadata": {},
   "source": [
    "**If we want to skip a few numbers, we can also use range.**"
   ]
  },
  {
   "cell_type": "code",
   "execution_count": 44,
   "metadata": {},
   "outputs": [
    {
     "name": "stdout",
     "output_type": "stream",
     "text": [
      "[10, 12, 14, 16, 18, 20, 22, 24, 26, 28]\n"
     ]
    }
   ],
   "source": [
    "#3 values = range(start, stop, step)\n",
    "rangelist_2 = []\n",
    "for num in range(10,30,2): #skips by 2\n",
    "    rangelist_2.append(num)\n",
    "\n",
    "print(rangelist_2)"
   ]
  },
  {
   "cell_type": "markdown",
   "metadata": {},
   "source": [
    "By combinging range() with our len() function, we've now got a convenient way to iterate over the length of our lists."
   ]
  },
  {
   "cell_type": "code",
   "execution_count": 45,
   "metadata": {},
   "outputs": [
    {
     "name": "stdout",
     "output_type": "stream",
     "text": [
      "index i = 0\n",
      "odds at i = 1\n",
      "index i = 2\n",
      "odds at i = 5\n"
     ]
    }
   ],
   "source": [
    "# from 0 to 3 (non inclusive)\n",
    "odds = [1,3,5,7]\n",
    "\n",
    "for i in range(0,len(odds),2):\n",
    "    print(\"index i =\",i)\n",
    "    print(\"odds at i =\",odds[i])"
   ]
  },
  {
   "cell_type": "code",
   "execution_count": 46,
   "metadata": {},
   "outputs": [
    {
     "name": "stdout",
     "output_type": "stream",
     "text": [
      "T 0\n",
      "s 3\n",
      "I 6\n",
      "  9\n",
      "t 12\n",
      "n 15\n"
     ]
    }
   ],
   "source": [
    "# We can do the same with strings two, another iterable object\n",
    "string = \"This. Is. Python!\"\n",
    "for l in range(0,len(string),3):\n",
    "    print(string[l], l)"
   ]
  },
  {
   "cell_type": "markdown",
   "metadata": {},
   "source": [
    "Range is the simple and most elegant iterable operator, but there are a whole heap of premade iterators that can make your life easier.  \n",
    "https://docs.python.org/3.6/library/itertools.html"
   ]
  },
  {
   "cell_type": "code",
   "execution_count": 47,
   "metadata": {},
   "outputs": [
    {
     "name": "stdout",
     "output_type": "stream",
     "text": [
      "('A', 'B')\n",
      "('A', 'C')\n",
      "('A', 'd')\n",
      "('A', 'e')\n",
      "('B', 'C')\n",
      "('B', 'd')\n",
      "('B', 'e')\n",
      "('C', 'd')\n",
      "('C', 'e')\n",
      "('d', 'e')\n"
     ]
    }
   ],
   "source": [
    "# here is an example\n",
    "import itertools\n",
    "\n",
    "combs = itertools.combinations('ABCde',2)\n",
    "\n",
    "for combi in combs:\n",
    "    print(combi)"
   ]
  },
  {
   "cell_type": "markdown",
   "metadata": {},
   "source": [
    "#### Challenge:  \n",
    "In your groups (or individually), write a program which will find all such numbers which are divisible by 7 but are not a multiple of 5, between 2000 and 3200 (both included). The numbers obtained should be printed as a list.\n",
    "Hint: This will require to you combine range with some modulo conditions."
   ]
  },
  {
   "cell_type": "code",
   "execution_count": 68,
   "metadata": {},
   "outputs": [
    {
     "name": "stdout",
     "output_type": "stream",
     "text": [
      "2002\n",
      "2009\n",
      "2016\n",
      "2023\n",
      "2037\n",
      "2044\n",
      "2051\n",
      "2058\n",
      "2072\n",
      "2079\n",
      "2086\n",
      "2093\n",
      "2107\n",
      "2114\n",
      "2121\n",
      "2128\n",
      "2142\n",
      "2149\n",
      "2156\n",
      "2163\n",
      "2177\n",
      "2184\n",
      "2191\n",
      "2198\n",
      "2212\n",
      "2219\n",
      "2226\n",
      "2233\n",
      "2247\n",
      "2254\n",
      "2261\n",
      "2268\n",
      "2282\n",
      "2289\n",
      "2296\n",
      "2303\n",
      "2317\n",
      "2324\n",
      "2331\n",
      "2338\n",
      "2352\n",
      "2359\n",
      "2366\n",
      "2373\n",
      "2387\n",
      "2394\n",
      "2401\n",
      "2408\n",
      "2422\n",
      "2429\n",
      "2436\n",
      "2443\n",
      "2457\n",
      "2464\n",
      "2471\n",
      "2478\n",
      "2492\n",
      "2499\n",
      "2506\n",
      "2513\n",
      "2527\n",
      "2534\n",
      "2541\n",
      "2548\n",
      "2562\n",
      "2569\n",
      "2576\n",
      "2583\n",
      "2597\n",
      "2604\n",
      "2611\n",
      "2618\n",
      "2632\n",
      "2639\n",
      "2646\n",
      "2653\n",
      "2667\n",
      "2674\n",
      "2681\n",
      "2688\n",
      "2702\n",
      "2709\n",
      "2716\n",
      "2723\n",
      "2737\n",
      "2744\n",
      "2751\n",
      "2758\n",
      "2772\n",
      "2779\n",
      "2786\n",
      "2793\n",
      "2807\n",
      "2814\n",
      "2821\n",
      "2828\n",
      "2842\n",
      "2849\n",
      "2856\n",
      "2863\n",
      "2877\n",
      "2884\n",
      "2891\n",
      "2898\n",
      "2912\n",
      "2919\n",
      "2926\n",
      "2933\n",
      "2947\n",
      "2954\n",
      "2961\n",
      "2968\n",
      "2982\n",
      "2989\n",
      "2996\n",
      "3003\n",
      "3017\n",
      "3024\n",
      "3031\n",
      "3038\n",
      "3052\n",
      "3059\n",
      "3066\n",
      "3073\n",
      "3087\n",
      "3094\n",
      "3101\n",
      "3108\n",
      "3122\n",
      "3129\n",
      "3136\n",
      "3143\n",
      "3157\n",
      "3164\n",
      "3171\n",
      "3178\n",
      "3192\n",
      "3199\n",
      "[2002, 2009, 2016, 2023, 2037, 2044, 2051, 2058, 2072, 2079, 2086, 2093, 2107, 2114, 2121, 2128, 2142, 2149, 2156, 2163, 2177, 2184, 2191, 2198, 2212, 2219, 2226, 2233, 2247, 2254, 2261, 2268, 2282, 2289, 2296, 2303, 2317, 2324, 2331, 2338, 2352, 2359, 2366, 2373, 2387, 2394, 2401, 2408, 2422, 2429, 2436, 2443, 2457, 2464, 2471, 2478, 2492, 2499, 2506, 2513, 2527, 2534, 2541, 2548, 2562, 2569, 2576, 2583, 2597, 2604, 2611, 2618, 2632, 2639, 2646, 2653, 2667, 2674, 2681, 2688, 2702, 2709, 2716, 2723, 2737, 2744, 2751, 2758, 2772, 2779, 2786, 2793, 2807, 2814, 2821, 2828, 2842, 2849, 2856, 2863, 2877, 2884, 2891, 2898, 2912, 2919, 2926, 2933, 2947, 2954, 2961, 2968, 2982, 2989, 2996, 3003, 3017, 3024, 3031, 3038, 3052, 3059, 3066, 3073, 3087, 3094, 3101, 3108, 3122, 3129, 3136, 3143, 3157, 3164, 3171, 3178, 3192, 3199]\n",
      "Done!\n"
     ]
    }
   ],
   "source": [
    "num_list = []\n",
    "for num in range(2000, 3200+1):\n",
    "    if (num%7 == 0) & (num%5 != 0):\n",
    "        num_list.append(num)\n",
    "\n",
    "print(num_list)\n",
    "print(\"Done!\")\n"
   ]
  },
  {
   "cell_type": "markdown",
   "metadata": {},
   "source": [
    "#### Iterating Over Dictionaries\n",
    "Because dictionaries actually exist as key and value pairs, trying to loop over them in the same way that we would a list doesn't quite work."
   ]
  },
  {
   "cell_type": "code",
   "execution_count": 90,
   "metadata": {},
   "outputs": [],
   "source": [
    "# dictionary\n",
    "stats = {'mean':5.5,'Stdev':0.5, 'median':5,'mode':4}"
   ]
  },
  {
   "cell_type": "code",
   "execution_count": 84,
   "metadata": {},
   "outputs": [
    {
     "name": "stdout",
     "output_type": "stream",
     "text": [
      "mean\n",
      "Stdev\n",
      "median\n",
      "mode\n"
     ]
    }
   ],
   "source": [
    "# This will only give me the keys!!\n",
    "for item in stats:\n",
    "    print(item)"
   ]
  },
  {
   "cell_type": "code",
   "execution_count": 98,
   "metadata": {},
   "outputs": [
    {
     "name": "stdout",
     "output_type": "stream",
     "text": [
      "('mean', 5.5)\n",
      "('Stdev', 0.5)\n",
      "('median', 5)\n",
      "('mode', 4)\n"
     ]
    }
   ],
   "source": [
    "for item in stats.items(): #specify .items or .values or .keys if object is a dictionary\n",
    "    print(item)"
   ]
  },
  {
   "cell_type": "code",
   "execution_count": 97,
   "metadata": {},
   "outputs": [
    {
     "name": "stdout",
     "output_type": "stream",
     "text": [
      "5.5\n",
      "0.5\n",
      "5\n",
      "4\n"
     ]
    }
   ],
   "source": [
    "for item in stats.values():\n",
    "    print(item)"
   ]
  },
  {
   "cell_type": "markdown",
   "metadata": {},
   "source": [
    "#### Challenge  \n",
    "\n",
    "We want to create a dictionary that counts how many times a word occurs inside a list.  \n",
    "For example, where sentence = ['list', 'of', 'words', 'list', \"!\"]  \n",
    "\n",
    "\n",
    "The dictionary we should get back would be:  \n",
    "counts = {'list' : 2, \"of\" : 1, \"words\": 1, \"!\": 1}  \n",
    "\n",
    "Within the code, we'd have to run through the words in the sentence, and increment the dictionary count for that word by 1 each time, like so:  \n",
    "counts[\"of\"] += 1  \n",
    "In your group, try to iterate over the list sentence, defined below, to create your own counts dictionary. Output the word which occured the most amount of times."
   ]
  },
  {
   "cell_type": "code",
   "execution_count": 101,
   "metadata": {},
   "outputs": [
    {
     "name": "stdout",
     "output_type": "stream",
     "text": [
      "{'How': 2, 'many': 4, 'words': 2, 'is': 2, 'this': 2, 'so': 2, 'far': 4, '?': 2, '!': 6, 'Too': 2, 'I': 2, 'say': 2, 'Computer': 2, 'science': 2, 'has': 2, 'gone': 2, 'too': 2}\n"
     ]
    }
   ],
   "source": [
    "sentence = ['How', 'many', 'words', 'is', 'this', 'so', 'far', '?', \"!\", 'Too', 'many','I', \"say\", \"!\", 'Computer', 'science', 'has', 'gone', 'too', 'far', '!']\n",
    "\n",
    "counts = {}\n",
    "for word in sentence:\n",
    "    if word not in counts:\n",
    "        counts[word] = 1\n",
    "    else:\n",
    "        counts[word] += 1 # i.e. += means x = x+1\n",
    "print(counts)\n"
   ]
  },
  {
   "cell_type": "markdown",
   "metadata": {},
   "source": [
    "#### While Loops\n",
    "The while statement allows you to repeatedly execute a block of statements as long as a condition is true.  \n",
    "A while statement can have an optional else clause.\n",
    "While loops are great when you don't actually know how many times you want to repeat you block of code."
   ]
  },
  {
   "cell_type": "markdown",
   "metadata": {},
   "source": [
    "The general structure of a for loop looks like this:    \n",
    "**while condition is True: action() #repeatedly**"
   ]
  },
  {
   "cell_type": "code",
   "execution_count": 104,
   "metadata": {},
   "outputs": [
    {
     "name": "stdout",
     "output_type": "stream",
     "text": [
      "n is less than ten n =  0\n",
      "n is less than ten n =  2\n",
      "n is less than ten n =  4\n",
      "n is less than ten n =  6\n",
      "n is less than ten n =  8\n"
     ]
    }
   ],
   "source": [
    "n = 0\n",
    "\n",
    "while n < 10:\n",
    "    print('n is less than ten', 'n = ', n)\n",
    "    n+=2# The same as n = n+1"
   ]
  },
  {
   "cell_type": "markdown",
   "metadata": {},
   "source": [
    "#### Challenge 11a\n",
    "We are going to go through the sequence of triangular numbers, and find how many steps we need to go through to get past a large, randomly assigned number.\n",
    "\n",
    "Hint: You will need to keep updating two number variables in the loop, the sum thats being added up, and the count of steps and adder."
   ]
  },
  {
   "cell_type": "code",
   "execution_count": 106,
   "metadata": {},
   "outputs": [
    {
     "name": "stdout",
     "output_type": "stream",
     "text": [
      "786736\n"
     ]
    }
   ],
   "source": [
    "# making us the random numbers\n",
    "from numpy import random\n",
    "num = random.randint(10000,1000000)\n",
    "\n",
    "print(num)"
   ]
  },
  {
   "cell_type": "code",
   "execution_count": 115,
   "metadata": {},
   "outputs": [
    {
     "name": "stdout",
     "output_type": "stream",
     "text": [
      "1 1\n",
      "2 3\n",
      "3 6\n",
      "4 10\n",
      "5 15\n",
      "6 21\n",
      "7 28\n",
      "8 36\n",
      "9 45\n",
      "10 55\n",
      "11 66\n",
      "12 78\n",
      "13 91\n",
      "14 105\n",
      "15 120\n",
      "16 136\n",
      "17 153\n",
      "18 171\n",
      "19 190\n",
      "20 210\n",
      "21 231\n",
      "22 253\n",
      "23 276\n",
      "24 300\n",
      "25 325\n",
      "26 351\n",
      "27 378\n",
      "28 406\n",
      "29 435\n",
      "30 465\n",
      "31 496\n",
      "32 528\n",
      "33 561\n",
      "34 595\n",
      "35 630\n",
      "36 666\n",
      "37 703\n",
      "38 741\n",
      "39 780\n",
      "40 820\n",
      "41 861\n",
      "42 903\n",
      "43 946\n",
      "44 990\n",
      "45 1035\n",
      "46 1081\n",
      "47 1128\n",
      "48 1176\n",
      "49 1225\n",
      "50 1275\n",
      "51 1326\n",
      "52 1378\n",
      "53 1431\n",
      "54 1485\n",
      "55 1540\n",
      "56 1596\n",
      "57 1653\n",
      "58 1711\n",
      "59 1770\n",
      "60 1830\n",
      "61 1891\n",
      "62 1953\n",
      "63 2016\n",
      "64 2080\n",
      "65 2145\n",
      "66 2211\n",
      "67 2278\n",
      "68 2346\n",
      "69 2415\n",
      "70 2485\n",
      "71 2556\n",
      "72 2628\n",
      "73 2701\n",
      "74 2775\n",
      "75 2850\n",
      "76 2926\n",
      "77 3003\n",
      "78 3081\n",
      "79 3160\n",
      "80 3240\n",
      "81 3321\n",
      "82 3403\n",
      "83 3486\n",
      "84 3570\n",
      "85 3655\n",
      "86 3741\n",
      "87 3828\n",
      "88 3916\n",
      "89 4005\n",
      "90 4095\n",
      "91 4186\n",
      "92 4278\n",
      "93 4371\n",
      "94 4465\n",
      "95 4560\n",
      "96 4656\n",
      "97 4753\n",
      "98 4851\n",
      "99 4950\n",
      "100 5050\n",
      "101 5151\n",
      "102 5253\n",
      "103 5356\n",
      "104 5460\n",
      "105 5565\n",
      "106 5671\n",
      "107 5778\n",
      "108 5886\n",
      "109 5995\n",
      "110 6105\n",
      "111 6216\n",
      "112 6328\n",
      "113 6441\n",
      "114 6555\n",
      "115 6670\n",
      "116 6786\n",
      "117 6903\n",
      "118 7021\n",
      "119 7140\n",
      "120 7260\n",
      "121 7381\n",
      "122 7503\n",
      "123 7626\n",
      "124 7750\n",
      "125 7875\n",
      "126 8001\n",
      "127 8128\n",
      "128 8256\n",
      "129 8385\n",
      "130 8515\n",
      "131 8646\n",
      "132 8778\n",
      "133 8911\n",
      "134 9045\n",
      "135 9180\n",
      "136 9316\n",
      "137 9453\n",
      "138 9591\n",
      "139 9730\n",
      "140 9870\n",
      "141 10011\n",
      "142 10153\n",
      "143 10296\n",
      "144 10440\n",
      "145 10585\n",
      "146 10731\n",
      "147 10878\n",
      "148 11026\n",
      "149 11175\n",
      "150 11325\n",
      "151 11476\n",
      "152 11628\n",
      "153 11781\n",
      "154 11935\n",
      "155 12090\n",
      "156 12246\n",
      "157 12403\n",
      "158 12561\n",
      "159 12720\n",
      "160 12880\n",
      "161 13041\n",
      "162 13203\n",
      "163 13366\n",
      "164 13530\n",
      "165 13695\n",
      "166 13861\n",
      "167 14028\n",
      "168 14196\n",
      "169 14365\n",
      "170 14535\n",
      "171 14706\n",
      "172 14878\n",
      "173 15051\n",
      "174 15225\n",
      "175 15400\n",
      "176 15576\n",
      "177 15753\n",
      "178 15931\n",
      "179 16110\n",
      "180 16290\n",
      "181 16471\n",
      "182 16653\n",
      "183 16836\n",
      "184 17020\n",
      "185 17205\n",
      "186 17391\n",
      "187 17578\n",
      "188 17766\n",
      "189 17955\n",
      "190 18145\n",
      "191 18336\n",
      "192 18528\n",
      "193 18721\n",
      "194 18915\n",
      "195 19110\n",
      "196 19306\n",
      "197 19503\n",
      "198 19701\n",
      "199 19900\n",
      "200 20100\n",
      "201 20301\n",
      "202 20503\n",
      "203 20706\n",
      "204 20910\n",
      "205 21115\n",
      "206 21321\n",
      "207 21528\n",
      "208 21736\n",
      "209 21945\n",
      "210 22155\n",
      "211 22366\n",
      "212 22578\n",
      "213 22791\n",
      "214 23005\n",
      "215 23220\n",
      "216 23436\n",
      "217 23653\n",
      "218 23871\n",
      "219 24090\n",
      "220 24310\n",
      "221 24531\n",
      "222 24753\n",
      "223 24976\n",
      "224 25200\n",
      "225 25425\n",
      "226 25651\n",
      "227 25878\n",
      "228 26106\n",
      "229 26335\n",
      "230 26565\n",
      "231 26796\n",
      "232 27028\n",
      "233 27261\n",
      "234 27495\n",
      "235 27730\n",
      "236 27966\n",
      "237 28203\n",
      "238 28441\n",
      "239 28680\n",
      "240 28920\n",
      "241 29161\n",
      "242 29403\n",
      "243 29646\n",
      "243\n"
     ]
    }
   ],
   "source": [
    "num = 29484\n",
    "#write a sequence of triangle numbers\n",
    "\n",
    "t = 0\n",
    "running_sum = 0\n",
    "\n",
    "while running_sum < num:\n",
    "    t = t+1\n",
    "    running_sum += t\n",
    "    print(t, running_sum)\n",
    "print(t)"
   ]
  },
  {
   "cell_type": "markdown",
   "metadata": {},
   "source": [
    "#### Challenge\n",
    "\n",
    "Using a while loop, write a program that tells you how many iterations of the fibonacci sequence it takes to get to a randomly selected number greater than 10,000."
   ]
  },
  {
   "cell_type": "code",
   "execution_count": 116,
   "metadata": {},
   "outputs": [
    {
     "name": "stdout",
     "output_type": "stream",
     "text": [
      "13\n"
     ]
    }
   ],
   "source": [
    "num = 3548\n",
    "\n",
    "a = 0\n",
    "b = 1\n",
    "total = 0\n",
    "i = 0 #iteration\n",
    "\n",
    "while total < num:\n",
    "    total = a + b\n",
    "    a = b\n",
    "    b = a + b\n",
    "    i +=1\n",
    "print(i)\n",
    "\n"
   ]
  },
  {
   "cell_type": "markdown",
   "metadata": {},
   "source": [
    "General syntax:\n",
    "new_list = [expression(x) for x in old_list]\n",
    "the equivalent to\n",
    "\n",
    "new_list = []\n",
    "for x in oldlist:\n",
    "    new_list.append(expression(i))"
   ]
  },
  {
   "cell_type": "code",
   "execution_count": null,
   "metadata": {},
   "outputs": [],
   "source": []
  }
 ],
 "metadata": {
  "kernelspec": {
   "display_name": "Python 3",
   "language": "python",
   "name": "python3"
  },
  "language_info": {
   "codemirror_mode": {
    "name": "ipython",
    "version": 3
   },
   "file_extension": ".py",
   "mimetype": "text/x-python",
   "name": "python",
   "nbconvert_exporter": "python",
   "pygments_lexer": "ipython3",
   "version": "3.7.1"
  }
 },
 "nbformat": 4,
 "nbformat_minor": 2
}
