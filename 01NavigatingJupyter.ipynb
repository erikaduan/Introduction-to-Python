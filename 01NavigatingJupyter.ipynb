{
 "cells": [
  {
   "cell_type": "markdown",
   "metadata": {},
   "source": [
    "Welcome to **Jupyter notebooks**. \n",
    "Jupyter notebooks are consisted of many different types of cells:\n",
    "+ Toggle between edit (enter) or command (esc) or markdown (m)\n",
    "+ Each cell can run its individual code\n",
    "+ During edit mode, x|c|v|d commands can be used to manipulate individual cells\n",
    "+ Create new cells using a|b and navigate through them using shift + enter or up | downs\n",
    "+ Also use control + enter to run cells"
   ]
  },
  {
   "cell_type": "code",
   "execution_count": 1,
   "metadata": {},
   "outputs": [
    {
     "data": {
      "text/plain": [
       "[1, 2, 3]"
      ]
     },
     "execution_count": 1,
     "metadata": {},
     "output_type": "execute_result"
    }
   ],
   "source": [
    "b = [1,2,3] #use square brackets to store data in a list\n",
    "b #each cell prints the last output"
   ]
  },
  {
   "cell_type": "code",
   "execution_count": 1,
   "metadata": {},
   "outputs": [
    {
     "name": "stdout",
     "output_type": "stream",
     "text": [
      "[[14, 15, 16], 5, 6, 7]\n"
     ]
    },
    {
     "data": {
      "text/plain": [
       "15"
      ]
     },
     "execution_count": 1,
     "metadata": {},
     "output_type": "execute_result"
    }
   ],
   "source": [
    "c = [[14, 15, 16], 5, 6, 7]\n",
    "print(c) #print allows output printing during any stage of coding in a cell\n",
    "c[0][1]"
   ]
  },
  {
   "cell_type": "markdown",
   "metadata": {},
   "source": [
    "**Python can be used as a calculator when working with numbers**\n",
    "+ Addition\n",
    "+ Work with negative numbers\n",
    "+ Multiply and divide (following left to right rules, higher powers or multiplication and division first)\n",
    "+ Square numbers using the power command **2 (i.e. ** = to the power of)  \n",
    "\n",
    "Note: Numbers can be either integers (faster, no decimals) or floats (slower, decimals)."
   ]
  },
  {
   "cell_type": "code",
   "execution_count": 10,
   "metadata": {},
   "outputs": [
    {
     "data": {
      "text/plain": [
       "16"
      ]
     },
     "execution_count": 10,
     "metadata": {},
     "output_type": "execute_result"
    }
   ],
   "source": [
    "4 + 12"
   ]
  },
  {
   "cell_type": "code",
   "execution_count": 11,
   "metadata": {},
   "outputs": [
    {
     "data": {
      "text/plain": [
       "5"
      ]
     },
     "execution_count": 11,
     "metadata": {},
     "output_type": "execute_result"
    }
   ],
   "source": [
    "-5 + 10"
   ]
  },
  {
   "cell_type": "code",
   "execution_count": 12,
   "metadata": {},
   "outputs": [
    {
     "data": {
      "text/plain": [
       "10.0"
      ]
     },
     "execution_count": 12,
     "metadata": {},
     "output_type": "execute_result"
    }
   ],
   "source": [
    "3 * 10 / 3"
   ]
  },
  {
   "cell_type": "code",
   "execution_count": 13,
   "metadata": {},
   "outputs": [
    {
     "data": {
      "text/plain": [
       "8"
      ]
     },
     "execution_count": 13,
     "metadata": {},
     "output_type": "execute_result"
    }
   ],
   "source": [
    "2**3 #to the power of 3"
   ]
  },
  {
   "cell_type": "markdown",
   "metadata": {},
   "source": [
    "*Some interesting mathematical functions also exist.*"
   ]
  },
  {
   "cell_type": "code",
   "execution_count": 22,
   "metadata": {},
   "outputs": [
    {
     "name": "stdout",
     "output_type": "stream",
     "text": [
      "2\n",
      "3\n",
      "2\n"
     ]
    }
   ],
   "source": [
    "#divide and floor (find smallest whole numeber?)\n",
    "print(7//3)\n",
    "print(10//3)\n",
    "print(10//4)"
   ]
  },
  {
   "cell_type": "code",
   "execution_count": 20,
   "metadata": {},
   "outputs": [
    {
     "data": {
      "text/plain": [
       "3.5"
      ]
     },
     "execution_count": 20,
     "metadata": {},
     "output_type": "execute_result"
    }
   ],
   "source": [
    "#compare with divide\n",
    "7/2"
   ]
  },
  {
   "cell_type": "code",
   "execution_count": 24,
   "metadata": {
    "scrolled": true
   },
   "outputs": [
    {
     "name": "stdout",
     "output_type": "stream",
     "text": [
      "0\n",
      "1\n"
     ]
    }
   ],
   "source": [
    "# % returns you the remainder amount after division\n",
    "print(6%2)\n",
    "print(6%5) # 6/5 = 1 times (but 1 is leftover)"
   ]
  },
  {
   "cell_type": "markdown",
   "metadata": {},
   "source": [
    "**Using character strings**  \n",
    "Words can also be added as strings, inside \"\" or ''.  \n",
    "Consistency is key: used '' or \"\" consistently.  \n",
    "Unlike R, word strings can be directly added or even multiplied. "
   ]
  },
  {
   "cell_type": "code",
   "execution_count": 27,
   "metadata": {},
   "outputs": [
    {
     "data": {
      "text/plain": [
       "'This is a word'"
      ]
     },
     "execution_count": 27,
     "metadata": {},
     "output_type": "execute_result"
    }
   ],
   "source": [
    "word = \"This is a word\"\n",
    "word"
   ]
  },
  {
   "cell_type": "code",
   "execution_count": 29,
   "metadata": {},
   "outputs": [
    {
     "data": {
      "text/plain": [
       "'Erika Mubby Duan'"
      ]
     },
     "execution_count": 29,
     "metadata": {},
     "output_type": "execute_result"
    }
   ],
   "source": [
    "my_name = \"Erika\" + \" \" + \"Mubby\" + \" \" + \"Duan\" #manually add spaces via \" \"\n",
    "my_name #do not use my.name annotation"
   ]
  },
  {
   "cell_type": "code",
   "execution_count": 30,
   "metadata": {},
   "outputs": [
    {
     "data": {
      "text/plain": [
       "'my precioussssss'"
      ]
     },
     "execution_count": 30,
     "metadata": {},
     "output_type": "execute_result"
    }
   ],
   "source": [
    "Gollum = \"my\" + \" \" + \"precious\" + \"s\"*5\n",
    "Gollum"
   ]
  },
  {
   "cell_type": "markdown",
   "metadata": {},
   "source": [
    "**Using functions**  \n",
    "Functions follow the general structure function(objects, arguments).\n",
    "Examples include:  \n",
    "+ type() is a useful function for knowing your data type.\n",
    "+ len() is like length() in R - finds the length of a string\n",
    "+ int() | str() | float () are forms of data coercion "
   ]
  },
  {
   "cell_type": "code",
   "execution_count": 36,
   "metadata": {},
   "outputs": [
    {
     "data": {
      "text/plain": [
       "str"
      ]
     },
     "execution_count": 36,
     "metadata": {},
     "output_type": "execute_result"
    }
   ],
   "source": [
    "type(\"Hobbit\")"
   ]
  },
  {
   "cell_type": "code",
   "execution_count": 37,
   "metadata": {},
   "outputs": [
    {
     "data": {
      "text/plain": [
       "float"
      ]
     },
     "execution_count": 37,
     "metadata": {},
     "output_type": "execute_result"
    }
   ],
   "source": [
    "type(1.5)"
   ]
  },
  {
   "cell_type": "code",
   "execution_count": 38,
   "metadata": {},
   "outputs": [
    {
     "data": {
      "text/plain": [
       "int"
      ]
     },
     "execution_count": 38,
     "metadata": {},
     "output_type": "execute_result"
    }
   ],
   "source": [
    "type(3**2)"
   ]
  },
  {
   "cell_type": "code",
   "execution_count": 39,
   "metadata": {},
   "outputs": [
    {
     "data": {
      "text/plain": [
       "23"
      ]
     },
     "execution_count": 39,
     "metadata": {},
     "output_type": "execute_result"
    }
   ],
   "source": [
    "len(\"I want a stringu pingu.\")"
   ]
  },
  {
   "cell_type": "code",
   "execution_count": 40,
   "metadata": {},
   "outputs": [
    {
     "data": {
      "text/plain": [
       "22"
      ]
     },
     "execution_count": 40,
     "metadata": {},
     "output_type": "execute_result"
    }
   ],
   "source": [
    "len(\"I want a string pingu.\")"
   ]
  },
  {
   "cell_type": "code",
   "execution_count": 41,
   "metadata": {},
   "outputs": [
    {
     "ename": "TypeError",
     "evalue": "object of type 'int' has no len()",
     "output_type": "error",
     "traceback": [
      "\u001b[1;31m---------------------------------------------------------------------------\u001b[0m",
      "\u001b[1;31mTypeError\u001b[0m                                 Traceback (most recent call last)",
      "\u001b[1;32m<ipython-input-41-56c20da22c95>\u001b[0m in \u001b[0;36m<module>\u001b[1;34m\u001b[0m\n\u001b[1;32m----> 1\u001b[1;33m \u001b[0mlen\u001b[0m\u001b[1;33m(\u001b[0m\u001b[1;36m5000\u001b[0m\u001b[1;33m)\u001b[0m\u001b[1;33m\u001b[0m\u001b[1;33m\u001b[0m\u001b[0m\n\u001b[0m",
      "\u001b[1;31mTypeError\u001b[0m: object of type 'int' has no len()"
     ]
    }
   ],
   "source": [
    "len(5000) #object of type 'int' has no len()"
   ]
  },
  {
   "cell_type": "code",
   "execution_count": 32,
   "metadata": {},
   "outputs": [
    {
     "data": {
      "text/plain": [
       "4"
      ]
     },
     "execution_count": 32,
     "metadata": {},
     "output_type": "execute_result"
    }
   ],
   "source": [
    "len(str(5000)) #5000 has been coerced into a string"
   ]
  },
  {
   "cell_type": "code",
   "execution_count": 33,
   "metadata": {},
   "outputs": [
    {
     "data": {
      "text/plain": [
       "3"
      ]
     },
     "execution_count": 33,
     "metadata": {},
     "output_type": "execute_result"
    }
   ],
   "source": [
    "int(3.4445) #coercing integers always rounds down to the nearest full integer"
   ]
  },
  {
   "cell_type": "code",
   "execution_count": 34,
   "metadata": {},
   "outputs": [
    {
     "data": {
      "text/plain": [
       "5.0"
      ]
     },
     "execution_count": 34,
     "metadata": {},
     "output_type": "execute_result"
    }
   ],
   "source": [
    "float(5) #retains decimals if present"
   ]
  },
  {
   "cell_type": "code",
   "execution_count": 35,
   "metadata": {},
   "outputs": [
    {
     "data": {
      "text/plain": [
       "2"
      ]
     },
     "execution_count": 35,
     "metadata": {},
     "output_type": "execute_result"
    }
   ],
   "source": [
    "int(1.0) + int(float(\"1.1\")) #int coercion forces float 1.1 into a 1"
   ]
  },
  {
   "cell_type": "markdown",
   "metadata": {},
   "source": [
    "**Navigating string specific functions**  \n",
    "+ To make everything uppercase, use .upper() \n",
    "    + Methods are functions specific to a certain type of object.\n",
    "    + Format follows object.methods(arguments)  \n",
    "+ Other examples exist [here](https://docs.python.org/3/library/stdtypes.html#string-methods).\n",
    "    + \"str\".capitalize\n",
    "    + \"str\".title"
   ]
  },
  {
   "cell_type": "code",
   "execution_count": 47,
   "metadata": {},
   "outputs": [
    {
     "ename": "NameError",
     "evalue": "name 'upper' is not defined",
     "output_type": "error",
     "traceback": [
      "\u001b[1;31m---------------------------------------------------------------------------\u001b[0m",
      "\u001b[1;31mNameError\u001b[0m                                 Traceback (most recent call last)",
      "\u001b[1;32m<ipython-input-47-64ec3f3d5149>\u001b[0m in \u001b[0;36m<module>\u001b[1;34m\u001b[0m\n\u001b[1;32m----> 1\u001b[1;33m \u001b[0mupper\u001b[0m\u001b[1;33m(\u001b[0m\u001b[1;34m\"Hallo World\"\u001b[0m\u001b[1;33m)\u001b[0m\u001b[1;33m\u001b[0m\u001b[1;33m\u001b[0m\u001b[0m\n\u001b[0m",
      "\u001b[1;31mNameError\u001b[0m: name 'upper' is not defined"
     ]
    }
   ],
   "source": [
    "upper(\"Hallo World\")"
   ]
  },
  {
   "cell_type": "code",
   "execution_count": 36,
   "metadata": {},
   "outputs": [
    {
     "data": {
      "text/plain": [
       "'HALLO WORLD'"
      ]
     },
     "execution_count": 36,
     "metadata": {},
     "output_type": "execute_result"
    }
   ],
   "source": [
    "\"Hallo World\".upper() #method because it changes the object to another form"
   ]
  },
  {
   "cell_type": "code",
   "execution_count": 52,
   "metadata": {},
   "outputs": [
    {
     "data": {
      "text/plain": [
       "'Yarrgehe Hhittt That Fly'"
      ]
     },
     "execution_count": 52,
     "metadata": {},
     "output_type": "execute_result"
    }
   ],
   "source": [
    "\"Yarrgehe HHITTT THAT fly\".title()"
   ]
  },
  {
   "cell_type": "markdown",
   "metadata": {},
   "source": [
    "**Using the print statement**  \n",
    "+ Print statements take the data that you put into it, and then output it (as a string) to the console. \n",
    "+ Useful when trying to format some text output in a particular way - such as only using 2 decimal points of a number.\n",
    "+ Look under the hood when you are coding\n",
    "+ It is also useful when you are looking for issues in the code, you can print out your data where you think things are going wrong. \n"
   ]
  },
  {
   "cell_type": "code",
   "execution_count": 56,
   "metadata": {},
   "outputs": [
    {
     "name": "stdout",
     "output_type": "stream",
     "text": [
      "Hello World 2019\n"
     ]
    }
   ],
   "source": [
    "print(\"Hello\", \"World\", 2019)"
   ]
  },
  {
   "cell_type": "code",
   "execution_count": 58,
   "metadata": {},
   "outputs": [
    {
     "name": "stdout",
     "output_type": "stream",
     "text": [
      "100 0 0\n"
     ]
    }
   ],
   "source": [
    "print(100,000,000) #do not use commas for large integers"
   ]
  },
  {
   "cell_type": "markdown",
   "metadata": {},
   "source": [
    "**Assigning variables in python**  \n",
    "Like R (which uses <-), python allows assigning of variables (using =).  \n",
    "Naming variables follows some rules:  \n",
    "+ Names must start with a letter (a-z,A-Z) or underscore (_) and can be followed by any number of letters, >digits (0-9), or underscores\n",
    "+ Names cannot be the same as reserved words (False, True, None, And, If, For, While). \n",
    "+ Names are case-sensitive: 'YOU', 'you', 'You', and 'yOu' are all different names in Python\n",
    "+ '-', '+', '*', and '/' are used by Python for defining operations on data and cannot be used"
   ]
  },
  {
   "cell_type": "code",
   "execution_count": 59,
   "metadata": {},
   "outputs": [
    {
     "name": "stdout",
     "output_type": "stream",
     "text": [
      "<class 'float'>\n"
     ]
    }
   ],
   "source": [
    "number = 3.5\n",
    "print(type(number))\n",
    "# What will be the answer here?"
   ]
  },
  {
   "cell_type": "code",
   "execution_count": 60,
   "metadata": {},
   "outputs": [
    {
     "name": "stdout",
     "output_type": "stream",
     "text": [
      "17.25\n"
     ]
    }
   ],
   "source": [
    "print(number**2 + 5)"
   ]
  },
  {
   "cell_type": "code",
   "execution_count": 63,
   "metadata": {},
   "outputs": [
    {
     "name": "stdout",
     "output_type": "stream",
     "text": [
      "Our team name is Mubby rules python . We are 2 in team number and our average age is 31.5 .\n"
     ]
    }
   ],
   "source": [
    "team_name = \"Mubby rules python\"\n",
    "team_count = 2\n",
    "team_age = 31.5\n",
    "\n",
    "print(\"Our team name is\", team_name, \".\", \"We are\", team_count, \"in team number and our average age is\", team_age, \".\")"
   ]
  },
  {
   "cell_type": "code",
   "execution_count": 6,
   "metadata": {},
   "outputs": [
    {
     "name": "stdout",
     "output_type": "stream",
     "text": [
      "Our team name is 'Geography'. We have 4 members and we are, on average, 25.976 years old\n"
     ]
    }
   ],
   "source": [
    "TeamName = 'Geography'\n",
    "X = 4\n",
    "Y = 25.976\n",
    "print(\"Our team name is '%s'. We have %i members and we are, on average, %0.3f years old\" %(TeamName, X, Y))"
   ]
  },
  {
   "cell_type": "code",
   "execution_count": 7,
   "metadata": {},
   "outputs": [
    {
     "name": "stdout",
     "output_type": "stream",
     "text": [
      "In the 'Fellowship of the Ringu', the team was 9 with a height difference of 1.23 metres, and 'Gimli' was the dwarf.\n"
     ]
    }
   ],
   "source": [
    "Fellowship = 'Fellowship of the Ringu'\n",
    "Team_number = 9\n",
    "Height_diff = 1.23\n",
    "Member = 'Gimli'\n",
    "\n",
    "print(\"In the '%s', the team was %i with a height difference of %0.2f metres, and '%s' was the dwarf.\"\n",
    "      %(Fellowship, Team_number, Height_diff, Member))"
   ]
  },
  {
   "cell_type": "markdown",
   "metadata": {},
   "source": [
    "**You will notice that the latter print format is more flexible for usage.**  \n",
    "Use the **%** to add other data types and formatting into your print string.  \n",
    "You can add multiple %i in one sentence, and the order is determined by the sequence specified in brackets. \n",
    "    + Use %i = int\n",
    "    + Use %f = float (add numbers/decimals before the f to specify how many numbers you want to be visible)\n",
    "    + Use %s = string\n",
    "    \n",
    "What happens when you mislabel or forget to label a type? (Error messages!)"
   ]
  },
  {
   "cell_type": "code",
   "execution_count": 11,
   "metadata": {},
   "outputs": [
    {
     "name": "stdout",
     "output_type": "stream",
     "text": [
      "Hello world of chocolate and 2 cats.\n"
     ]
    },
    {
     "data": {
      "text/plain": [
       "NoneType"
      ]
     },
     "execution_count": 11,
     "metadata": {},
     "output_type": "execute_result"
    }
   ],
   "source": [
    "name = \"chocolate\"\n",
    "message = print(\"Hello world of %s and %i %s.\" %(name, 2, 'cats'))\n",
    "type(message) # the problem is that you have mislabelled a type?"
   ]
  },
  {
   "cell_type": "code",
   "execution_count": 13,
   "metadata": {},
   "outputs": [
    {
     "name": "stdout",
     "output_type": "stream",
     "text": [
      "Hello world of pingu and 2 lamas.\n"
     ]
    },
    {
     "data": {
      "text/plain": [
       "NoneType"
      ]
     },
     "execution_count": 13,
     "metadata": {},
     "output_type": "execute_result"
    }
   ],
   "source": [
    "message = print('Hello world of %s and %i lamas.' %('pingu',2))\n",
    "type(message) # the problem is that you have mislabelled a type?\n",
    "str(message)\n",
    "type(message)"
   ]
  },
  {
   "cell_type": "markdown",
   "metadata": {},
   "source": [
    "**3 pet peeves of python**\n",
    "+ the first object in a list is [0]\n",
    "+ to slice from a list, always slice between a and b+1 to extract a:b\n",
    "+ list2 = list1 creates two names for the same list; use list2 = list1[:]"
   ]
  },
  {
   "cell_type": "markdown",
   "metadata": {},
   "source": [
    "**Python training guest list challenge**"
   ]
  },
  {
   "cell_type": "code",
   "execution_count": 57,
   "metadata": {},
   "outputs": [
    {
     "name": "stdout",
     "output_type": "stream",
     "text": [
      "Hello! I would like to invite Dad to dinner. From Bingbing\n",
      "Hello! I would like to invite Mama to dinner. From Bingbing\n",
      "Hello! I would like to invite Dong nubs to dinner. From Bingbing\n",
      "Hello! I would like to invite Caesar cattu to dinner. From Bingbing\n"
     ]
    }
   ],
   "source": [
    "# Write a guest list and individually write an invitation asking them to dinner. \n",
    "original_invite = [\"Dad\", \"Mama\", \"Dong nubs\", \"Caesar cattu\"]\n",
    "\n",
    "for invitee in original_invite:\n",
    "    print(\"Hello! I would like to invite %s to dinner. From Bingbing\" %(invitee))"
   ]
  },
  {
   "cell_type": "code",
   "execution_count": 60,
   "metadata": {},
   "outputs": [
    {
     "name": "stdout",
     "output_type": "stream",
     "text": [
      "Oh no, Caesar cat cannot make it to dinner anymore. I guess I will have to change the list.\n"
     ]
    }
   ],
   "source": [
    "print(\"Oh no, %s cannot make it to dinner anymore. I guess I will have to change the list.\" %(original_invite[3]))"
   ]
  },
  {
   "cell_type": "code",
   "execution_count": 61,
   "metadata": {},
   "outputs": [
    {
     "name": "stdout",
     "output_type": "stream",
     "text": [
      "Hooray, ['Dad', 'Mama', 'Dong nubs', 'Caesar cat'] are all able to make it to dinner still!\n",
      "Hello! I would like to invite Dad to dinner. From Bingbing\n",
      "Hello! I would like to invite Mama to dinner. From Bingbing\n",
      "Hello! I would like to invite Dong nubs to dinner. From Bingbing\n",
      "Hello! I would like to invite Caesar cat to dinner. From Bingbing\n"
     ]
    }
   ],
   "source": [
    "original_invite[3] = \"Caesar cat\" #wait Caesar can still make it but he dislikes being called cattu\n",
    "new_invite = original_invite.copy()\n",
    "print(\"Hooray, %s are all able to make it to dinner still!\" %(original_invite))\n",
    "\n",
    "for new_invitee in new_invite:\n",
    "     print(\"Hello! I would like to invite %s to dinner. From Bingbing\" %(new_invitee))"
   ]
  },
  {
   "cell_type": "code",
   "execution_count": 62,
   "metadata": {},
   "outputs": [
    {
     "name": "stdout",
     "output_type": "stream",
     "text": [
      "Now the invite includes ['Dad', 'Mama', 'Baozhi corgi', 'Dong nubs', 'Caesar cat', 'Naughty maomao'].\n"
     ]
    }
   ],
   "source": [
    "#The table increases in size!\n",
    "new_invite.insert(2, \"Baozhi corgi\")\n",
    "new_invite.append(\"Naughty maomao\")\n",
    "                  \n",
    "print(\"Now the invite includes %s.\" %(new_invite))"
   ]
  },
  {
   "cell_type": "code",
   "execution_count": 63,
   "metadata": {},
   "outputs": [
    {
     "name": "stdout",
     "output_type": "stream",
     "text": [
      "Sorry Naughty maomao, we will be inviting you to dinner another day.\n",
      "Sorry Caesar cat, we will be inviting you to dinner another day.\n",
      "Okay, ['Dad', 'Mama', 'Baozhi corgi', 'Dong nubs']! It's dinner time.\n"
     ]
    }
   ],
   "source": [
    "for next_time in new_invite[4:]:\n",
    "    next_time = new_invite.pop(-1) #in your for loop, you can even specify what the variable is\n",
    "    print(\"Sorry %s, we will be inviting you to dinner another day.\" %(next_time))\n",
    "\n",
    "print(\"Okay, %s! It's dinner time.\" %(new_invite))"
   ]
  },
  {
   "cell_type": "code",
   "execution_count": 64,
   "metadata": {},
   "outputs": [
    {
     "data": {
      "text/plain": [
       "['Dad', 'Mama', 'Baozhi corgi']"
      ]
     },
     "execution_count": 64,
     "metadata": {},
     "output_type": "execute_result"
    }
   ],
   "source": [
    "del new_invite[2]\n",
    "new_invite"
   ]
  },
  {
   "cell_type": "markdown",
   "metadata": {},
   "source": [
    "**Well done. You have completed the introduction to python language variables!**"
   ]
  },
  {
   "cell_type": "code",
   "execution_count": null,
   "metadata": {},
   "outputs": [],
   "source": []
  }
 ],
 "metadata": {
  "kernelspec": {
   "display_name": "Python 3",
   "language": "python",
   "name": "python3"
  },
  "language_info": {
   "codemirror_mode": {
    "name": "ipython",
    "version": 3
   },
   "file_extension": ".py",
   "mimetype": "text/x-python",
   "name": "python",
   "nbconvert_exporter": "python",
   "pygments_lexer": "ipython3",
   "version": "3.7.1"
  }
 },
 "nbformat": 4,
 "nbformat_minor": 2
}
