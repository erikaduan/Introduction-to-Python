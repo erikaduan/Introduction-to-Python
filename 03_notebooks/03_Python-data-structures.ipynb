{
 "cells": [
  {
   "cell_type": "markdown",
   "metadata": {},
   "source": [
    "# Python data structures     \n",
    "## Author: Erika Duan"
   ]
  },
  {
   "cell_type": "markdown",
   "metadata": {},
   "source": [
    "![](../02_figures/03_lists-header.jpg)"
   ]
  },
  {
   "cell_type": "markdown",
   "metadata": {},
   "source": [
    "# Lists  \n",
    "\n",
    "A list is a sequential container for data values (whether logical, integers, floats, strings or other lists) and has some similarities to vectors in R. \n",
    "\n",
    "Properties of lists include:  \n",
    "\n",
    "+ A single list can store different primitive types and even other lists.    \n",
    "+ Lists have an integer and 0-based index, which allows for list slicing (i.e. subsetting).  \n",
    "+ Lists can be appended using the methods `append()` or `insert()`.  \n",
    "+ Values inside a list can be removed using the methods `remove()` or `pop()` or using the keyword `del`.  \n",
    "+ The function `len()` can calculate the number of items in a list.  \n",
    "+ Two lists can be concatenated with the operator `+`.  "
   ]
  },
  {
   "cell_type": "code",
   "execution_count": 1,
   "metadata": {},
   "outputs": [
    {
     "name": "stdout",
     "output_type": "stream",
     "text": [
      "[1, 2.4, 'hello world', [0, 1, 2, 3]]\n"
     ]
    },
    {
     "data": {
      "text/plain": [
       "list"
      ]
     },
     "execution_count": 1,
     "metadata": {},
     "output_type": "execute_result"
    }
   ],
   "source": [
    "#-----example 1-----  \n",
    "list_a = [1, 2.4, \"hello world\", [0, 1, 2, 3]]\n",
    "print(list_a)  \n",
    "\n",
    "type(list_a) \n",
    "\n",
    "# Python allows lists containing different primitive types  "
   ]
  },
  {
   "cell_type": "code",
   "execution_count": 2,
   "metadata": {},
   "outputs": [
    {
     "name": "stdout",
     "output_type": "stream",
     "text": [
      "1\n",
      "2\n",
      "9\n",
      "[1, 2, 3, 4]\n",
      "[1, 3, 5, 7, 9]\n",
      "[1, 3, 5, 7, 9]\n"
     ]
    },
    {
     "data": {
      "text/plain": [
       "[1, 2, 3, 4, 5, 6, 7, 8, 9, 10]"
      ]
     },
     "execution_count": 2,
     "metadata": {},
     "output_type": "execute_result"
    }
   ],
   "source": [
    "#-----example 2-----\n",
    "list_b = [1, 2, 3, 4, 5, 6, 7, 8, 9, 10]  \n",
    "\n",
    "print(list_b[0]) # the integer 1 occupies position 0   \n",
    "print(list_b[1]) # the integer 2 occupies position 0 + 1  \n",
    "print(list_b[-2]) # the integer 9 occupies the second to last position i.e. position -2  \n",
    "print(list_b[0:3+1]) # extract values from position 0 to position 3\n",
    "print(list_b[0::2]) # start from position 0 and extract values from every subsequent second position \n",
    "print(list_b[::2]) # the same as list_b[0::2]  \n",
    "list_b[:] # the same as list_b.copy()"
   ]
  },
  {
   "cell_type": "code",
   "execution_count": 3,
   "metadata": {},
   "outputs": [
    {
     "name": "stdout",
     "output_type": "stream",
     "text": [
      "['apple', 'bear', 'cat', 'donut', 'elephant', 'guava', 'horse']\n"
     ]
    },
    {
     "data": {
      "text/plain": [
       "['apple', 'bear', 'cat', 'donut', 'elephant', 'french toast', 'guava', 'horse']"
      ]
     },
     "execution_count": 3,
     "metadata": {},
     "output_type": "execute_result"
    }
   ],
   "source": [
    "#-----example 3----- \n",
    "list_c = [\"apple\", \"bear\", \"donut\", \"elephant\", \"guava\"] \n",
    "\n",
    "list_c.append(\"horse\") # always appends onto the last position in a item\n",
    "list_c.insert(2, \"cat\") # appends \"cat\" to position 2 of the new list \n",
    "print(list_c)\n",
    "\n",
    "list_c.insert(5, \"french toast\") # appends \"cat\" to position 5 of the new list\n",
    "list_c"
   ]
  },
  {
   "cell_type": "code",
   "execution_count": 4,
   "metadata": {},
   "outputs": [
    {
     "name": "stdout",
     "output_type": "stream",
     "text": [
      "Original list: ['apple', 'bear', 'cat', 'donut', 'elephant', 'french toast', 'guava', 'horse']\n",
      "Objects in positions 0 to 1 are deleted: ['cat', 'donut', 'elephant', 'french toast', 'guava', 'horse']\n"
     ]
    }
   ],
   "source": [
    "#-----example 4----- \n",
    "list_d = list_c.copy() \n",
    "print(\"Original list: {}\".format(list_d)) \n",
    "\n",
    "del list_d[0:1+1] # del removes objects in a list by index (accepts integers and slices)\n",
    "print(\"Objects in positions 0 to 1 are deleted: {}\".format(list_d)) "
   ]
  },
  {
   "cell_type": "code",
   "execution_count": 5,
   "metadata": {},
   "outputs": [
    {
     "name": "stdout",
     "output_type": "stream",
     "text": [
      "['cat', 'donut', 'elephant', 'french toast', 'guava', 'horse']\n",
      "First reference to cat is removed: ['donut', 'elephant', 'french toast', 'guava', 'horse', 'cat']\n"
     ]
    }
   ],
   "source": [
    "#-----example 5-----\n",
    "print(list_d)\n",
    "\n",
    "list_d.append(\"cat\") # append \"cat\" to last position in the list\n",
    "list_d.remove(\"cat\") # only removes the first reference to an object in the list\n",
    "print(\"First reference to cat is removed: {}\".format(list_d))  "
   ]
  },
  {
   "cell_type": "code",
   "execution_count": 6,
   "metadata": {},
   "outputs": [
    {
     "name": "stdout",
     "output_type": "stream",
     "text": [
      "The function pop does two things. It removes the object from the original list: ['donut', 'elephant', 'guava', 'horse', 'cat']. It also stores the removed item: french toast.\n"
     ]
    }
   ],
   "source": [
    "#-----example 6-----  \n",
    "french_toast = list_d.pop(2)\n",
    "print(\"The function pop does two things. It removes the object from the original list: {}. It also stores the removed item: {}.\"\n",
    "      .format(list_d, french_toast))"
   ]
  },
  {
   "cell_type": "markdown",
   "metadata": {},
   "source": [
    "![](../02_figures/03_tuples-and-sets-header.jpg)"
   ]
  },
  {
   "cell_type": "markdown",
   "metadata": {},
   "source": [
    "# Tuples    \n",
    "\n",
    "A tuple is an object container that behaves like a list but is immutable. (In contrast, a list can be subsetted and subsets then assigned a new value).    \n",
    "\n",
    "Properties of tuples include:  \n",
    "+ Tuples can be created by enclosing objects inside round brackets `()`. \n",
    "+ You can subset tuples (tuples can be referenced by index i.e. `[n]`).   \n",
    "+ You cannot alter tuples after they are created.      \n",
    "+ You can check whether an item exists in a tuple by querying for each tuple position `in` a tuple (i.e. returns a logical).  \n",
    "+ You can iterate through a tuple using a `for loop`.     \n",
    "\n",
    "**Note:** Tuples are not commonly used for data manipulation tasks (although their property of being immutable can make them more useful than lists in special circumstances).  "
   ]
  },
  {
   "cell_type": "code",
   "execution_count": 7,
   "metadata": {},
   "outputs": [
    {
     "name": "stdout",
     "output_type": "stream",
     "text": [
      "Object tuple_1 is of type <class 'tuple'> and can contain different primitive types in the same tuple: ('apple', 'bear', 'cat', 'donut', 1, 2, 3, 4).\n"
     ]
    }
   ],
   "source": [
    "#-----example 1-----  \n",
    "tuple_1 = (\"apple\", \"bear\", \"cat\", \"donut\", 1, 2, 3, 4)\n",
    "print(\"Object tuple_1 is of type {} and can contain different primitive types in the same tuple: {}.\"\n",
    "      .format(type(tuple_1), tuple_1)) "
   ]
  },
  {
   "cell_type": "code",
   "execution_count": 8,
   "metadata": {
    "scrolled": true
   },
   "outputs": [
    {
     "name": "stdout",
     "output_type": "stream",
     "text": [
      "True\n"
     ]
    },
    {
     "data": {
      "text/plain": [
       "['apple_red', 'bear', 'cat', 'donut', 1, 2, 3, 4]"
      ]
     },
     "execution_count": 8,
     "metadata": {},
     "output_type": "execute_result"
    }
   ],
   "source": [
    "#-----example 2----- \n",
    "list_1 = list(tuple_1)\n",
    "print(tuple_1[0] == list_1[0])\n",
    "\n",
    "# tuple_1[0] = \"apple_red\" produces an error\n",
    "\n",
    "list_1[0] = \"apple_red\"\n",
    "list_1\n",
    "\n",
    "# lists are mutable but tuples are immutable  "
   ]
  },
  {
   "cell_type": "code",
   "execution_count": 9,
   "metadata": {
    "scrolled": false
   },
   "outputs": [
    {
     "name": "stdout",
     "output_type": "stream",
     "text": [
      "Item 1: apple\n",
      "Item 2: bear\n",
      "Item 3: cat\n",
      "Item 4: donut\n",
      "Item 5: 1\n",
      "Item 6: 2\n",
      "Item 7: 3\n",
      "Item 8: 4\n"
     ]
    }
   ],
   "source": [
    "#-----example 3-----\n",
    "for index, object in enumerate(tuple_1, 1): # start index at 1 instead of 0  \n",
    "    print(\"Item {}: {}\".format(index, object))"
   ]
  },
  {
   "cell_type": "markdown",
   "metadata": {},
   "source": [
    "# Sets  \n",
    "\n",
    "A set is a container that behaves like a tuple but is unindexed and has no order (i.e. like a mathematical set).   \n",
    "\n",
    "Properties of sets include:   \n",
    "+ Sets can be created by including objects inside `{}`.    \n",
    "+ Duplicate objects enclosed inside a set will be removed.   \n",
    "+ You cannot subset a set (sets cannot be referenced by index i.e. `[n]`).    \n",
    "+ You can check if an item is in a set using `in`.    \n",
    "+ You can iterate through a set using a `for loop`.    \n",
    "\n",
    "**Note:** Sets are not commonly used for data manipulation tasks.  "
   ]
  },
  {
   "cell_type": "code",
   "execution_count": 10,
   "metadata": {},
   "outputs": [
    {
     "data": {
      "text/plain": [
       "{'biology', 'chemistry', 'maths', 'physics'}"
      ]
     },
     "execution_count": 10,
     "metadata": {},
     "output_type": "execute_result"
    }
   ],
   "source": [
    "#-----example 1-----  \n",
    "set_1 = {\"maths\", \"physics\", \"chemistry\", \"maths\", \"biology\", \"biology\"}\n",
    "set_1 # no duplicate values"
   ]
  },
  {
   "cell_type": "code",
   "execution_count": 11,
   "metadata": {},
   "outputs": [
    {
     "name": "stdout",
     "output_type": "stream",
     "text": [
      "physics\n",
      "chemistry\n",
      "maths\n",
      "biology\n"
     ]
    }
   ],
   "source": [
    "#-----example 2-----  \n",
    "for value in set_1:\n",
    "    print(value)"
   ]
  },
  {
   "cell_type": "markdown",
   "metadata": {},
   "source": [
    "![](../02_figures/03_dictionaries-header.jpg)"
   ]
  },
  {
   "cell_type": "markdown",
   "metadata": {},
   "source": [
    "# Dictionary  \n",
    "\n",
    "A dictionary can be thought of as an unordered list where every item is associated with a key (i.e. a self-defined index of strings or numbers).    \n",
    "+ The index values are called **keys**.  \n",
    "+ A dictionary therefore contains **key-value pairs** with the format `{key: value(s)}`.      \n",
    "\n",
    "Dictionaries can be created using `dict()` or by listing key-values pairs inside `{}`.  \n",
    "+ `{\"key_1\": [\"value_1\", \"value_2\"], \"key_2\": \"value_3\"}`     \n",
    "\n",
    "Dictionary key-value pairs can be accessed by subsetting on the key or by using the `get()` method.   "
   ]
  },
  {
   "cell_type": "code",
   "execution_count": 12,
   "metadata": {
    "scrolled": true
   },
   "outputs": [
    {
     "data": {
      "text/plain": [
       "{'dev_team': ['Jane', 'Paul', 'Gwen', 'Suresh'],\n",
       " 'user_design_team': ['Ming', 'Sasha', 'Amy'],\n",
       " 'comms_team': ['David', 'Prya', 'Alice']}"
      ]
     },
     "execution_count": 12,
     "metadata": {},
     "output_type": "execute_result"
    }
   ],
   "source": [
    "#-----example 1-----\n",
    "branch_teams = {\"dev_team\": [\"Jane\", \"Paul\", \"Gwen\", \"Suresh\"],\n",
    "                \"user_design_team\": [\"Ming\", \"Sasha\", \"Amy\"],\n",
    "                \"comms_team\": [\"David\", \"Prya\", \"Alice\"]} # create a dictionary\n",
    "branch_teams"
   ]
  },
  {
   "cell_type": "code",
   "execution_count": 13,
   "metadata": {},
   "outputs": [
    {
     "data": {
      "text/plain": [
       "['David', 'Prya', 'Alice']"
      ]
     },
     "execution_count": 13,
     "metadata": {},
     "output_type": "execute_result"
    }
   ],
   "source": [
    "#-----example 2-----\n",
    "branch_teams[\"comms_team\"] \n",
    "\n",
    "# subsets the values associated with key = \"comms_team\""
   ]
  },
  {
   "cell_type": "code",
   "execution_count": 14,
   "metadata": {},
   "outputs": [
    {
     "name": "stdout",
     "output_type": "stream",
     "text": [
      "['David', 'Prya', 'Alice']\n"
     ]
    },
    {
     "data": {
      "text/plain": [
       "'No team exists'"
      ]
     },
     "execution_count": 14,
     "metadata": {},
     "output_type": "execute_result"
    }
   ],
   "source": [
    "#-----example 3----- \n",
    "comms_team = branch_teams.get(\"comms_team\")\n",
    "print(comms_team) # comms_team is stored as a list \n",
    "\n",
    "HR_team = branch_teams.get(\"HR_team\", \"No team exists\")  \n",
    "HR_team\n",
    "\n",
    "# get() allows us to return an alternate string when the key is not found inside the dictionary \n",
    "# this prevents our code from returning an error message which halts the analysis"
   ]
  },
  {
   "cell_type": "markdown",
   "metadata": {},
   "source": [
    "To manipulate dictionaries, we can perform the following other actions:  \n",
    "+ You can check whether a key exists in a dictionary using the keyword `in` i.e. `\"key_2\" in dict_1` should return `True`.  \n",
    "+ You can retrieve dictionary keys using `dict_1.keys()`.  \n",
    "+ You can retrieve dictionary values using `dict_1.values()`.  \n",
    "+ You can retrieve dictionary items using `dict_1.items()`.    "
   ]
  },
  {
   "cell_type": "code",
   "execution_count": 15,
   "metadata": {},
   "outputs": [
    {
     "name": "stdout",
     "output_type": "stream",
     "text": [
      "True\n"
     ]
    },
    {
     "data": {
      "text/plain": [
       "False"
      ]
     },
     "execution_count": 15,
     "metadata": {},
     "output_type": "execute_result"
    }
   ],
   "source": [
    "#-----example 4----- \n",
    "print(\"dev_team\" in branch_teams) \n",
    "\"policy_team\" in branch_teams"
   ]
  },
  {
   "cell_type": "code",
   "execution_count": 16,
   "metadata": {},
   "outputs": [
    {
     "name": "stdout",
     "output_type": "stream",
     "text": [
      "dict_keys(['dev_team', 'user_design_team', 'comms_team'])\n",
      "dict_values([['Jane', 'Paul', 'Gwen', 'Suresh'], ['Ming', 'Sasha', 'Amy'], ['David', 'Prya', 'Alice']])\n"
     ]
    },
    {
     "data": {
      "text/plain": [
       "dict_items([('dev_team', ['Jane', 'Paul', 'Gwen', 'Suresh']), ('user_design_team', ['Ming', 'Sasha', 'Amy']), ('comms_team', ['David', 'Prya', 'Alice'])])"
      ]
     },
     "execution_count": 16,
     "metadata": {},
     "output_type": "execute_result"
    }
   ],
   "source": [
    "#-----example 5-----  \n",
    "print(branch_teams.keys())\n",
    "print(branch_teams.values())\n",
    "branch_teams.items()\n",
    "\n",
    "# compare the output difference for each statement i.e. item = all key + value pairs"
   ]
  },
  {
   "cell_type": "markdown",
   "metadata": {},
   "source": [
    "You can modify key-value pairs in a dictionary.    \n",
    "+ New items can be added through `dict_1[\"key_3\"] = [\"value_4\", \"value_5\"]`   \n",
    "+ You can delete items within a key using the `del` keyword or the `pop()` method (both methods will modify the dictionary in place).  "
   ]
  },
  {
   "cell_type": "code",
   "execution_count": 17,
   "metadata": {},
   "outputs": [
    {
     "data": {
      "text/plain": [
       "{'dev_team': ['Jane', 'Paul', 'Gwen', 'Suresh'],\n",
       " 'user_design_team': ['Ming', 'Sasha', 'Amy'],\n",
       " 'comms_team': ['David', 'Prya', 'Alice'],\n",
       " 'data_science_team': ['Paula', 'Mark']}"
      ]
     },
     "execution_count": 17,
     "metadata": {},
     "output_type": "execute_result"
    }
   ],
   "source": [
    "#-----example 6-----\n",
    "branch_teams[\"data_science_team\"] = [\"Paula\", \"Mark\"] \n",
    "\n",
    "# add a new key-value pair to dictionary\n",
    "\n",
    "branch_teams"
   ]
  },
  {
   "cell_type": "code",
   "execution_count": 18,
   "metadata": {},
   "outputs": [
    {
     "name": "stdout",
     "output_type": "stream",
     "text": [
      "['Paula', 'Mark']\n"
     ]
    },
    {
     "data": {
      "text/plain": [
       "{'dev_team': ['Jane', 'Paul', 'Gwen', 'Suresh'],\n",
       " 'user_design_team': ['Ming', 'Sasha', 'Amy'],\n",
       " 'comms_team': ['David', 'Prya', 'Alice']}"
      ]
     },
     "execution_count": 18,
     "metadata": {},
     "output_type": "execute_result"
    }
   ],
   "source": [
    "#-----example 7-----\n",
    "new_data_science_team = branch_teams.pop(\"data_science_team\")\n",
    "print(new_data_science_team)\n",
    "branch_teams \n",
    "\n",
    "# dictionary is modified in place"
   ]
  },
  {
   "cell_type": "code",
   "execution_count": 19,
   "metadata": {},
   "outputs": [
    {
     "name": "stdout",
     "output_type": "stream",
     "text": [
      "The dev_team consists of members ['Jane', 'Paul', 'Gwen', 'Suresh'].\n",
      "The user_design_team consists of members ['Ming', 'Sasha', 'Amy'].\n",
      "The comms_team consists of members ['David', 'Pryanna', 'Alice', 'Li'].\n"
     ]
    }
   ],
   "source": [
    "#-----example 8-----\n",
    "branch_teams[\"comms_team\"] = [\"David\", \"Pryanna\", \"Alice\", \"Li\"]\n",
    "\n",
    "for key, values in branch_teams.items():\n",
    "    print(\"The {} consists of members {}.\".format(key, values))"
   ]
  },
  {
   "cell_type": "markdown",
   "metadata": {},
   "source": [
    "**Note:** Dictionaries are mutable like lists because you can overwrite pre-existing key-value pairs.  "
   ]
  },
  {
   "cell_type": "markdown",
   "metadata": {},
   "source": [
    "![](../02_figures/03_numpy-header.jpg)"
   ]
  },
  {
   "cell_type": "markdown",
   "metadata": {},
   "source": [
    "# NumPy arrays  "
   ]
  },
  {
   "cell_type": "markdown",
   "metadata": {},
   "source": [
    "Although lists are powerful and versatile containers, they become computationally expensive as the list length increases.   \n",
    "The alternate solution is to use [NumPy](https://www.nature.com/articles/s41586-020-2649-2), which is an N-dimensional array container for storing numerical types.  \n",
    "\n",
    "We can perform a diverse range of functions and mathematical operations using numpy arrays. Functions include:  \n",
    "\n",
    "+ Creating 1D or 2D NumPy arrays.   \n",
    "+ Accessing elements inside NumPy arrays. \n",
    "+ Performing mathematical operations, linear algebra via **np.linalg** and universal functions i.e. `min()`, `max()`, `np.mean()`, `np.std()`.   \n",
    "+ Combining arrays (with respect to broadcasting rules).    \n",
    "\n",
    "**Note:** A good NumPy tutorial can also be found [here](https://cs231n.github.io/python-numpy-tutorial/#numpy).  "
   ]
  },
  {
   "cell_type": "code",
   "execution_count": 20,
   "metadata": {},
   "outputs": [],
   "source": [
    "#-----import the numpy library-----\n",
    "import numpy as np"
   ]
  },
  {
   "cell_type": "code",
   "execution_count": 21,
   "metadata": {},
   "outputs": [
    {
     "name": "stdout",
     "output_type": "stream",
     "text": [
      "[1 3 5 7 9]\n",
      "[1 3 5 7 9]\n",
      "[1. 1. 1. 1. 1.]\n",
      "<class 'numpy.ndarray'>\n",
      "1\n"
     ]
    },
    {
     "data": {
      "text/plain": [
       "(5,)"
      ]
     },
     "execution_count": 21,
     "metadata": {},
     "output_type": "execute_result"
    }
   ],
   "source": [
    "#-----example 1----- \n",
    "vector_1 = np.array([1, 3, 5, 7, 9])\n",
    "vector_2 = np.arange(start = 1,\n",
    "                     stop = 9+1, # stop at x+1 to end with value x\n",
    "                     step = 2) # step = 2 means to select every second value after the start position \n",
    "vector_3 = np.ones(5) \n",
    "\n",
    "print(vector_1)\n",
    "print(vector_2)\n",
    "print(vector_3)\n",
    "\n",
    "# numpy.arange([start, ]stop, [step, ], dtype=None) -> numpy.ndarray  \n",
    "\n",
    "print(type(vector_1))\n",
    "print(vector_1.ndim) # 1-d array\n",
    "vector_1.shape # length of values for a 1-day array "
   ]
  },
  {
   "cell_type": "code",
   "execution_count": 22,
   "metadata": {},
   "outputs": [
    {
     "name": "stdout",
     "output_type": "stream",
     "text": [
      "[ 6  8 10 12 14]\n",
      "[ 1  9 25 49 81]\n",
      "1\n"
     ]
    },
    {
     "data": {
      "text/plain": [
       "5.0"
      ]
     },
     "execution_count": 22,
     "metadata": {},
     "output_type": "execute_result"
    }
   ],
   "source": [
    "#-----example 2-----\n",
    "vector_1 = np.array([1, 3, 5, 7, 9]) \n",
    "\n",
    "print(vector_1 + 5) # you can perform mathematical operations on arrays\n",
    "print(vector_1 ** 2)\n",
    "\n",
    "print(min(vector_1)) # you can perform universal functions on arrays\n",
    "vector_1.mean()"
   ]
  },
  {
   "cell_type": "code",
   "execution_count": 23,
   "metadata": {
    "scrolled": true
   },
   "outputs": [
    {
     "name": "stdout",
     "output_type": "stream",
     "text": [
      "[[1 2 3]\n",
      " [4 5 6]]\n",
      "[[10 12 14 16 18]\n",
      " [20 22 24 26 28]]\n",
      "[[10 10 10 10 10]\n",
      " [10 10 10 10 10]]\n",
      "[[0.15366136 0.1693033  0.50596431 0.65811887 0.76758088]\n",
      " [0.10922746 0.79759653 0.96874591 0.24694934 0.19751383]]\n",
      "2\n"
     ]
    },
    {
     "data": {
      "text/plain": [
       "(2, 5)"
      ]
     },
     "execution_count": 23,
     "metadata": {},
     "output_type": "execute_result"
    }
   ],
   "source": [
    "#-----example 3----- \n",
    "array_2d_1 = np.array([[1, 2, 3], [4, 5, 6]])\n",
    "array_2d_2 = np.arange(10, 30, 2).reshape(2, 5) \n",
    "array_2d_3 = np.full(shape = (2, 5),\n",
    "                     fill_value = 10) \n",
    "\n",
    "rng = np.random.default_rng(111)\n",
    "array_2d_4 = rng.random(10).reshape(2, 5)\n",
    "\n",
    "print(array_2d_1)\n",
    "print(array_2d_2)\n",
    "print(array_2d_3)\n",
    "print(array_2d_4)  \n",
    "\n",
    "print(array_2d_4.ndim) # 2-d array \n",
    "array_2d_4.shape # 2 rows, 5 columns   "
   ]
  },
  {
   "cell_type": "markdown",
   "metadata": {},
   "source": [
    "**Note:** The way that Python generates random numbers has changed. You are now required to call `default_rng` to get a new instance of a generator, as documented [here](https://numpy.org/devdocs/reference/random/index.html).    "
   ]
  },
  {
   "cell_type": "markdown",
   "metadata": {},
   "source": [
    "## NumPy numerical types  \n",
    "\n",
    "NumPy arrays can contain numerical types of different precision:  \n",
    "+ `np.int8`  \n",
    "+ `np.int32`  \n",
    "+ `np.float`  \n",
    "+ `np.float32`  \n",
    "+ `np.float64`   \n",
    "+ `np.bool`  \n",
    "+ `np.complex`  \n",
    "\n",
    "Applying the method `.dtype` to your NumPy array allows you to check its numerical type. You can also check the type of an individual value inside a NumPy array using the function `type`.     "
   ]
  },
  {
   "cell_type": "code",
   "execution_count": 24,
   "metadata": {},
   "outputs": [
    {
     "name": "stdout",
     "output_type": "stream",
     "text": [
      "float64\n",
      "int8\n",
      "<class 'numpy.ndarray'>\n"
     ]
    },
    {
     "data": {
      "text/plain": [
       "numpy.float64"
      ]
     },
     "execution_count": 24,
     "metadata": {},
     "output_type": "execute_result"
    }
   ],
   "source": [
    "#-----example 3-----\n",
    "vector_1 = np.zeros(6) \n",
    "print(vector_1.dtype)\n",
    "\n",
    "vector_2 = np.zeros(5, dtype = np.int8)\n",
    "print(vector_2.dtype)\n",
    "\n",
    "print(type(vector_1))\n",
    "type(vector_1[0]) # i.e. NumPy array with type float64"
   ]
  },
  {
   "cell_type": "markdown",
   "metadata": {},
   "source": [
    "## Accessing NumPy arrays    \n",
    "\n",
    "For 1D NumPy arrays, we can:  \n",
    "+ Use the 0-based index to subset values from an array (similar to a list).  \n",
    "+ Slice a section of the NumPy array. Note that this returns a view and not a copy of the original array.   \n",
    "+ Filtering by a list of boolean values (i.e. masking). Note that this returns a copy of the original array.  "
   ]
  },
  {
   "cell_type": "code",
   "execution_count": 25,
   "metadata": {},
   "outputs": [
    {
     "name": "stdout",
     "output_type": "stream",
     "text": [
      "[47 15 72 16 71 50]\n",
      "47\n",
      "[47 16]\n"
     ]
    },
    {
     "data": {
      "text/plain": [
       "array([100,  15,  72,  16,  71,  50], dtype=int64)"
      ]
     },
     "execution_count": 25,
     "metadata": {},
     "output_type": "execute_result"
    }
   ],
   "source": [
    "#-----example 4-----  \n",
    "rng = np.random.default_rng(111)\n",
    "vector_1 = rng.integers(low=0, high=100, size=6)\n",
    "\n",
    "print(vector_1)\n",
    "print(vector_1[0]) # subset using 0-based index  \n",
    "\n",
    "vector_2 = vector_1[0::3] # warning: slicing vector_1 returns a view not a copy\n",
    "print(vector_2)\n",
    "\n",
    "vector_2[0] = 100 \n",
    "vector_1"
   ]
  },
  {
   "cell_type": "code",
   "execution_count": 26,
   "metadata": {},
   "outputs": [
    {
     "name": "stdout",
     "output_type": "stream",
     "text": [
      "[100  15  72  16  71  50]\n",
      "[15 72 50]\n"
     ]
    },
    {
     "data": {
      "text/plain": [
       "array([100,  15,  72,  16,  71,  50], dtype=int64)"
      ]
     },
     "execution_count": 26,
     "metadata": {},
     "output_type": "execute_result"
    }
   ],
   "source": [
    "#-----example 5-----  \n",
    "vector_3 = vector_1[[False, True, True, False, False, True]] \n",
    "\n",
    "# boolean array needs to be the same length as NumPy array\n",
    "# subsetting by a boolean array returns a copy   \n",
    "\n",
    "print(vector_1)\n",
    "print(vector_3)\n",
    "\n",
    "vector_3[0] = 200 \n",
    "vector_1 # vector_1 remains unchanged"
   ]
  },
  {
   "cell_type": "markdown",
   "metadata": {},
   "source": [
    "For 2D NumPy arrays, we can:  \n",
    "+ Still subset values using the 0-based index i.e. `x[row, column]`.      \n",
    "+ Slice a part of the 2D array. Note that this returns a sliced view and not a copy of the original 2D array.   \n",
    "+ Subset using boolean masking.    "
   ]
  },
  {
   "cell_type": "code",
   "execution_count": 27,
   "metadata": {},
   "outputs": [
    {
     "name": "stdout",
     "output_type": "stream",
     "text": [
      "[[ 1  3  5  7  9]\n",
      " [11 13 15 17 19]\n",
      " [21 23 25 27 29]]\n",
      "9\n",
      "29\n",
      "[[ 1  3  5]\n",
      " [11 13 15]\n",
      " [21 23 25]]\n",
      "[[ 3  5]\n",
      " [13 15]\n",
      " [23 25]]\n"
     ]
    },
    {
     "data": {
      "text/plain": [
       "array([ 1, 13])"
      ]
     },
     "execution_count": 27,
     "metadata": {},
     "output_type": "execute_result"
    }
   ],
   "source": [
    "#-----example 6-----\n",
    "array_1 = np.arange(1, 30, 2).reshape(3, 5) \n",
    "print(array_1)  \n",
    "\n",
    "print(array_1[0, 4]) # first row, last column\n",
    "print(array_1[-1, -1]) # last row, last column   \n",
    "\n",
    "print(array_1[0:2+1, 0:2+1]) # subset rows and columns from position 0 to position 2\n",
    "print(array_1[:, [1,2]]) # subset all rowns and columns from position 1 and 2  \n",
    "\n",
    "# note that array_1[[0,1], [0,1]] does not return a 2D array\n",
    "# instead, it returns a 1D array of individually subsetted values  \n",
    "\n",
    "array_1[[0,1], [0,1]]"
   ]
  },
  {
   "cell_type": "code",
   "execution_count": 28,
   "metadata": {},
   "outputs": [
    {
     "name": "stdout",
     "output_type": "stream",
     "text": [
      "[[ 1  3  5  7  9]\n",
      " [11 13 15 17 19]\n",
      " [21 23 25 27 29]]\n",
      "[[1 3 5 7 9]]\n"
     ]
    },
    {
     "data": {
      "text/plain": [
       "array([[3, 3, 5, 7, 9]])"
      ]
     },
     "execution_count": 28,
     "metadata": {},
     "output_type": "execute_result"
    }
   ],
   "source": [
    "#-----example 7-----  \n",
    "array_1 = np.arange(1, 30, 2).reshape(3, 5) \n",
    "print(array_1)\n",
    "\n",
    "array_2 = array_1[0:1, :] # warning: slicing array_1 returns a view not a copy\n",
    "print(array_2)  \n",
    "\n",
    "array_1[0,0] = 3\n",
    "array_2"
   ]
  },
  {
   "cell_type": "code",
   "execution_count": 29,
   "metadata": {},
   "outputs": [
    {
     "name": "stdout",
     "output_type": "stream",
     "text": [
      "[[ True  True False  True False]\n",
      " [False  True False False False]\n",
      " [False  True  True False  True]]\n",
      "[ 1  3  7 13 23 25 29]\n"
     ]
    },
    {
     "data": {
      "text/plain": [
       "array([ 1,  3,  7, 13, 23, 25, 29])"
      ]
     },
     "execution_count": 29,
     "metadata": {},
     "output_type": "execute_result"
    }
   ],
   "source": [
    "#-----example 8-----  \n",
    "array_1 = np.arange(1, 30, 2).reshape(3, 5)   \n",
    "\n",
    "# create random boolean 2D array\n",
    "rng = np.random.default_rng(111)\n",
    "bool_values = [True, False]\n",
    "\n",
    "bool_mask = rng.choice(bool_values, size = (3, 5))\n",
    "print(bool_mask)\n",
    "\n",
    "# masking a 2D array produces a copy of a 1D vector \n",
    "array_2 = array_1[bool_mask]\n",
    "print(array_2)\n",
    "\n",
    "array_1[0, 0] = 3\n",
    "array_2"
   ]
  },
  {
   "cell_type": "markdown",
   "metadata": {},
   "source": [
    "## Broadcasting with NumPy arrays  "
   ]
  },
  {
   "cell_type": "markdown",
   "metadata": {},
   "source": [
    "We can stack NumPy arrays with the `concatenate()` method if two NumPy arrays are of similar shape:  \n",
    "+ Two arrays have the same number of columns for `concatenate(..., axis = 0)`.    \n",
    "+ Two arrays have the same number of rows for `concatenate(..., axis = 1)`.    "
   ]
  },
  {
   "cell_type": "code",
   "execution_count": 30,
   "metadata": {},
   "outputs": [
    {
     "name": "stdout",
     "output_type": "stream",
     "text": [
      "[[1 1]\n",
      " [1 1]\n",
      " [1 1]]\n",
      "[[2 2]\n",
      " [2 2]]\n"
     ]
    },
    {
     "data": {
      "text/plain": [
       "array([[1, 1],\n",
       "       [1, 1],\n",
       "       [1, 1],\n",
       "       [2, 2],\n",
       "       [2, 2]])"
      ]
     },
     "execution_count": 30,
     "metadata": {},
     "output_type": "execute_result"
    }
   ],
   "source": [
    "#-----example 1-----\n",
    "a = np.ones((3, 2), dtype = np.int) # 3 rows and 2 columns\n",
    "b = np.ones((2, 2), dtype = np.int) *2  # 2 rows and 2 columns\n",
    "print(a) \n",
    "print(b)\n",
    "\n",
    "np.concatenate([a, b]) # stack arrays on top of each other  \n",
    "\n",
    "# contrast with a + b, which produces the error message below\n",
    "# ValueError: operands could not be broadcast together with shapes (3,2) (2,2) "
   ]
  },
  {
   "cell_type": "code",
   "execution_count": 31,
   "metadata": {},
   "outputs": [
    {
     "name": "stdout",
     "output_type": "stream",
     "text": [
      "[[1 1]\n",
      " [1 1]\n",
      " [1 1]\n",
      " [2 2]\n",
      " [2 2]]\n"
     ]
    },
    {
     "data": {
      "text/plain": [
       "array([[1, 1, 3, 3, 3],\n",
       "       [1, 1, 3, 3, 3],\n",
       "       [1, 1, 3, 3, 3]])"
      ]
     },
     "execution_count": 31,
     "metadata": {},
     "output_type": "execute_result"
    }
   ],
   "source": [
    "#-----example 2-----\n",
    "# axis = 0 or 1 represents the axis along which the arrays are joined  \n",
    "# 0 represents bind rows together\n",
    "# 1 represents bind columns together \n",
    "\n",
    "a = np.ones((3, 2), dtype = np.int) # 3 rows and 2 columns\n",
    "b = np.ones((2, 2), dtype = np.int) * 2\n",
    "c = np.ones((3, 3), dtype = np.int) * 3\n",
    "\n",
    "print(np.concatenate([a, b], axis = 0))\n",
    "np.concatenate([a, c], axis = 1) # note that this does not work if b.shape = (2, 2)"
   ]
  },
  {
   "cell_type": "markdown",
   "metadata": {},
   "source": [
    "### NumPy broadcasting rules\n",
    "\n",
    "When two arrays do not have the same shape, NumPy still may allow element-wise operations to be performed by filling in copies of one array to match array shapes.  \n",
    "\n",
    "1. Compare the array dimensions (does `a.ndim == b.ndim`?).  \n",
    "2. If `a.ndim != b.ndim`, then prepend `1s` to the smaller array's shape.  \n",
    "3. If `a.ndim == b.ndim`, examine `a.shape` and `b.shape`. \n",
    "4. If `a.shape == b.shape`, perform the element-wise operation.  \n",
    "5. If `a.shape != b.shape` but either rows or columns are 1 in length, expand the shape of the smaller array until it matches the larger array. \n",
    "6. Otherwise, throw an error.  "
   ]
  },
  {
   "cell_type": "code",
   "execution_count": 32,
   "metadata": {
    "scrolled": true
   },
   "outputs": [
    {
     "name": "stdout",
     "output_type": "stream",
     "text": [
      "[[1. 1.]\n",
      " [1. 1.]\n",
      " [1. 1.]]\n",
      "[[2.]\n",
      " [2.]\n",
      " [2.]]\n"
     ]
    },
    {
     "data": {
      "text/plain": [
       "array([[3., 3.],\n",
       "       [3., 3.],\n",
       "       [3., 3.]])"
      ]
     },
     "execution_count": 32,
     "metadata": {},
     "output_type": "execute_result"
    }
   ],
   "source": [
    "#-----example 1-----\n",
    "a = np.ones((3, 2))\n",
    "b = np.ones((3, 1)) * 2 \n",
    "\n",
    "print(a) \n",
    "print(b)\n",
    "a.ndim == b.ndim\n",
    "\n",
    "# broadcasting so that b is a 3 by 2 array containing 2s\n",
    "\n",
    "a + b"
   ]
  },
  {
   "cell_type": "code",
   "execution_count": 33,
   "metadata": {},
   "outputs": [
    {
     "name": "stdout",
     "output_type": "stream",
     "text": [
      "[[1. 1. 1.]\n",
      " [1. 1. 1.]]\n",
      "[[2.]\n",
      " [2.]\n",
      " [2.]]\n"
     ]
    }
   ],
   "source": [
    "#-----example 2-----\n",
    "a = np.ones((2, 3))\n",
    "b = np.ones((3, 1)) * 2 \n",
    "\n",
    "print(a) \n",
    "print(b)\n",
    "\n",
    "# broadcasting to first expand b into a 3 by 3 array containing 2s\n",
    "# but a.shape = (2, 3) and expanded b.shape = (3, 3)  \n",
    "\n",
    "# a + b produces an error\n",
    "# ValueError: operands could not be broadcast together with shapes (2,3) (3,1) "
   ]
  },
  {
   "cell_type": "code",
   "execution_count": 34,
   "metadata": {},
   "outputs": [
    {
     "name": "stdout",
     "output_type": "stream",
     "text": [
      "[[1.]\n",
      " [1.]\n",
      " [1.]]\n",
      "[2. 2. 2.]\n"
     ]
    },
    {
     "data": {
      "text/plain": [
       "array([[3., 3., 3.],\n",
       "       [3., 3., 3.],\n",
       "       [3., 3., 3.]])"
      ]
     },
     "execution_count": 34,
     "metadata": {},
     "output_type": "execute_result"
    }
   ],
   "source": [
    "#-----example 3-----\n",
    "a = np.ones((3, 1))\n",
    "b = np.ones((3, )) * 2 \n",
    "\n",
    "print(a) \n",
    "print(b)\n",
    "\n",
    "# broadcasting to first expand b into a 3 by 3 array containing 2s\n",
    "# broadcasting to then expand a into a 3 by 3 array containing 1s to match the shape of b\n",
    "\n",
    "a + b"
   ]
  },
  {
   "cell_type": "markdown",
   "metadata": {},
   "source": [
    "![](../02_figures/03_pandas-header.jpg)"
   ]
  },
  {
   "cell_type": "markdown",
   "metadata": {},
   "source": [
    "# Pandas DataFrame  \n",
    "\n",
    "Pandas is one of the most popular libraries for structured data manipulations in Python.  \n",
    "There are two data structures supported by the Pandas module.  \n",
    "\n",
    "## pd.Series  \n",
    "\n",
    "+ Similar to a 1D NumPy (but with extra indexing options).   \n",
    "+ Created from a list, NumPy array or dictionary.  \n",
    "+ Subsetting a Series via its index is similar to indexing a Python dictionary.  \n",
    "+ Use `iloc[]` to subset via the implicit index (i.e. 0-based index).  \n",
    "+ Use `loc[]` to subset via the explicit index (i.e. explicit names).  \n",
    "\n",
    "**Note:** Slicing with the implicit index does not include the last/upper value but slicing with the explicit index does.  "
   ]
  },
  {
   "cell_type": "code",
   "execution_count": 35,
   "metadata": {},
   "outputs": [],
   "source": [
    "#-----import the pandas library-----\n",
    "import pandas as pd"
   ]
  },
  {
   "cell_type": "code",
   "execution_count": 36,
   "metadata": {},
   "outputs": [
    {
     "name": "stdout",
     "output_type": "stream",
     "text": [
      "0    1\n",
      "1    2\n",
      "2    3\n",
      "3    4\n",
      "dtype: int64\n",
      "0     5\n",
      "1     7\n",
      "2     9\n",
      "3    11\n",
      "dtype: int32\n",
      "item_1         key\n",
      "item_2    passport\n",
      "item_3     tickets\n",
      "item_4      snacks\n",
      "dtype: object\n"
     ]
    },
    {
     "data": {
      "text/plain": [
       "id1    1\n",
       "id2    2\n",
       "id3    3\n",
       "id4    4\n",
       "dtype: int64"
      ]
     },
     "execution_count": 36,
     "metadata": {},
     "output_type": "execute_result"
    }
   ],
   "source": [
    "#-----example 1-----\n",
    "series_1 = pd.Series([1, 2, 3, 4])  \n",
    "print(series_1) # presence of a 0-based index\n",
    "\n",
    "series_2 = pd.Series(np.arange(5, 11+1, 2))\n",
    "print(series_2) \n",
    "\n",
    "series_3 = pd.Series({\"item_1\": \"key\", \n",
    "                      \"item_2\": \"passport\",\n",
    "                      \"item_3\": \"tickets\",\n",
    "                      \"item_4\": \"snacks\"})\n",
    "print(series_3) # dictionary key is used as the Series index   \n",
    "\n",
    "series_4 = pd.Series([1, 2, 3, 4],\n",
    "                     index = [\"id1\", \"id2\", \"id3\", \"id4\"]) # explicitly creating an index  \n",
    "series_4"
   ]
  },
  {
   "cell_type": "code",
   "execution_count": 37,
   "metadata": {},
   "outputs": [
    {
     "name": "stdout",
     "output_type": "stream",
     "text": [
      "0     5\n",
      "1     7\n",
      "2     9\n",
      "3    11\n",
      "dtype: int32\n",
      "item_1         key\n",
      "item_2    passport\n",
      "item_3     tickets\n",
      "item_4      snacks\n",
      "dtype: object\n",
      "0    5\n",
      "1    7\n",
      "2    9\n",
      "dtype: int32\n",
      "item_1    True\n",
      "item_2    True\n",
      "item_3    True\n",
      "dtype: bool\n"
     ]
    },
    {
     "data": {
      "text/plain": [
       "item_1       key\n",
       "item_4    snacks\n",
       "dtype: object"
      ]
     },
     "execution_count": 37,
     "metadata": {},
     "output_type": "execute_result"
    }
   ],
   "source": [
    "#-----example 2-----\n",
    "print(series_2) # example of implicit index\n",
    "print(series_3) # example of explicit index \n",
    "\n",
    "print(series_2.iloc[0:2+1]) # slicing does not include the last value for implicit index    \n",
    "\n",
    "print(series_3.iloc[0:2+1] == series_3.loc[\"item_1\": \"item_3\"]) # slicing includes the last value for explicit index\n",
    "series_3.loc[[\"item_1\", \"item_4\"]]"
   ]
  },
  {
   "cell_type": "markdown",
   "metadata": {},
   "source": [
    "## pd.DataFrame  \n",
    "\n",
    "+ Similar to R data frames or tibbles. \n",
    "+ Created from a Pandas Series, NumPy array or dictionary.  \n",
    "+ To slice rows from a data frame, slicing works via implicit row indexing.  \n",
    "+ To select columns from a data frame, subsetting works via subsetting on column names.    \n",
    "+ Use `iloc[]` to subset rows via the implicit index (i.e. 0-based index).  \n",
    "+ Use `loc[]` to subset rows via the explicit index (i.e. explicit names).   "
   ]
  },
  {
   "cell_type": "code",
   "execution_count": 38,
   "metadata": {},
   "outputs": [
    {
     "name": "stdout",
     "output_type": "stream",
     "text": [
      "   items\n",
      "0      1\n",
      "1      2\n",
      "2      3\n",
      "3      4\n",
      "4      5\n",
      "5      6\n",
      "6      7\n",
      "7      8\n",
      "8      9\n",
      "9     10\n"
     ]
    },
    {
     "data": {
      "text/html": [
       "<div>\n",
       "<style scoped>\n",
       "    .dataframe tbody tr th:only-of-type {\n",
       "        vertical-align: middle;\n",
       "    }\n",
       "\n",
       "    .dataframe tbody tr th {\n",
       "        vertical-align: top;\n",
       "    }\n",
       "\n",
       "    .dataframe thead th {\n",
       "        text-align: right;\n",
       "    }\n",
       "</style>\n",
       "<table border=\"1\" class=\"dataframe\">\n",
       "  <thead>\n",
       "    <tr style=\"text-align: right;\">\n",
       "      <th></th>\n",
       "      <th>ID</th>\n",
       "      <th>items</th>\n",
       "    </tr>\n",
       "  </thead>\n",
       "  <tbody>\n",
       "    <tr>\n",
       "      <th>0</th>\n",
       "      <td>ID1</td>\n",
       "      <td>1</td>\n",
       "    </tr>\n",
       "    <tr>\n",
       "      <th>1</th>\n",
       "      <td>ID2</td>\n",
       "      <td>2</td>\n",
       "    </tr>\n",
       "    <tr>\n",
       "      <th>2</th>\n",
       "      <td>ID3</td>\n",
       "      <td>3</td>\n",
       "    </tr>\n",
       "    <tr>\n",
       "      <th>3</th>\n",
       "      <td>ID4</td>\n",
       "      <td>4</td>\n",
       "    </tr>\n",
       "    <tr>\n",
       "      <th>4</th>\n",
       "      <td>ID5</td>\n",
       "      <td>5</td>\n",
       "    </tr>\n",
       "    <tr>\n",
       "      <th>5</th>\n",
       "      <td>ID6</td>\n",
       "      <td>6</td>\n",
       "    </tr>\n",
       "    <tr>\n",
       "      <th>6</th>\n",
       "      <td>ID7</td>\n",
       "      <td>7</td>\n",
       "    </tr>\n",
       "    <tr>\n",
       "      <th>7</th>\n",
       "      <td>ID8</td>\n",
       "      <td>8</td>\n",
       "    </tr>\n",
       "    <tr>\n",
       "      <th>8</th>\n",
       "      <td>ID9</td>\n",
       "      <td>9</td>\n",
       "    </tr>\n",
       "    <tr>\n",
       "      <th>9</th>\n",
       "      <td>ID10</td>\n",
       "      <td>10</td>\n",
       "    </tr>\n",
       "  </tbody>\n",
       "</table>\n",
       "</div>"
      ],
      "text/plain": [
       "     ID  items\n",
       "0   ID1      1\n",
       "1   ID2      2\n",
       "2   ID3      3\n",
       "3   ID4      4\n",
       "4   ID5      5\n",
       "5   ID6      6\n",
       "6   ID7      7\n",
       "7   ID8      8\n",
       "8   ID9      9\n",
       "9  ID10     10"
      ]
     },
     "execution_count": 38,
     "metadata": {},
     "output_type": "execute_result"
    }
   ],
   "source": [
    "#-----example 1-----  \n",
    "series_1 = pd.Series(np.arange(1, 10+1, 1))  \n",
    "series_2 = pd.Series([f'ID{n}' for n in range(1, 10+1, 1)])  \n",
    "\n",
    "df_1 = pd.DataFrame(series_1, columns = [\"items\"])\n",
    "print(df_1) # one column \n",
    "\n",
    "df_2 = pd.DataFrame({\"ID\" : series_2, \n",
    "                     \"items\" : series_1}) # dictionary format  \n",
    "df_2 # more than one column  "
   ]
  },
  {
   "cell_type": "code",
   "execution_count": 39,
   "metadata": {},
   "outputs": [
    {
     "name": "stdout",
     "output_type": "stream",
     "text": [
      "   0  1  2\n",
      "0  1  2  3\n",
      "1  4  5  6\n"
     ]
    },
    {
     "data": {
      "text/html": [
       "<div>\n",
       "<style scoped>\n",
       "    .dataframe tbody tr th:only-of-type {\n",
       "        vertical-align: middle;\n",
       "    }\n",
       "\n",
       "    .dataframe tbody tr th {\n",
       "        vertical-align: top;\n",
       "    }\n",
       "\n",
       "    .dataframe thead th {\n",
       "        text-align: right;\n",
       "    }\n",
       "</style>\n",
       "<table border=\"1\" class=\"dataframe\">\n",
       "  <thead>\n",
       "    <tr style=\"text-align: right;\">\n",
       "      <th></th>\n",
       "      <th>Monday</th>\n",
       "      <th>Wednesday</th>\n",
       "      <th>Friday</th>\n",
       "    </tr>\n",
       "  </thead>\n",
       "  <tbody>\n",
       "    <tr>\n",
       "      <th>0</th>\n",
       "      <td>1</td>\n",
       "      <td>2</td>\n",
       "      <td>3</td>\n",
       "    </tr>\n",
       "    <tr>\n",
       "      <th>1</th>\n",
       "      <td>4</td>\n",
       "      <td>5</td>\n",
       "      <td>6</td>\n",
       "    </tr>\n",
       "  </tbody>\n",
       "</table>\n",
       "</div>"
      ],
      "text/plain": [
       "   Monday  Wednesday  Friday\n",
       "0       1          2       3\n",
       "1       4          5       6"
      ]
     },
     "execution_count": 39,
     "metadata": {},
     "output_type": "execute_result"
    }
   ],
   "source": [
    "#-----example 2-----  \n",
    "df_3 = pd.DataFrame(np.arange(1, 6+1).reshape(2,3)) # 2D NumPy array format  \n",
    "print(df_3)  \n",
    "\n",
    "df_3.columns = [\"Monday\", \"Wednesday\", \"Friday\"] # input a list\n",
    "df_3"
   ]
  },
  {
   "cell_type": "code",
   "execution_count": 40,
   "metadata": {},
   "outputs": [
    {
     "name": "stdout",
     "output_type": "stream",
     "text": [
      "    ID  items\n",
      "1  ID2      2\n",
      "2  ID3      3\n",
      "3  ID4      4\n",
      "4  ID5      5\n"
     ]
    },
    {
     "data": {
      "text/html": [
       "<div>\n",
       "<style scoped>\n",
       "    .dataframe tbody tr th:only-of-type {\n",
       "        vertical-align: middle;\n",
       "    }\n",
       "\n",
       "    .dataframe tbody tr th {\n",
       "        vertical-align: top;\n",
       "    }\n",
       "\n",
       "    .dataframe thead th {\n",
       "        text-align: right;\n",
       "    }\n",
       "</style>\n",
       "<table border=\"1\" class=\"dataframe\">\n",
       "  <thead>\n",
       "    <tr style=\"text-align: right;\">\n",
       "      <th></th>\n",
       "      <th>ID</th>\n",
       "    </tr>\n",
       "  </thead>\n",
       "  <tbody>\n",
       "    <tr>\n",
       "      <th>0</th>\n",
       "      <td>ID1</td>\n",
       "    </tr>\n",
       "    <tr>\n",
       "      <th>1</th>\n",
       "      <td>ID2</td>\n",
       "    </tr>\n",
       "    <tr>\n",
       "      <th>2</th>\n",
       "      <td>ID3</td>\n",
       "    </tr>\n",
       "    <tr>\n",
       "      <th>3</th>\n",
       "      <td>ID4</td>\n",
       "    </tr>\n",
       "    <tr>\n",
       "      <th>4</th>\n",
       "      <td>ID5</td>\n",
       "    </tr>\n",
       "    <tr>\n",
       "      <th>5</th>\n",
       "      <td>ID6</td>\n",
       "    </tr>\n",
       "    <tr>\n",
       "      <th>6</th>\n",
       "      <td>ID7</td>\n",
       "    </tr>\n",
       "    <tr>\n",
       "      <th>7</th>\n",
       "      <td>ID8</td>\n",
       "    </tr>\n",
       "    <tr>\n",
       "      <th>8</th>\n",
       "      <td>ID9</td>\n",
       "    </tr>\n",
       "    <tr>\n",
       "      <th>9</th>\n",
       "      <td>ID10</td>\n",
       "    </tr>\n",
       "  </tbody>\n",
       "</table>\n",
       "</div>"
      ],
      "text/plain": [
       "     ID\n",
       "0   ID1\n",
       "1   ID2\n",
       "2   ID3\n",
       "3   ID4\n",
       "4   ID5\n",
       "5   ID6\n",
       "6   ID7\n",
       "7   ID8\n",
       "8   ID9\n",
       "9  ID10"
      ]
     },
     "execution_count": 40,
     "metadata": {},
     "output_type": "execute_result"
    }
   ],
   "source": [
    "#-----example 3----- \n",
    "print(df_2.iloc[1: 4+1]) # slice rows implicitly \n",
    "# df_2.loc[[\"ID3\", \"ID4\"]] does not work \n",
    "\n",
    "df_2[[\"ID\"]] # use [[]] to return a DataFrame  "
   ]
  },
  {
   "cell_type": "markdown",
   "metadata": {},
   "source": [
    "You can use `df.index` to access information about the DataFrame index and `df.info` to access information about the DataFrame columns.   "
   ]
  },
  {
   "cell_type": "code",
   "execution_count": 41,
   "metadata": {},
   "outputs": [
    {
     "name": "stdout",
     "output_type": "stream",
     "text": [
      "RangeIndex(start=0, stop=2, step=1)\n"
     ]
    },
    {
     "data": {
      "text/plain": [
       "Index(['apples', 'pears'], dtype='object', name='purchase')"
      ]
     },
     "execution_count": 41,
     "metadata": {},
     "output_type": "execute_result"
    }
   ],
   "source": [
    "#-----example 4-----  \n",
    "print(df_3.index)  \n",
    "\n",
    "new_column = [\"apples\", \"pears\"]\n",
    "df_3[\"purchase\"] = new_column\n",
    "df_3 = df_3.set_index(\"purchase\")  \n",
    "\n",
    "df_3.index"
   ]
  },
  {
   "cell_type": "code",
   "execution_count": 42,
   "metadata": {},
   "outputs": [
    {
     "name": "stdout",
     "output_type": "stream",
     "text": [
      "   Monday  Wednesday  Friday\n",
      "0     1.0        2.0     3.0\n",
      "1     4.0        5.0     6.0\n",
      "2     1.0        2.0     NaN\n",
      "<class 'pandas.core.frame.DataFrame'>\n",
      "RangeIndex: 3 entries, 0 to 2\n",
      "Data columns (total 3 columns):\n",
      " #   Column     Non-Null Count  Dtype  \n",
      "---  ------     --------------  -----  \n",
      " 0   Monday     3 non-null      float64\n",
      " 1   Wednesday  3 non-null      float64\n",
      " 2   Friday     2 non-null      float64\n",
      "dtypes: float64(3)\n",
      "memory usage: 200.0 bytes\n"
     ]
    }
   ],
   "source": [
    "#-----example 5-----\n",
    "new_row = {\"Monday\": 1,\n",
    "           \"Wednesday\": 2,\n",
    "           \"Friday\": np.NaN}\n",
    "\n",
    "df_3 = df_3.append(new_row, ignore_index = True)  \n",
    "print(df_3)\n",
    "\n",
    "df_3.info()"
   ]
  },
  {
   "cell_type": "markdown",
   "metadata": {},
   "source": [
    "You can use `df.shape` to extract the dimensions of your DataFrame into a tuple.    "
   ]
  },
  {
   "cell_type": "code",
   "execution_count": 43,
   "metadata": {},
   "outputs": [
    {
     "name": "stdout",
     "output_type": "stream",
     "text": [
      "     ID  items\n",
      "0   ID1      1\n",
      "1   ID2      2\n",
      "2   ID3      3\n",
      "3   ID4      4\n",
      "4   ID5      5\n",
      "5   ID6      6\n",
      "6   ID7      7\n",
      "7   ID8      8\n",
      "8   ID9      9\n",
      "9  ID10     10\n"
     ]
    },
    {
     "data": {
      "text/plain": [
       "(5, 2)"
      ]
     },
     "execution_count": 43,
     "metadata": {},
     "output_type": "execute_result"
    }
   ],
   "source": [
    "#-----example 6-----  \n",
    "print(df_2)\n",
    "df_2.iloc[1: 5+1].shape # returns a tuple  "
   ]
  },
  {
   "cell_type": "markdown",
   "metadata": {},
   "source": [
    "## Concatenating Python DataFrames  \n",
    "\n",
    "The DataFrame index dictates where arithmetic operations are applied between DataFrames.    "
   ]
  },
  {
   "cell_type": "code",
   "execution_count": 44,
   "metadata": {},
   "outputs": [
    {
     "data": {
      "text/html": [
       "<div>\n",
       "<style scoped>\n",
       "    .dataframe tbody tr th:only-of-type {\n",
       "        vertical-align: middle;\n",
       "    }\n",
       "\n",
       "    .dataframe tbody tr th {\n",
       "        vertical-align: top;\n",
       "    }\n",
       "\n",
       "    .dataframe thead th {\n",
       "        text-align: right;\n",
       "    }\n",
       "</style>\n",
       "<table border=\"1\" class=\"dataframe\">\n",
       "  <thead>\n",
       "    <tr style=\"text-align: right;\">\n",
       "      <th></th>\n",
       "      <th>a</th>\n",
       "    </tr>\n",
       "  </thead>\n",
       "  <tbody>\n",
       "    <tr>\n",
       "      <th>0</th>\n",
       "      <td>NaN</td>\n",
       "    </tr>\n",
       "    <tr>\n",
       "      <th>1</th>\n",
       "      <td>1.0</td>\n",
       "    </tr>\n",
       "    <tr>\n",
       "      <th>2</th>\n",
       "      <td>3.0</td>\n",
       "    </tr>\n",
       "    <tr>\n",
       "      <th>3</th>\n",
       "      <td>5.0</td>\n",
       "    </tr>\n",
       "    <tr>\n",
       "      <th>4</th>\n",
       "      <td>7.0</td>\n",
       "    </tr>\n",
       "    <tr>\n",
       "      <th>6</th>\n",
       "      <td>NaN</td>\n",
       "    </tr>\n",
       "  </tbody>\n",
       "</table>\n",
       "</div>"
      ],
      "text/plain": [
       "     a\n",
       "0  NaN\n",
       "1  1.0\n",
       "2  3.0\n",
       "3  5.0\n",
       "4  7.0\n",
       "6  NaN"
      ]
     },
     "execution_count": 44,
     "metadata": {},
     "output_type": "execute_result"
    }
   ],
   "source": [
    "#-----example 1-----   \n",
    "df1 = pd.DataFrame(np.arange(5), columns = ['a'], index = [0, 1, 2, 3, 4])  \n",
    "df2 = pd.DataFrame(np.arange(5), columns = ['a'], index = [1, 2, 3, 4, 6]) # columns need to be named the same\n",
    "\n",
    "df3 = df1 + df2\n",
    "df3\n",
    "\n",
    "# note that we should avoid this kind of unclear code\n",
    "# as it does not give us a clear idea how what happens to mismatched rows (all turns to NaN)"
   ]
  },
  {
   "cell_type": "code",
   "execution_count": 45,
   "metadata": {},
   "outputs": [
    {
     "name": "stdout",
     "output_type": "stream",
     "text": [
      "     a\n",
      "1  1.0\n",
      "2  3.0\n",
      "3  5.0\n",
      "4  7.0\n"
     ]
    },
    {
     "data": {
      "text/html": [
       "<div>\n",
       "<style scoped>\n",
       "    .dataframe tbody tr th:only-of-type {\n",
       "        vertical-align: middle;\n",
       "    }\n",
       "\n",
       "    .dataframe tbody tr th {\n",
       "        vertical-align: top;\n",
       "    }\n",
       "\n",
       "    .dataframe thead th {\n",
       "        text-align: right;\n",
       "    }\n",
       "</style>\n",
       "<table border=\"1\" class=\"dataframe\">\n",
       "  <thead>\n",
       "    <tr style=\"text-align: right;\">\n",
       "      <th></th>\n",
       "      <th>a</th>\n",
       "    </tr>\n",
       "  </thead>\n",
       "  <tbody>\n",
       "    <tr>\n",
       "      <th>0</th>\n",
       "      <td>4.0</td>\n",
       "    </tr>\n",
       "    <tr>\n",
       "      <th>1</th>\n",
       "      <td>1.0</td>\n",
       "    </tr>\n",
       "    <tr>\n",
       "      <th>2</th>\n",
       "      <td>3.0</td>\n",
       "    </tr>\n",
       "    <tr>\n",
       "      <th>3</th>\n",
       "      <td>5.0</td>\n",
       "    </tr>\n",
       "    <tr>\n",
       "      <th>4</th>\n",
       "      <td>7.0</td>\n",
       "    </tr>\n",
       "    <tr>\n",
       "      <th>6</th>\n",
       "      <td>4.0</td>\n",
       "    </tr>\n",
       "  </tbody>\n",
       "</table>\n",
       "</div>"
      ],
      "text/plain": [
       "     a\n",
       "0  4.0\n",
       "1  1.0\n",
       "2  3.0\n",
       "3  5.0\n",
       "4  7.0\n",
       "6  4.0"
      ]
     },
     "execution_count": 45,
     "metadata": {},
     "output_type": "execute_result"
    }
   ],
   "source": [
    "#-----example 2----- \n",
    "print(df3.dropna()) # remove rows with NaNs\n",
    "\n",
    "df3.fillna(df3.mean()) # replace rows with NaNs with another value "
   ]
  },
  {
   "cell_type": "markdown",
   "metadata": {},
   "source": [
    "In contrast, when we want to combine DataFrames, we use `concat()`.   \n",
    "\n",
    "The concatenation of Pandas Series and DataFrames follows some simple rules:  \n",
    "+ Unlike addition, the positions of indexes do not carry any special positional meaning. \n",
    "+ Indexes from each series or DataFrame are stacked on top of each other, unless `ignore_index = True` is specified.  \n",
    "+ If DataFrames have different number of columns, the concatenation occurs by column name. DataFrames are stacked on top of each other and `NaN` is assigned to missing areas.   \n",
    "+ We can also use `concat()` in combination with the argument `join = ...` to only keep DataFrame values that are present in both DataFrames.  \n",
    "+ Advanced methods for combining DataFrames are preferrable and can be accessed via `join()` and `merge()`.  "
   ]
  },
  {
   "cell_type": "code",
   "execution_count": 46,
   "metadata": {},
   "outputs": [
    {
     "data": {
      "text/plain": [
       "0    1\n",
       "1    2\n",
       "2    3\n",
       "2    1\n",
       "3    2\n",
       "4    3\n",
       "dtype: int64"
      ]
     },
     "execution_count": 46,
     "metadata": {},
     "output_type": "execute_result"
    }
   ],
   "source": [
    "#-----example 1-----  \n",
    "series_1 = pd.Series([1, 2, 3], index = [0, 1, 2])\n",
    "series_2 = pd.Series([1, 2, 3], index = [2, 3, 4])\n",
    "\n",
    "pd.concat([series_1, series_2]) \n",
    "\n",
    "# two series are stacked on top of each other"
   ]
  },
  {
   "cell_type": "code",
   "execution_count": 47,
   "metadata": {},
   "outputs": [
    {
     "name": "stdout",
     "output_type": "stream",
     "text": [
      "   0  1\n",
      "0  0  1\n",
      "1  2  3\n",
      "0  0  1\n",
      "1  2  3\n"
     ]
    },
    {
     "data": {
      "text/html": [
       "<div>\n",
       "<style scoped>\n",
       "    .dataframe tbody tr th:only-of-type {\n",
       "        vertical-align: middle;\n",
       "    }\n",
       "\n",
       "    .dataframe tbody tr th {\n",
       "        vertical-align: top;\n",
       "    }\n",
       "\n",
       "    .dataframe thead th {\n",
       "        text-align: right;\n",
       "    }\n",
       "</style>\n",
       "<table border=\"1\" class=\"dataframe\">\n",
       "  <thead>\n",
       "    <tr style=\"text-align: right;\">\n",
       "      <th></th>\n",
       "      <th>0</th>\n",
       "      <th>1</th>\n",
       "    </tr>\n",
       "  </thead>\n",
       "  <tbody>\n",
       "    <tr>\n",
       "      <th>0</th>\n",
       "      <td>0</td>\n",
       "      <td>1</td>\n",
       "    </tr>\n",
       "    <tr>\n",
       "      <th>1</th>\n",
       "      <td>2</td>\n",
       "      <td>3</td>\n",
       "    </tr>\n",
       "    <tr>\n",
       "      <th>2</th>\n",
       "      <td>0</td>\n",
       "      <td>1</td>\n",
       "    </tr>\n",
       "    <tr>\n",
       "      <th>3</th>\n",
       "      <td>2</td>\n",
       "      <td>3</td>\n",
       "    </tr>\n",
       "  </tbody>\n",
       "</table>\n",
       "</div>"
      ],
      "text/plain": [
       "   0  1\n",
       "0  0  1\n",
       "1  2  3\n",
       "2  0  1\n",
       "3  2  3"
      ]
     },
     "execution_count": 47,
     "metadata": {},
     "output_type": "execute_result"
    }
   ],
   "source": [
    "#-----example 2-----  \n",
    "df_1 = pd.DataFrame(np.arange(4).reshape(2, 2)) # numbers filled from left to right by row\n",
    "df_2 = pd.DataFrame(np.arange(4).reshape(2, 2))  \n",
    "\n",
    "print(pd.concat([df_1, df_2])) # retains original duplicate indexes from df_1 and df_2\n",
    "\n",
    "pd.concat([df_1, df_2], ignore_index = True) # resets the DataFrame index  "
   ]
  },
  {
   "cell_type": "code",
   "execution_count": 48,
   "metadata": {},
   "outputs": [
    {
     "name": "stdout",
     "output_type": "stream",
     "text": [
      "   a  b  d\n",
      "0  0  1  2\n",
      "1  3  4  5\n",
      "   a  c\n",
      "0  0  1\n",
      "1  2  3\n"
     ]
    },
    {
     "data": {
      "text/html": [
       "<div>\n",
       "<style scoped>\n",
       "    .dataframe tbody tr th:only-of-type {\n",
       "        vertical-align: middle;\n",
       "    }\n",
       "\n",
       "    .dataframe tbody tr th {\n",
       "        vertical-align: top;\n",
       "    }\n",
       "\n",
       "    .dataframe thead th {\n",
       "        text-align: right;\n",
       "    }\n",
       "</style>\n",
       "<table border=\"1\" class=\"dataframe\">\n",
       "  <thead>\n",
       "    <tr style=\"text-align: right;\">\n",
       "      <th></th>\n",
       "      <th>a</th>\n",
       "      <th>b</th>\n",
       "      <th>d</th>\n",
       "      <th>c</th>\n",
       "    </tr>\n",
       "  </thead>\n",
       "  <tbody>\n",
       "    <tr>\n",
       "      <th>0</th>\n",
       "      <td>0</td>\n",
       "      <td>1.0</td>\n",
       "      <td>2.0</td>\n",
       "      <td>NaN</td>\n",
       "    </tr>\n",
       "    <tr>\n",
       "      <th>1</th>\n",
       "      <td>3</td>\n",
       "      <td>4.0</td>\n",
       "      <td>5.0</td>\n",
       "      <td>NaN</td>\n",
       "    </tr>\n",
       "    <tr>\n",
       "      <th>0</th>\n",
       "      <td>0</td>\n",
       "      <td>NaN</td>\n",
       "      <td>NaN</td>\n",
       "      <td>1.0</td>\n",
       "    </tr>\n",
       "    <tr>\n",
       "      <th>1</th>\n",
       "      <td>2</td>\n",
       "      <td>NaN</td>\n",
       "      <td>NaN</td>\n",
       "      <td>3.0</td>\n",
       "    </tr>\n",
       "  </tbody>\n",
       "</table>\n",
       "</div>"
      ],
      "text/plain": [
       "   a    b    d    c\n",
       "0  0  1.0  2.0  NaN\n",
       "1  3  4.0  5.0  NaN\n",
       "0  0  NaN  NaN  1.0\n",
       "1  2  NaN  NaN  3.0"
      ]
     },
     "execution_count": 48,
     "metadata": {},
     "output_type": "execute_result"
    }
   ],
   "source": [
    "#-----example 3-----  \n",
    "df_1 = pd.DataFrame(np.arange(6).reshape(2, 3), columns = ['a', 'b', 'd']) \n",
    "df_2 = pd.DataFrame(np.arange(4).reshape(2, 2), columns = ['a', 'c'])  \n",
    "\n",
    "print(df_1)\n",
    "print(df_2)\n",
    "\n",
    "pd.concat([df_1, df_2])"
   ]
  },
  {
   "cell_type": "code",
   "execution_count": 49,
   "metadata": {},
   "outputs": [
    {
     "name": "stdout",
     "output_type": "stream",
     "text": [
      "   a  b  d\n",
      "0  0  1  2\n",
      "1  3  4  5\n",
      "   a  c\n",
      "0  0  1\n",
      "1  2  3\n"
     ]
    },
    {
     "data": {
      "text/html": [
       "<div>\n",
       "<style scoped>\n",
       "    .dataframe tbody tr th:only-of-type {\n",
       "        vertical-align: middle;\n",
       "    }\n",
       "\n",
       "    .dataframe tbody tr th {\n",
       "        vertical-align: top;\n",
       "    }\n",
       "\n",
       "    .dataframe thead th {\n",
       "        text-align: right;\n",
       "    }\n",
       "</style>\n",
       "<table border=\"1\" class=\"dataframe\">\n",
       "  <thead>\n",
       "    <tr style=\"text-align: right;\">\n",
       "      <th></th>\n",
       "      <th>a</th>\n",
       "    </tr>\n",
       "  </thead>\n",
       "  <tbody>\n",
       "    <tr>\n",
       "      <th>0</th>\n",
       "      <td>0</td>\n",
       "    </tr>\n",
       "    <tr>\n",
       "      <th>1</th>\n",
       "      <td>3</td>\n",
       "    </tr>\n",
       "    <tr>\n",
       "      <th>0</th>\n",
       "      <td>0</td>\n",
       "    </tr>\n",
       "    <tr>\n",
       "      <th>1</th>\n",
       "      <td>2</td>\n",
       "    </tr>\n",
       "  </tbody>\n",
       "</table>\n",
       "</div>"
      ],
      "text/plain": [
       "   a\n",
       "0  0\n",
       "1  3\n",
       "0  0\n",
       "1  2"
      ]
     },
     "execution_count": 49,
     "metadata": {},
     "output_type": "execute_result"
    }
   ],
   "source": [
    "#-----example 4-----  \n",
    "df_1 = pd.DataFrame(np.arange(6).reshape(2, 3), columns = ['a', 'b', 'd']) \n",
    "df_2 = pd.DataFrame(np.arange(4).reshape(2, 2), columns = ['a', 'c'])  \n",
    "\n",
    "print(df_1)\n",
    "print(df_2)\n",
    "\n",
    "pd.concat([df_1, df_2], join = 'inner') # join = 'outer' is the default option"
   ]
  }
 ],
 "metadata": {
  "kernelspec": {
   "display_name": "Python 3",
   "language": "python",
   "name": "python3"
  },
  "language_info": {
   "codemirror_mode": {
    "name": "ipython",
    "version": 3
   },
   "file_extension": ".py",
   "mimetype": "text/x-python",
   "name": "python",
   "nbconvert_exporter": "python",
   "pygments_lexer": "ipython3",
   "version": "3.7.1"
  }
 },
 "nbformat": 4,
 "nbformat_minor": 2
}
