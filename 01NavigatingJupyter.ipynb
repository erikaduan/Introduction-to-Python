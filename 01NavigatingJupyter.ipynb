{
 "cells": [
  {
   "cell_type": "markdown",
   "metadata": {},
   "source": [
    "**Introduction to Jupyter notebooks:**  "
   ]
  },
  {
   "cell_type": "markdown",
   "metadata": {},
   "source": [
    "![Welcome!](02_images/notebook1.jpg)"
   ]
  },
  {
   "cell_type": "markdown",
   "metadata": {},
   "source": [
    "Jupyter notebooks consist of many individual cells (similar to individual chunks found in an R markdown file).  \n",
    "\n",
    "You can:  \n",
    "\n",
    "+ Toggle between edit (**enter key**) or command (**esc key**).\n",
    "+ Toggle between code (**y key**) or markdown (**m key**).\n",
    "+ Each cell can run its individual code.\n",
    "+ Each cell only prints its last output, unless specified using **print()**. \n",
    "+ During edit mode, **x | c | v | d keys** can be used to manipulate individual cells.\n",
    "+ Create new cells using **a | b keys** and navigate through them using **shift + enter keys** or **up | down keys**.\n",
    "+ Also use **control + enter keys** to run cells."
   ]
  },
  {
   "cell_type": "code",
   "execution_count": 1,
   "metadata": {},
   "outputs": [
    {
     "data": {
      "text/plain": [
       "[1, 2, 3]"
      ]
     },
     "execution_count": 1,
     "metadata": {},
     "output_type": "execute_result"
    }
   ],
   "source": [
    "b = [1,2,3] # use square brackets to store data in a list\n",
    "b # each cell prints the last output"
   ]
  },
  {
   "cell_type": "code",
   "execution_count": 2,
   "metadata": {},
   "outputs": [
    {
     "name": "stdout",
     "output_type": "stream",
     "text": [
      "[[14, 15, 16], 5, 6, 7]\n"
     ]
    },
    {
     "data": {
      "text/plain": [
       "15"
      ]
     },
     "execution_count": 2,
     "metadata": {},
     "output_type": "execute_result"
    }
   ],
   "source": [
    "c = [[14, 15, 16], 5, 6, 7]\n",
    "print(c) # print() displays the output during any stage of coding in a cell\n",
    "\n",
    "c[0][1] # 1st position in the inner list found in position 0"
   ]
  },
  {
   "cell_type": "markdown",
   "metadata": {},
   "source": [
    "**Python can be used as a calculator when working with numbers.**\n",
    "+ Addition and subtraction.\n",
    "+ Work with negative numbers.\n",
    "+ Multiply and divide (following left to right rules, i.e. higher powers or multiplication and division are computed first).\n",
    "+ Square numbers using the power command **n (i.e. to the power of n).  \n",
    "\n",
    "Note: Numbers can be either **integers** (faster, no decimals) or **floats** (slower, decimals)."
   ]
  },
  {
   "cell_type": "code",
   "execution_count": 3,
   "metadata": {},
   "outputs": [
    {
     "data": {
      "text/plain": [
       "16"
      ]
     },
     "execution_count": 3,
     "metadata": {},
     "output_type": "execute_result"
    }
   ],
   "source": [
    "4 + 12"
   ]
  },
  {
   "cell_type": "code",
   "execution_count": 4,
   "metadata": {},
   "outputs": [
    {
     "data": {
      "text/plain": [
       "5"
      ]
     },
     "execution_count": 4,
     "metadata": {},
     "output_type": "execute_result"
    }
   ],
   "source": [
    "-5 + 10"
   ]
  },
  {
   "cell_type": "code",
   "execution_count": 5,
   "metadata": {},
   "outputs": [
    {
     "data": {
      "text/plain": [
       "10.0"
      ]
     },
     "execution_count": 5,
     "metadata": {},
     "output_type": "execute_result"
    }
   ],
   "source": [
    "3 * 10 / 3 # mathematical operation is calculated from left to right"
   ]
  },
  {
   "cell_type": "code",
   "execution_count": 6,
   "metadata": {},
   "outputs": [
    {
     "data": {
      "text/plain": [
       "8"
      ]
     },
     "execution_count": 6,
     "metadata": {},
     "output_type": "execute_result"
    }
   ],
   "source": [
    "2**3 # to the power of 3"
   ]
  },
  {
   "cell_type": "markdown",
   "metadata": {},
   "source": [
    "**Some unique mathematical functions also exist.**  \n",
    "+ Divide and floor - using the **// symbol**.  \n",
    "+ Divide and print the reminder - using the **% symbol**."
   ]
  },
  {
   "cell_type": "code",
   "execution_count": 7,
   "metadata": {},
   "outputs": [
    {
     "name": "stdout",
     "output_type": "stream",
     "text": [
      "2\n",
      "3\n",
      "2\n",
      "2\n"
     ]
    }
   ],
   "source": [
    "# divide and floor (find the closest whole number divisor?)\n",
    "print(7//3) # i.e. 2 x 3 = 6\n",
    "print(10//3) # i.e. 3 x 3 = 9\n",
    "print(10//4) # i.e. 2 x 4 = 8\n",
    "print(10//5) "
   ]
  },
  {
   "cell_type": "code",
   "execution_count": 8,
   "metadata": {},
   "outputs": [
    {
     "data": {
      "text/plain": [
       "3.5"
      ]
     },
     "execution_count": 8,
     "metadata": {},
     "output_type": "execute_result"
    }
   ],
   "source": [
    "# compare // with /\n",
    "7/2"
   ]
  },
  {
   "cell_type": "code",
   "execution_count": 9,
   "metadata": {
    "scrolled": true
   },
   "outputs": [
    {
     "name": "stdout",
     "output_type": "stream",
     "text": [
      "0\n",
      "1\n"
     ]
    }
   ],
   "source": [
    "# % returns you the remainder after the division\n",
    "print(6%2)\n",
    "print(6%5) # 1 x 5 = 5 and 6 - 5 = 1"
   ]
  },
  {
   "cell_type": "markdown",
   "metadata": {},
   "source": [
    "**Creating and manipulating character strings:**  \n",
    "+ Words can be converted into strings, by placing them inside the **\" \" symbol** or **' ' symbol**.  \n",
    "+ Consistency is key: used \"\" or '' consistently.  \n",
    "+ Unlike R, character strings can be directly added or even multiplied. "
   ]
  },
  {
   "cell_type": "code",
   "execution_count": 10,
   "metadata": {},
   "outputs": [
    {
     "data": {
      "text/plain": [
       "'This is a word.'"
      ]
     },
     "execution_count": 10,
     "metadata": {},
     "output_type": "execute_result"
    }
   ],
   "source": [
    "word = \"This is a word.\"\n",
    "word"
   ]
  },
  {
   "cell_type": "code",
   "execution_count": 11,
   "metadata": {},
   "outputs": [
    {
     "data": {
      "text/plain": [
       "'Erika M Duan'"
      ]
     },
     "execution_count": 11,
     "metadata": {},
     "output_type": "execute_result"
    }
   ],
   "source": [
    "my_name = \"Erika\" + \" \" + \"M\" + \" \" + \"Duan\" #manually add spaces via \" \"\n",
    "my_name # do not use my.name for annotation"
   ]
  },
  {
   "cell_type": "code",
   "execution_count": 12,
   "metadata": {},
   "outputs": [
    {
     "data": {
      "text/plain": [
       "'my precioussssss'"
      ]
     },
     "execution_count": 12,
     "metadata": {},
     "output_type": "execute_result"
    }
   ],
   "source": [
    "Gollum_says = \"my\" + \" \" + \"precious\" + \"s\" * 5\n",
    "Gollum_says"
   ]
  },
  {
   "cell_type": "markdown",
   "metadata": {},
   "source": [
    "**In python, functions follow the general structure function (objects, arguments).**  \n",
    "\n",
    "Examples include:  \n",
    "+ **type()** is a useful function for knowing your data type.\n",
    "+ **len()** behaves like length() in R - it finds the length of a string.\n",
    "+ **int()** | **str()** | **float()** are forms of data coercion and behaves like **as.integer**, **as.character** and **as.numeric** in R."
   ]
  },
  {
   "cell_type": "code",
   "execution_count": 13,
   "metadata": {},
   "outputs": [
    {
     "data": {
      "text/plain": [
       "str"
      ]
     },
     "execution_count": 13,
     "metadata": {},
     "output_type": "execute_result"
    }
   ],
   "source": [
    "type(\"Hobbit\")"
   ]
  },
  {
   "cell_type": "code",
   "execution_count": 14,
   "metadata": {},
   "outputs": [
    {
     "data": {
      "text/plain": [
       "int"
      ]
     },
     "execution_count": 14,
     "metadata": {},
     "output_type": "execute_result"
    }
   ],
   "source": [
    "type(3**2)"
   ]
  },
  {
   "cell_type": "code",
   "execution_count": 15,
   "metadata": {},
   "outputs": [
    {
     "data": {
      "text/plain": [
       "float"
      ]
     },
     "execution_count": 15,
     "metadata": {},
     "output_type": "execute_result"
    }
   ],
   "source": [
    "type(1.5) # has decimals, hence a float"
   ]
  },
  {
   "cell_type": "code",
   "execution_count": 16,
   "metadata": {},
   "outputs": [
    {
     "data": {
      "text/plain": [
       "16"
      ]
     },
     "execution_count": 16,
     "metadata": {},
     "output_type": "execute_result"
    }
   ],
   "source": [
    "len(\"I like penguins.\")"
   ]
  },
  {
   "cell_type": "code",
   "execution_count": 17,
   "metadata": {},
   "outputs": [
    {
     "data": {
      "text/plain": [
       "21"
      ]
     },
     "execution_count": 17,
     "metadata": {},
     "output_type": "execute_result"
    }
   ],
   "source": [
    "len(\"I like many penguins.\") # 5 more characters than the previous sentence"
   ]
  },
  {
   "cell_type": "markdown",
   "metadata": {},
   "source": [
    "The **len() function** is used to find the length of characters/strings. It is not meant to print the value of an integer or float.  \n",
    "The following code will produce an error.  "
   ]
  },
  {
   "cell_type": "code",
   "execution_count": 18,
   "metadata": {},
   "outputs": [
    {
     "ename": "TypeError",
     "evalue": "object of type 'int' has no len()",
     "output_type": "error",
     "traceback": [
      "\u001b[1;31m---------------------------------------------------------------------------\u001b[0m",
      "\u001b[1;31mTypeError\u001b[0m                                 Traceback (most recent call last)",
      "\u001b[1;32m<ipython-input-18-66cb7fb7a7d9>\u001b[0m in \u001b[0;36m<module>\u001b[1;34m\u001b[0m\n\u001b[1;32m----> 1\u001b[1;33m \u001b[0mlen\u001b[0m\u001b[1;33m(\u001b[0m\u001b[1;36m5000\u001b[0m\u001b[1;33m)\u001b[0m \u001b[1;31m# error - object of type 'int' has no len()\u001b[0m\u001b[1;33m\u001b[0m\u001b[1;33m\u001b[0m\u001b[0m\n\u001b[0m",
      "\u001b[1;31mTypeError\u001b[0m: object of type 'int' has no len()"
     ]
    }
   ],
   "source": [
    "len(5000) # error - object of type 'int' has no len()"
   ]
  },
  {
   "cell_type": "markdown",
   "metadata": {},
   "source": [
    "The code below will not produce an error, but it can be misleading as it is still printing the length of a string (which contains numerical characters)."
   ]
  },
  {
   "cell_type": "code",
   "execution_count": 19,
   "metadata": {},
   "outputs": [
    {
     "data": {
      "text/plain": [
       "4"
      ]
     },
     "execution_count": 19,
     "metadata": {},
     "output_type": "execute_result"
    }
   ],
   "source": [
    "len(\"5000\") # character length of 4\n",
    "len(str(5000)) # also coerces 5000 into a character"
   ]
  },
  {
   "cell_type": "markdown",
   "metadata": {},
   "source": [
    "**How to coerce characters, intergers and floats:**"
   ]
  },
  {
   "cell_type": "code",
   "execution_count": 20,
   "metadata": {},
   "outputs": [
    {
     "data": {
      "text/plain": [
       "'5000'"
      ]
     },
     "execution_count": 20,
     "metadata": {},
     "output_type": "execute_result"
    }
   ],
   "source": [
    "str(5000) # \"5000\" is a string"
   ]
  },
  {
   "cell_type": "code",
   "execution_count": 21,
   "metadata": {},
   "outputs": [
    {
     "data": {
      "text/plain": [
       "3"
      ]
     },
     "execution_count": 21,
     "metadata": {},
     "output_type": "execute_result"
    }
   ],
   "source": [
    "int(3.4445) # coercing integers always rounds down to the nearest full integer"
   ]
  },
  {
   "cell_type": "code",
   "execution_count": 22,
   "metadata": {},
   "outputs": [
    {
     "data": {
      "text/plain": [
       "5.0"
      ]
     },
     "execution_count": 22,
     "metadata": {},
     "output_type": "execute_result"
    }
   ],
   "source": [
    "float(5) # retains decimals if present"
   ]
  },
  {
   "cell_type": "code",
   "execution_count": 23,
   "metadata": {},
   "outputs": [
    {
     "data": {
      "text/plain": [
       "2"
      ]
     },
     "execution_count": 23,
     "metadata": {},
     "output_type": "execute_result"
    }
   ],
   "source": [
    "int(1.0) + int(float(\"1.1\")) # integer coercion forces float 1.1 into a 1"
   ]
  },
  {
   "cell_type": "markdown",
   "metadata": {},
   "source": [
    "**Navigating string specific functions:**  \n",
    "+ To make everything uppercase, use the **.upper() method**.   \n",
    "    + Unlike functions, methods are thought of as actions which perform changes on objects.\n",
    "    + In pythong, the coding syntax is object**.methods(arguments)**.   \n",
    "    \n",
    "+ Other examples of methods exist [here](https://docs.python.org/3/library/stdtypes.html#string-methods).\n",
    "    + \"str\".capitalize\n",
    "    + \"str\".title  \n",
    "    \n",
    "**Writing a object.method as a function(object) will generate an error message.** "
   ]
  },
  {
   "cell_type": "code",
   "execution_count": 24,
   "metadata": {
    "scrolled": true
   },
   "outputs": [
    {
     "ename": "NameError",
     "evalue": "name 'upper' is not defined",
     "output_type": "error",
     "traceback": [
      "\u001b[1;31m---------------------------------------------------------------------------\u001b[0m",
      "\u001b[1;31mNameError\u001b[0m                                 Traceback (most recent call last)",
      "\u001b[1;32m<ipython-input-24-0ffce9c8844f>\u001b[0m in \u001b[0;36m<module>\u001b[1;34m\u001b[0m\n\u001b[1;32m----> 1\u001b[1;33m \u001b[0mupper\u001b[0m\u001b[1;33m(\u001b[0m\u001b[1;34m\"Hello World\"\u001b[0m\u001b[1;33m)\u001b[0m \u001b[1;31m# incorrectly using a function instead of a method\u001b[0m\u001b[1;33m\u001b[0m\u001b[1;33m\u001b[0m\u001b[0m\n\u001b[0m",
      "\u001b[1;31mNameError\u001b[0m: name 'upper' is not defined"
     ]
    }
   ],
   "source": [
    "upper(\"Hello World\") # incorrectly using a function instead of a method"
   ]
  },
  {
   "cell_type": "code",
   "execution_count": 25,
   "metadata": {},
   "outputs": [
    {
     "data": {
      "text/plain": [
       "'HELLO WORLD!!!'"
      ]
     },
     "execution_count": 25,
     "metadata": {},
     "output_type": "execute_result"
    }
   ],
   "source": [
    "\"Hello World!!!\".upper() # method because it changes the object to another form"
   ]
  },
  {
   "cell_type": "code",
   "execution_count": 26,
   "metadata": {},
   "outputs": [
    {
     "data": {
      "text/plain": [
       "'Yarrgehe Civilised Pirate Language'"
      ]
     },
     "execution_count": 26,
     "metadata": {},
     "output_type": "execute_result"
    }
   ],
   "source": [
    "\"Yarrgehe CiVILiSED PIRATE LANGUAGE\".title()"
   ]
  },
  {
   "cell_type": "markdown",
   "metadata": {},
   "source": [
    "**Using the print() function:**  \n",
    "+ Print statements take the data input and print it as an output (i.e. as a string) to the console. \n",
    "+ Useful when trying to format some text output in a particular way - such as only using 2 decimal points for a number.\n",
    "+ Useful for 'looking under the hood' when you are coding.\n",
    "+ Useful when you are looking for issues in the code, i.e. you can print out your data at the point where you think things are going wrong. \n"
   ]
  },
  {
   "cell_type": "code",
   "execution_count": 27,
   "metadata": {},
   "outputs": [
    {
     "name": "stdout",
     "output_type": "stream",
     "text": [
      "Hello World 2019\n"
     ]
    }
   ],
   "source": [
    "print(\"Hello\", \"World\", 2019) # unlike adding strings, there is no need to add the \" \" spaces manually"
   ]
  },
  {
   "cell_type": "code",
   "execution_count": 28,
   "metadata": {},
   "outputs": [
    {
     "name": "stdout",
     "output_type": "stream",
     "text": [
      "100 0 0\n"
     ]
    }
   ],
   "source": [
    "print(100,000,000) # never use commas for large integers"
   ]
  },
  {
   "cell_type": "markdown",
   "metadata": {},
   "source": [
    "**Assigning variables in python**  \n",
    "Python allows assigning of variables using the **= symbol**.  \n",
    "\n",
    "When assigning variables, you must follow some rules:  \n",
    "+ Names must start with a letter (a-z,A-Z) or underscore (_) and can be followed by any number of letters, digits (0-9), or underscores.\n",
    "+ Names cannot be the same as reserved words (i.e. False, True, None, And, If, For, While). \n",
    "+ Names are case-sensitive: 'YOU', 'you', 'You', and 'yOu' are all different names in Python.\n",
    "+ The **- | + | * | /** symbols are used by Python for defining operations on data and also cannot be used."
   ]
  },
  {
   "cell_type": "code",
   "execution_count": 29,
   "metadata": {},
   "outputs": [
    {
     "name": "stdout",
     "output_type": "stream",
     "text": [
      "<class 'float'>\n"
     ]
    }
   ],
   "source": [
    "number = 3.5\n",
    "\n",
    "print(type(number))"
   ]
  },
  {
   "cell_type": "code",
   "execution_count": 30,
   "metadata": {},
   "outputs": [
    {
     "name": "stdout",
     "output_type": "stream",
     "text": [
      "12.0\n"
     ]
    }
   ],
   "source": [
    "print(number*2 + 5) # (3.5 x 3.5) + 5"
   ]
  },
  {
   "cell_type": "markdown",
   "metadata": {},
   "source": [
    "**Printing sentences by stringing together characters and variables can be cumbersome and bulky.**"
   ]
  },
  {
   "cell_type": "code",
   "execution_count": 31,
   "metadata": {},
   "outputs": [
    {
     "name": "stdout",
     "output_type": "stream",
     "text": [
      "Our team name is Python Users . We are 2 in team number and our average age is 31.5 .\n"
     ]
    }
   ],
   "source": [
    "team_name = \"Python Users\"\n",
    "team_count = 2\n",
    "team_age = 31.5\n",
    "\n",
    "print(\"Our team name is\", team_name, \".\", \"We are\", team_count, \"in team number and our average age is\", team_age, \".\")"
   ]
  },
  {
   "cell_type": "markdown",
   "metadata": {},
   "source": [
    "**Luckily, an elegant way of performing print() exists that doesn't add in unintended spaces.**  \n",
    "\n",
    "It follows the syntax **print(\"This sentence contains %s and %i and %f.\" %(string, integer, float))**.  \n",
    "However, this format converts the string into a 'None Type' class. "
   ]
  },
  {
   "cell_type": "code",
   "execution_count": 32,
   "metadata": {},
   "outputs": [
    {
     "name": "stdout",
     "output_type": "stream",
     "text": [
      "Our team name is R Users. We have 4 members and we are, on average, 25.98 years old.\n"
     ]
    }
   ],
   "source": [
    "TeamName = 'R Users'\n",
    "X = 4\n",
    "Y = 25.976\n",
    "print(\"Our team name is %s. We have %i members and we are, on average, %0.2f years old.\" %(TeamName, X, Y))\n",
    "\n",
    "# %0.2f represents a float rounded to only 2 decimal places"
   ]
  },
  {
   "cell_type": "code",
   "execution_count": 33,
   "metadata": {},
   "outputs": [
    {
     "name": "stdout",
     "output_type": "stream",
     "text": [
      "In the Fellowship of the Ring, the team consisted of 9 members. The shortest person was Gimli.\n"
     ]
    }
   ],
   "source": [
    "Fellowship = 'Fellowship of the Ring'\n",
    "Team_number = 9\n",
    "Member = 'Gimli'\n",
    "\n",
    "print(\"In the %s, the team consisted of %i members. The shortest person was %s.\"\n",
    "      %(Fellowship, Team_number, Member))"
   ]
  },
  {
   "cell_type": "code",
   "execution_count": 34,
   "metadata": {},
   "outputs": [
    {
     "name": "stdout",
     "output_type": "stream",
     "text": [
      "Hello world. I know 2 programming languages, R and python.\n",
      "<class 'str'>\n",
      "<class 'NoneType'>\n",
      "<class 'str'>\n"
     ]
    }
   ],
   "source": [
    "message = print(\"Hello world. I know %i programming languages, %s and %s.\" %(2, \"R\", \"python\"))\n",
    "print(type(\"message\"))\n",
    "print(type(message)) \n",
    "\n",
    "str(message) # coerces to characters\n",
    "print(type(str(message)))"
   ]
  },
  {
   "cell_type": "markdown",
   "metadata": {},
   "source": [
    "**3 pet peeves of python**\n",
    "1. The first object in a list is stored in position **[0]**.\n",
    "2. To slice from a list, always slice between a and b+1 to extract a:b.\n",
    "3. Using list2 = list1 creates two names for the same list; use **list2 = list1[:]** or **list2 = list1.copy()** instead."
   ]
  },
  {
   "cell_type": "markdown",
   "metadata": {},
   "source": [
    "**Extra Python Crash Course Challenge - printing lists**  \n",
    "For the original exercise, please refer to page 46 of Python Crash Course (8th printing) by Eric Matthes."
   ]
  },
  {
   "cell_type": "code",
   "execution_count": 35,
   "metadata": {},
   "outputs": [
    {
     "name": "stdout",
     "output_type": "stream",
     "text": [
      "Hello Dad! I would like to invite you to dinner.\n",
      "Hello Mum! I would like to invite you to dinner.\n",
      "Hello Dan! I would like to invite you to dinner.\n",
      "Hello family cat! I would like to invite you to dinner.\n"
     ]
    }
   ],
   "source": [
    "# Write a guest list and individually write an invitation asking people to dinner. \n",
    "original_invite = [\"Dad\", \"Mum\", \"Dan\", \"family cat\"]\n",
    "\n",
    "for invitee in original_invite:\n",
    "    print(\"Hello %s! I would like to invite you to dinner.\" %(invitee))"
   ]
  },
  {
   "cell_type": "code",
   "execution_count": 36,
   "metadata": {},
   "outputs": [
    {
     "name": "stdout",
     "output_type": "stream",
     "text": [
      "Oh no, the family cat can't make it to dinner anymore. I guess I will have to change the list.\n"
     ]
    }
   ],
   "source": [
    "print(\"Oh no, the %s can't make it to dinner anymore. I guess I will have to change the list.\" %(original_invite[3]))"
   ]
  },
  {
   "cell_type": "code",
   "execution_count": 37,
   "metadata": {},
   "outputs": [
    {
     "name": "stdout",
     "output_type": "stream",
     "text": [
      "Hello Dad! I would like to invite you to dinner.\n",
      "Hello Mum! I would like to invite you to dinner.\n",
      "Hello Dan! I would like to invite you to dinner.\n",
      "Hello neighbour's cat! I would like to invite you to dinner.\n"
     ]
    }
   ],
   "source": [
    "new_invite = original_invite.copy() # create a copy of the original invite\n",
    "\n",
    "new_invite[3] = \"neighbour's cat\" \n",
    "\n",
    "for new_invitee in new_invite:\n",
    "     print(\"Hello %s! I would like to invite you to dinner.\" %(new_invitee))"
   ]
  },
  {
   "cell_type": "code",
   "execution_count": 38,
   "metadata": {},
   "outputs": [
    {
     "name": "stdout",
     "output_type": "stream",
     "text": [
      "Now the invite includes ['Dad', 'Mum', 'family corgi', 'Dan', \"neighbour's cat\", 'family German Shepherd'].\n"
     ]
    }
   ],
   "source": [
    "# The list increases in size!\n",
    "\n",
    "new_invite.insert(2, \"family corgi\") # adds a new object at the third position\n",
    "new_invite.append(\"family German Shepherd\") # adds a new object into the last position\n",
    "                  \n",
    "print(\"Now the invite includes %s.\" %(new_invite))"
   ]
  },
  {
   "cell_type": "code",
   "execution_count": 39,
   "metadata": {},
   "outputs": [
    {
     "name": "stdout",
     "output_type": "stream",
     "text": [
      "Sorry family German Shepherd, we will be inviting you to dinner another day.\n",
      "Sorry neighbour's cat, we will be inviting you to dinner another day.\n",
      "Okay, Dad! It's dinner time.\n",
      "Okay, Mum! It's dinner time.\n",
      "Okay, family corgi! It's dinner time.\n",
      "Okay, Dan! It's dinner time.\n"
     ]
    }
   ],
   "source": [
    "# The list decreases in size again!\n",
    "for next_time in new_invite[4:]: # objects from the fifth to last position \n",
    "    next_time = new_invite.pop(-1) # remove objects from new_invite list and store the object in in next_time \n",
    "    print(\"Sorry %s, we will be inviting you to dinner another day.\" %(next_time))\n",
    "\n",
    "for new_invitee in new_invite:\n",
    "    print(\"Okay, %s! It's dinner time.\" %(new_invitee))"
   ]
  },
  {
   "cell_type": "code",
   "execution_count": 40,
   "metadata": {},
   "outputs": [
    {
     "name": "stdout",
     "output_type": "stream",
     "text": [
      "['Dad', 'Mum', 'family corgi', 'Dan']\n",
      "['Dad', 'Mum', 'Dan']\n"
     ]
    }
   ],
   "source": [
    "# Deleting elements in a list using del\n",
    "\n",
    "print(new_invite) # new invite has been modified due to the previous for loop\n",
    "del new_invite[2] # del can also be used to delete an object in a list at any position\n",
    "\n",
    "print(new_invite)"
   ]
  },
  {
   "cell_type": "markdown",
   "metadata": {},
   "source": [
    "**This concludes the introduction to navigating Jupyter notebooks and using python data structures.**"
   ]
  }
 ],
 "metadata": {
  "kernelspec": {
   "display_name": "Python 3",
   "language": "python",
   "name": "python3"
  },
  "language_info": {
   "codemirror_mode": {
    "name": "ipython",
    "version": 3
   },
   "file_extension": ".py",
   "mimetype": "text/x-python",
   "name": "python",
   "nbconvert_exporter": "python",
   "pygments_lexer": "ipython3",
   "version": "3.7.1"
  }
 },
 "nbformat": 4,
 "nbformat_minor": 2
}
