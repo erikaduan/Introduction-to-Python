{
 "cells": [
  {
   "cell_type": "markdown",
   "metadata": {},
   "source": [
    "# Wrangling DataFrames with Pandas    \n",
    "## Author: Erika Duan    "
   ]
  },
  {
   "cell_type": "markdown",
   "metadata": {},
   "source": [
    "![](../02_figures/04_manipulating-pandas-header.jpg)"
   ]
  },
  {
   "cell_type": "markdown",
   "metadata": {},
   "source": [
    "# Dataset background  \n",
    "\n",
    "We will be using open government data to familiarise ourselves with Pandas DataFrame manipulations. The dataset we will use describes the [index of disadvantage by schools in South Australia](https://data.gov.au/dataset/ds-sa-4ab8a539-eab5-48e2-8d88-a599d6114126/details?q=school), with a focus on [2020 data](https://data.gov.au/dataset/ds-sa-4ab8a539-eab5-48e2-8d88-a599d6114126/distribution/dist-sa-86d35483-feff-42b5-ac05-ad3186ac39de/details?q=school).     \n",
    "\n",
    "+ The index is a socio-economic index, used by the South Australian Department for Education to allocate resources to schools to address educational disadvantage related to socio-economic status.  \n",
    "+ The most disadvantaged schools have an index of 1.    \n",
    "+ The least disadvantaged have an index of 7.   \n",
    "+ Data is currently available for 2017, 2018 and 2020.  "
   ]
  },
  {
   "cell_type": "markdown",
   "metadata": {},
   "source": [
    "# Loading data     \n",
    "\n",
    "We can load data in two different ways:  \n",
    "\n",
    "1. Locally using the `os` library and the Pandas `read_csv` function.  \n",
    "2. Directly through the data.gov.au [CKAN data API](https://docs.ckan.org/en/latest/maintaining/datastore.html) as documented [here]().    "
   ]
  },
  {
   "cell_type": "code",
   "execution_count": 28,
   "metadata": {},
   "outputs": [
    {
     "data": {
      "text/html": [
       "<div>\n",
       "<style scoped>\n",
       "    .dataframe tbody tr th:only-of-type {\n",
       "        vertical-align: middle;\n",
       "    }\n",
       "\n",
       "    .dataframe tbody tr th {\n",
       "        vertical-align: top;\n",
       "    }\n",
       "\n",
       "    .dataframe thead th {\n",
       "        text-align: right;\n",
       "    }\n",
       "</style>\n",
       "<table border=\"1\" class=\"dataframe\">\n",
       "  <thead>\n",
       "    <tr style=\"text-align: right;\">\n",
       "      <th></th>\n",
       "      <th>ID</th>\n",
       "      <th>School_Number</th>\n",
       "      <th>School_Name</th>\n",
       "      <th>Suburb</th>\n",
       "      <th>Post_Code</th>\n",
       "      <th>Type_of_Schooling</th>\n",
       "      <th>Index_of_Educational_Disadvantage</th>\n",
       "      <th>Latitude</th>\n",
       "      <th>Longitude</th>\n",
       "    </tr>\n",
       "  </thead>\n",
       "  <tbody>\n",
       "    <tr>\n",
       "      <th>0</th>\n",
       "      <td>1</td>\n",
       "      <td>536</td>\n",
       "      <td>Aberfoyle Hub R-7 School</td>\n",
       "      <td>Aberfoyle Park</td>\n",
       "      <td>5159</td>\n",
       "      <td>Primary Education</td>\n",
       "      <td>6</td>\n",
       "      <td>-35.078139</td>\n",
       "      <td>138.595142</td>\n",
       "    </tr>\n",
       "    <tr>\n",
       "      <th>1</th>\n",
       "      <td>2</td>\n",
       "      <td>1673</td>\n",
       "      <td>Aberfoyle Park High School</td>\n",
       "      <td>Aberfoyle Park</td>\n",
       "      <td>5159</td>\n",
       "      <td>Secondary Education</td>\n",
       "      <td>6</td>\n",
       "      <td>-35.074007</td>\n",
       "      <td>138.594181</td>\n",
       "    </tr>\n",
       "    <tr>\n",
       "      <th>2</th>\n",
       "      <td>3</td>\n",
       "      <td>1919</td>\n",
       "      <td>Adelaide Botanic High School</td>\n",
       "      <td>Adelaide</td>\n",
       "      <td>5000</td>\n",
       "      <td>Secondary Education</td>\n",
       "      <td>7</td>\n",
       "      <td>-34.917055</td>\n",
       "      <td>138.606743</td>\n",
       "    </tr>\n",
       "    <tr>\n",
       "      <th>3</th>\n",
       "      <td>4</td>\n",
       "      <td>997</td>\n",
       "      <td>Adelaide East Education Centre</td>\n",
       "      <td>Paradise</td>\n",
       "      <td>5075</td>\n",
       "      <td>Special Education</td>\n",
       "      <td>6</td>\n",
       "      <td>-34.873042</td>\n",
       "      <td>138.672971</td>\n",
       "    </tr>\n",
       "    <tr>\n",
       "      <th>4</th>\n",
       "      <td>5</td>\n",
       "      <td>768</td>\n",
       "      <td>Adelaide High School</td>\n",
       "      <td>Adelaide</td>\n",
       "      <td>5000</td>\n",
       "      <td>Secondary Education</td>\n",
       "      <td>5</td>\n",
       "      <td>-34.925733</td>\n",
       "      <td>138.586678</td>\n",
       "    </tr>\n",
       "  </tbody>\n",
       "</table>\n",
       "</div>"
      ],
      "text/plain": [
       "   ID  School_Number                     School_Name          Suburb  \\\n",
       "0   1            536        Aberfoyle Hub R-7 School  Aberfoyle Park   \n",
       "1   2           1673      Aberfoyle Park High School  Aberfoyle Park   \n",
       "2   3           1919    Adelaide Botanic High School        Adelaide   \n",
       "3   4            997  Adelaide East Education Centre        Paradise   \n",
       "4   5            768            Adelaide High School        Adelaide   \n",
       "\n",
       "   Post_Code    Type_of_Schooling  Index_of_Educational_Disadvantage  \\\n",
       "0       5159    Primary Education                                  6   \n",
       "1       5159  Secondary Education                                  6   \n",
       "2       5000  Secondary Education                                  7   \n",
       "3       5075    Special Education                                  6   \n",
       "4       5000  Secondary Education                                  5   \n",
       "\n",
       "    Latitude   Longitude  \n",
       "0 -35.078139  138.595142  \n",
       "1 -35.074007  138.594181  \n",
       "2 -34.917055  138.606743  \n",
       "3 -34.873042  138.672971  \n",
       "4 -34.925733  138.586678  "
      ]
     },
     "execution_count": 28,
     "metadata": {},
     "output_type": "execute_result"
    }
   ],
   "source": [
    "#-----method 1: load csv file locally-----  \n",
    "import pathlib\n",
    "import pandas as pd     \n",
    "\n",
    "working_dir = pathlib.Path.cwd() # get current working directory  \n",
    "data_path = working_dir.parent / '01_raw_data' / '04_index-of-disadvantage-by-school-2020.csv'\n",
    "\n",
    "raw_data = pd.read_csv(data_path)  \n",
    "raw_data.head()"
   ]
  },
  {
   "cell_type": "code",
   "execution_count": 53,
   "metadata": {},
   "outputs": [
    {
     "data": {
      "text/html": [
       "<div>\n",
       "<style scoped>\n",
       "    .dataframe tbody tr th:only-of-type {\n",
       "        vertical-align: middle;\n",
       "    }\n",
       "\n",
       "    .dataframe tbody tr th {\n",
       "        vertical-align: top;\n",
       "    }\n",
       "\n",
       "    .dataframe thead th {\n",
       "        text-align: right;\n",
       "    }\n",
       "</style>\n",
       "<table border=\"1\" class=\"dataframe\">\n",
       "  <thead>\n",
       "    <tr style=\"text-align: right;\">\n",
       "      <th></th>\n",
       "      <th>ID</th>\n",
       "      <th>Index_of_Educational_Disadvantage</th>\n",
       "      <th>Latitude</th>\n",
       "      <th>Longitude</th>\n",
       "      <th>Post_Code</th>\n",
       "      <th>School_Name</th>\n",
       "      <th>School_Number</th>\n",
       "      <th>Suburb</th>\n",
       "      <th>Type_of_Schooling</th>\n",
       "      <th>_id</th>\n",
       "    </tr>\n",
       "  </thead>\n",
       "  <tbody>\n",
       "    <tr>\n",
       "      <th>0</th>\n",
       "      <td>1</td>\n",
       "      <td>6</td>\n",
       "      <td>-35.078139</td>\n",
       "      <td>138.595142</td>\n",
       "      <td>5159</td>\n",
       "      <td>Aberfoyle Hub R-7 School</td>\n",
       "      <td>536</td>\n",
       "      <td>Aberfoyle Park</td>\n",
       "      <td>Primary Education</td>\n",
       "      <td>1</td>\n",
       "    </tr>\n",
       "    <tr>\n",
       "      <th>1</th>\n",
       "      <td>2</td>\n",
       "      <td>6</td>\n",
       "      <td>-35.074007</td>\n",
       "      <td>138.594181</td>\n",
       "      <td>5159</td>\n",
       "      <td>Aberfoyle Park High School</td>\n",
       "      <td>1673</td>\n",
       "      <td>Aberfoyle Park</td>\n",
       "      <td>Secondary Education</td>\n",
       "      <td>2</td>\n",
       "    </tr>\n",
       "    <tr>\n",
       "      <th>2</th>\n",
       "      <td>3</td>\n",
       "      <td>7</td>\n",
       "      <td>-34.917055</td>\n",
       "      <td>138.606743</td>\n",
       "      <td>5000</td>\n",
       "      <td>Adelaide Botanic High School</td>\n",
       "      <td>1919</td>\n",
       "      <td>Adelaide</td>\n",
       "      <td>Secondary Education</td>\n",
       "      <td>3</td>\n",
       "    </tr>\n",
       "    <tr>\n",
       "      <th>3</th>\n",
       "      <td>4</td>\n",
       "      <td>6</td>\n",
       "      <td>-34.873042</td>\n",
       "      <td>138.672971</td>\n",
       "      <td>5075</td>\n",
       "      <td>Adelaide East Education Centre</td>\n",
       "      <td>997</td>\n",
       "      <td>Paradise</td>\n",
       "      <td>Special Education</td>\n",
       "      <td>4</td>\n",
       "    </tr>\n",
       "    <tr>\n",
       "      <th>4</th>\n",
       "      <td>5</td>\n",
       "      <td>5</td>\n",
       "      <td>-34.925733</td>\n",
       "      <td>138.586678</td>\n",
       "      <td>5000</td>\n",
       "      <td>Adelaide High School</td>\n",
       "      <td>768</td>\n",
       "      <td>Adelaide</td>\n",
       "      <td>Secondary Education</td>\n",
       "      <td>5</td>\n",
       "    </tr>\n",
       "  </tbody>\n",
       "</table>\n",
       "</div>"
      ],
      "text/plain": [
       "   ID  Index_of_Educational_Disadvantage   Latitude   Longitude  Post_Code  \\\n",
       "0   1                                  6 -35.078139  138.595142       5159   \n",
       "1   2                                  6 -35.074007  138.594181       5159   \n",
       "2   3                                  7 -34.917055  138.606743       5000   \n",
       "3   4                                  6 -34.873042  138.672971       5075   \n",
       "4   5                                  5 -34.925733  138.586678       5000   \n",
       "\n",
       "                      School_Name  School_Number          Suburb  \\\n",
       "0        Aberfoyle Hub R-7 School            536  Aberfoyle Park   \n",
       "1      Aberfoyle Park High School           1673  Aberfoyle Park   \n",
       "2    Adelaide Botanic High School           1919        Adelaide   \n",
       "3  Adelaide East Education Centre            997        Paradise   \n",
       "4            Adelaide High School            768        Adelaide   \n",
       "\n",
       "     Type_of_Schooling  _id  \n",
       "0    Primary Education    1  \n",
       "1  Secondary Education    2  \n",
       "2  Secondary Education    3  \n",
       "3    Special Education    4  \n",
       "4  Secondary Education    5  "
      ]
     },
     "execution_count": 53,
     "metadata": {},
     "output_type": "execute_result"
    }
   ],
   "source": [
    "#-----method 2: access data as JSON file through CKAN data API-----  \n",
    "import pathlib\n",
    "import numpy as np\n",
    "import pandas as pd\n",
    "import requests\n",
    "import json\n",
    "\n",
    "url = \"https://data.sa.gov.au/data/api/3/action/datastore_search?resource_id=86d35483-feff-42b5-ac05-ad3186ac39de&limit=512\"\n",
    "json_content = requests.get(url).json() # returns a dictionary object \n",
    "\n",
    "content = json.dumps(json_content, indent = 4, sort_keys = True) # JSON encoder returns a JSON file format/ string object \n",
    "\n",
    "df = pd.read_json(content)\n",
    "df = pd.json_normalize(df['result']['records']) # normalize semi-structured JSON data into a flat table\n",
    "df.head()"
   ]
  },
  {
   "cell_type": "markdown",
   "metadata": {},
   "source": [
    "**Note:** An introduction to the JSON file format can be found [here](https://towardsdatascience.com/an-introduction-to-json-c9acb464f43e).  "
   ]
  },
  {
   "cell_type": "markdown",
   "metadata": {},
   "source": [
    "# Examining DataFrame structure  \n",
    "\n",
    "We can examine the properties of our DataFrame using the following functions and methods:  \n",
    "+ `df.shape()` to return the DataFrame dimensions.     \n",
    "+ `df.info()` to return a summary of all DataFrame columns, missing values and column object types.    \n",
    "+ `df.columns` to return an index of all column names.  \n",
    "+ `df.describe()` to return a simple statistical summary of each column's values.  \n",
    "\n",
    "**Note:** You can also configure Jupyter notebook to display all columns with `pd.set_option(\"display.max.columns\", None)`. "
   ]
  },
  {
   "cell_type": "code",
   "execution_count": 45,
   "metadata": {},
   "outputs": [
    {
     "data": {
      "text/plain": [
       "(512, 9)"
      ]
     },
     "execution_count": 45,
     "metadata": {},
     "output_type": "execute_result"
    }
   ],
   "source": [
    "#-----example 1.1-----  \n",
    "raw_data.shape"
   ]
  },
  {
   "cell_type": "code",
   "execution_count": 44,
   "metadata": {},
   "outputs": [
    {
     "name": "stdout",
     "output_type": "stream",
     "text": [
      "The raw data has 512 rows and 9 columns.\n"
     ]
    }
   ],
   "source": [
    "#-----example 1.2----- \n",
    "print(\"The raw data has {} rows and {} columns.\".format(raw_data.shape[0], raw_data.shape[1]))"
   ]
  },
  {
   "cell_type": "code",
   "execution_count": 46,
   "metadata": {},
   "outputs": [
    {
     "name": "stdout",
     "output_type": "stream",
     "text": [
      "<class 'pandas.core.frame.DataFrame'>\n",
      "RangeIndex: 512 entries, 0 to 511\n",
      "Data columns (total 9 columns):\n",
      " #   Column                             Non-Null Count  Dtype  \n",
      "---  ------                             --------------  -----  \n",
      " 0   ID                                 512 non-null    int64  \n",
      " 1   School_Number                      512 non-null    int64  \n",
      " 2   School_Name                        512 non-null    object \n",
      " 3   Suburb                             512 non-null    object \n",
      " 4   Post_Code                          512 non-null    int64  \n",
      " 5   Type_of_Schooling                  512 non-null    object \n",
      " 6   Index_of_Educational_Disadvantage  512 non-null    int64  \n",
      " 7   Latitude                           512 non-null    float64\n",
      " 8   Longitude                          512 non-null    float64\n",
      "dtypes: float64(2), int64(4), object(3)\n",
      "memory usage: 36.1+ KB\n"
     ]
    }
   ],
   "source": [
    "#-----example 2-----  \n",
    "raw_data.info()"
   ]
  },
  {
   "cell_type": "code",
   "execution_count": 51,
   "metadata": {},
   "outputs": [
    {
     "data": {
      "text/plain": [
       "Index(['ID', 'School_Number', 'School_Name', 'Suburb', 'Post_Code',\n",
       "       'Type_of_Schooling', 'Index_of_Educational_Disadvantage', 'Latitude',\n",
       "       'Longitude'],\n",
       "      dtype='object')"
      ]
     },
     "execution_count": 51,
     "metadata": {},
     "output_type": "execute_result"
    }
   ],
   "source": [
    "#-----example 3-----  \n",
    "raw_data.columns"
   ]
  },
  {
   "cell_type": "code",
   "execution_count": 52,
   "metadata": {},
   "outputs": [
    {
     "data": {
      "text/html": [
       "<div>\n",
       "<style scoped>\n",
       "    .dataframe tbody tr th:only-of-type {\n",
       "        vertical-align: middle;\n",
       "    }\n",
       "\n",
       "    .dataframe tbody tr th {\n",
       "        vertical-align: top;\n",
       "    }\n",
       "\n",
       "    .dataframe thead th {\n",
       "        text-align: right;\n",
       "    }\n",
       "</style>\n",
       "<table border=\"1\" class=\"dataframe\">\n",
       "  <thead>\n",
       "    <tr style=\"text-align: right;\">\n",
       "      <th></th>\n",
       "      <th>ID</th>\n",
       "      <th>School_Number</th>\n",
       "      <th>Post_Code</th>\n",
       "      <th>Index_of_Educational_Disadvantage</th>\n",
       "      <th>Latitude</th>\n",
       "      <th>Longitude</th>\n",
       "    </tr>\n",
       "  </thead>\n",
       "  <tbody>\n",
       "    <tr>\n",
       "      <th>count</th>\n",
       "      <td>512.000000</td>\n",
       "      <td>512.000000</td>\n",
       "      <td>512.000000</td>\n",
       "      <td>512.000000</td>\n",
       "      <td>512.000000</td>\n",
       "      <td>512.000000</td>\n",
       "    </tr>\n",
       "    <tr>\n",
       "      <th>mean</th>\n",
       "      <td>256.500000</td>\n",
       "      <td>771.277344</td>\n",
       "      <td>5167.619141</td>\n",
       "      <td>4.304688</td>\n",
       "      <td>-34.592120</td>\n",
       "      <td>138.502559</td>\n",
       "    </tr>\n",
       "    <tr>\n",
       "      <th>std</th>\n",
       "      <td>147.945936</td>\n",
       "      <td>451.007245</td>\n",
       "      <td>608.153567</td>\n",
       "      <td>1.868719</td>\n",
       "      <td>1.633955</td>\n",
       "      <td>1.529273</td>\n",
       "    </tr>\n",
       "    <tr>\n",
       "      <th>min</th>\n",
       "      <td>1.000000</td>\n",
       "      <td>104.000000</td>\n",
       "      <td>872.000000</td>\n",
       "      <td>1.000000</td>\n",
       "      <td>-38.002525</td>\n",
       "      <td>129.172118</td>\n",
       "    </tr>\n",
       "    <tr>\n",
       "      <th>25%</th>\n",
       "      <td>128.750000</td>\n",
       "      <td>388.500000</td>\n",
       "      <td>5085.750000</td>\n",
       "      <td>3.000000</td>\n",
       "      <td>-35.029207</td>\n",
       "      <td>138.505453</td>\n",
       "    </tr>\n",
       "    <tr>\n",
       "      <th>50%</th>\n",
       "      <td>256.500000</td>\n",
       "      <td>754.500000</td>\n",
       "      <td>5163.000000</td>\n",
       "      <td>5.000000</td>\n",
       "      <td>-34.856216</td>\n",
       "      <td>138.621977</td>\n",
       "    </tr>\n",
       "    <tr>\n",
       "      <th>75%</th>\n",
       "      <td>384.250000</td>\n",
       "      <td>1017.250000</td>\n",
       "      <td>5351.000000</td>\n",
       "      <td>6.000000</td>\n",
       "      <td>-34.440930</td>\n",
       "      <td>138.768058</td>\n",
       "    </tr>\n",
       "    <tr>\n",
       "      <th>max</th>\n",
       "      <td>512.000000</td>\n",
       "      <td>1919.000000</td>\n",
       "      <td>5734.000000</td>\n",
       "      <td>7.000000</td>\n",
       "      <td>-26.151709</td>\n",
       "      <td>140.956465</td>\n",
       "    </tr>\n",
       "  </tbody>\n",
       "</table>\n",
       "</div>"
      ],
      "text/plain": [
       "               ID  School_Number    Post_Code  \\\n",
       "count  512.000000     512.000000   512.000000   \n",
       "mean   256.500000     771.277344  5167.619141   \n",
       "std    147.945936     451.007245   608.153567   \n",
       "min      1.000000     104.000000   872.000000   \n",
       "25%    128.750000     388.500000  5085.750000   \n",
       "50%    256.500000     754.500000  5163.000000   \n",
       "75%    384.250000    1017.250000  5351.000000   \n",
       "max    512.000000    1919.000000  5734.000000   \n",
       "\n",
       "       Index_of_Educational_Disadvantage    Latitude   Longitude  \n",
       "count                         512.000000  512.000000  512.000000  \n",
       "mean                            4.304688  -34.592120  138.502559  \n",
       "std                             1.868719    1.633955    1.529273  \n",
       "min                             1.000000  -38.002525  129.172118  \n",
       "25%                             3.000000  -35.029207  138.505453  \n",
       "50%                             5.000000  -34.856216  138.621977  \n",
       "75%                             6.000000  -34.440930  138.768058  \n",
       "max                             7.000000  -26.151709  140.956465  "
      ]
     },
     "execution_count": 52,
     "metadata": {},
     "output_type": "execute_result"
    }
   ],
   "source": [
    "#-----example 4-----  \n",
    "raw_data.describe() # only operates on columns containing integers or floats  "
   ]
  },
  {
   "cell_type": "markdown",
   "metadata": {},
   "source": [
    "# Subsetting DataFrame rows and columns   \n",
    "\n",
    "## Subsetting DataFrame rows  \n",
    "\n",
    "As [previously covered](https://github.com/erikaduan/Introduction-to-Python/blob/master/03_notebooks/03_Python-data-structures.ipynb), subsetting DataFrame rows can be approached in two different ways:   \n",
    "\n",
    "+ Using `loc` i.e. via the explicit labels-based index.  \n",
    "+ Using `iloc` i.e. via the implicit 0-based index.  "
   ]
  },
  {
   "cell_type": "code",
   "execution_count": 71,
   "metadata": {
    "scrolled": true
   },
   "outputs": [
    {
     "data": {
      "text/html": [
       "<div>\n",
       "<style scoped>\n",
       "    .dataframe tbody tr th:only-of-type {\n",
       "        vertical-align: middle;\n",
       "    }\n",
       "\n",
       "    .dataframe tbody tr th {\n",
       "        vertical-align: top;\n",
       "    }\n",
       "\n",
       "    .dataframe thead th {\n",
       "        text-align: right;\n",
       "    }\n",
       "</style>\n",
       "<table border=\"1\" class=\"dataframe\">\n",
       "  <thead>\n",
       "    <tr style=\"text-align: right;\">\n",
       "      <th></th>\n",
       "      <th>ID</th>\n",
       "      <th>School_Number</th>\n",
       "      <th>School_Name</th>\n",
       "      <th>Suburb</th>\n",
       "      <th>Post_Code</th>\n",
       "      <th>Type_of_Schooling</th>\n",
       "      <th>Index_of_Educational_Disadvantage</th>\n",
       "      <th>Latitude</th>\n",
       "      <th>Longitude</th>\n",
       "    </tr>\n",
       "  </thead>\n",
       "  <tbody>\n",
       "    <tr>\n",
       "      <th>0</th>\n",
       "      <td>1</td>\n",
       "      <td>536</td>\n",
       "      <td>Aberfoyle Hub R-7 School</td>\n",
       "      <td>Aberfoyle Park</td>\n",
       "      <td>5159</td>\n",
       "      <td>Primary Education</td>\n",
       "      <td>6</td>\n",
       "      <td>-35.078139</td>\n",
       "      <td>138.595142</td>\n",
       "    </tr>\n",
       "    <tr>\n",
       "      <th>1</th>\n",
       "      <td>2</td>\n",
       "      <td>1673</td>\n",
       "      <td>Aberfoyle Park High School</td>\n",
       "      <td>Aberfoyle Park</td>\n",
       "      <td>5159</td>\n",
       "      <td>Secondary Education</td>\n",
       "      <td>6</td>\n",
       "      <td>-35.074007</td>\n",
       "      <td>138.594181</td>\n",
       "    </tr>\n",
       "    <tr>\n",
       "      <th>2</th>\n",
       "      <td>3</td>\n",
       "      <td>1919</td>\n",
       "      <td>Adelaide Botanic High School</td>\n",
       "      <td>Adelaide</td>\n",
       "      <td>5000</td>\n",
       "      <td>Secondary Education</td>\n",
       "      <td>7</td>\n",
       "      <td>-34.917055</td>\n",
       "      <td>138.606743</td>\n",
       "    </tr>\n",
       "  </tbody>\n",
       "</table>\n",
       "</div>"
      ],
      "text/plain": [
       "   ID  School_Number                   School_Name          Suburb  Post_Code  \\\n",
       "0   1            536      Aberfoyle Hub R-7 School  Aberfoyle Park       5159   \n",
       "1   2           1673    Aberfoyle Park High School  Aberfoyle Park       5159   \n",
       "2   3           1919  Adelaide Botanic High School        Adelaide       5000   \n",
       "\n",
       "     Type_of_Schooling  Index_of_Educational_Disadvantage   Latitude  \\\n",
       "0    Primary Education                                  6 -35.078139   \n",
       "1  Secondary Education                                  6 -35.074007   \n",
       "2  Secondary Education                                  7 -34.917055   \n",
       "\n",
       "    Longitude  \n",
       "0  138.595142  \n",
       "1  138.594181  \n",
       "2  138.606743  "
      ]
     },
     "execution_count": 71,
     "metadata": {},
     "output_type": "execute_result"
    }
   ],
   "source": [
    "#-----example 1----- \n",
    "raw_data.iloc[0:2+1] # subset the first 3 rows    "
   ]
  },
  {
   "cell_type": "code",
   "execution_count": 63,
   "metadata": {},
   "outputs": [
    {
     "data": {
      "text/plain": [
       "0     536\n",
       "1    1673\n",
       "2    1919\n",
       "Name: School_Number, dtype: int64"
      ]
     },
     "execution_count": 63,
     "metadata": {},
     "output_type": "execute_result"
    }
   ],
   "source": [
    "#-----example 2-----  \n",
    "raw_data.iloc[0:2+1, 1] # returns the first 3 rows from the second column    "
   ]
  },
  {
   "cell_type": "code",
   "execution_count": 73,
   "metadata": {},
   "outputs": [
    {
     "data": {
      "text/plain": [
       "0     536\n",
       "1    1673\n",
       "2    1919\n",
       "3     997\n",
       "Name: School_Number, dtype: int64"
      ]
     },
     "execution_count": 73,
     "metadata": {},
     "output_type": "execute_result"
    }
   ],
   "source": [
    "#-----example 4-----  \n",
    "raw_data.loc[0:2+1, 'School_Number'] # returns the first 3 rows from column 'School_Number'\n",
    "\n",
    "# note that raw_data.loc[\"subject\"] produces an error\n",
    "# whereas raw_data.loc[:, \"subject\"] does not   "
   ]
  },
  {
   "cell_type": "markdown",
   "metadata": {},
   "source": [
    "## Filtering by DataFrame rows  "
   ]
  },
  {
   "cell_type": "markdown",
   "metadata": {},
   "source": [
    "## Subsetting DataFrame columns"
   ]
  },
  {
   "cell_type": "code",
   "execution_count": 39,
   "metadata": {
    "scrolled": true
   },
   "outputs": [
    {
     "data": {
      "text/html": [
       "<div>\n",
       "<style scoped>\n",
       "    .dataframe tbody tr th:only-of-type {\n",
       "        vertical-align: middle;\n",
       "    }\n",
       "\n",
       "    .dataframe tbody tr th {\n",
       "        vertical-align: top;\n",
       "    }\n",
       "\n",
       "    .dataframe thead th {\n",
       "        text-align: right;\n",
       "    }\n",
       "</style>\n",
       "<table border=\"1\" class=\"dataframe\">\n",
       "  <thead>\n",
       "    <tr style=\"text-align: right;\">\n",
       "      <th></th>\n",
       "      <th>id</th>\n",
       "      <th>subject</th>\n",
       "      <th>hours_per_day</th>\n",
       "    </tr>\n",
       "  </thead>\n",
       "  <tbody>\n",
       "    <tr>\n",
       "      <th>1</th>\n",
       "      <td>2</td>\n",
       "      <td>science</td>\n",
       "      <td>2.0</td>\n",
       "    </tr>\n",
       "  </tbody>\n",
       "</table>\n",
       "</div>"
      ],
      "text/plain": [
       "   id  subject  hours_per_day\n",
       "1   2  science            2.0"
      ]
     },
     "execution_count": 39,
     "metadata": {},
     "output_type": "execute_result"
    }
   ],
   "source": [
    "students[students[\"id\"] == 2] # filtering by rows  "
   ]
  },
  {
   "cell_type": "code",
   "execution_count": 43,
   "metadata": {},
   "outputs": [
    {
     "data": {
      "text/html": [
       "<div>\n",
       "<style scoped>\n",
       "    .dataframe tbody tr th:only-of-type {\n",
       "        vertical-align: middle;\n",
       "    }\n",
       "\n",
       "    .dataframe tbody tr th {\n",
       "        vertical-align: top;\n",
       "    }\n",
       "\n",
       "    .dataframe thead th {\n",
       "        text-align: right;\n",
       "    }\n",
       "</style>\n",
       "<table border=\"1\" class=\"dataframe\">\n",
       "  <thead>\n",
       "    <tr style=\"text-align: right;\">\n",
       "      <th></th>\n",
       "      <th>id</th>\n",
       "      <th>subject</th>\n",
       "      <th>hours_per_day</th>\n",
       "    </tr>\n",
       "  </thead>\n",
       "  <tbody>\n",
       "    <tr>\n",
       "      <th>0</th>\n",
       "      <td>1</td>\n",
       "      <td>maths</td>\n",
       "      <td>2.0</td>\n",
       "    </tr>\n",
       "    <tr>\n",
       "      <th>1</th>\n",
       "      <td>2</td>\n",
       "      <td>science</td>\n",
       "      <td>2.0</td>\n",
       "    </tr>\n",
       "    <tr>\n",
       "      <th>4</th>\n",
       "      <td>5</td>\n",
       "      <td>music</td>\n",
       "      <td>3.0</td>\n",
       "    </tr>\n",
       "  </tbody>\n",
       "</table>\n",
       "</div>"
      ],
      "text/plain": [
       "   id  subject  hours_per_day\n",
       "0   1    maths            2.0\n",
       "1   2  science            2.0\n",
       "4   5    music            3.0"
      ]
     },
     "execution_count": 43,
     "metadata": {},
     "output_type": "execute_result"
    }
   ],
   "source": [
    "student_list = [1, 2, 5]\n",
    "\n",
    "students[students[\"id\"].isin(student_list)] # use the isin() method for a list of values  "
   ]
  },
  {
   "cell_type": "code",
   "execution_count": 69,
   "metadata": {},
   "outputs": [
    {
     "data": {
      "text/html": [
       "<div>\n",
       "<style scoped>\n",
       "    .dataframe tbody tr th:only-of-type {\n",
       "        vertical-align: middle;\n",
       "    }\n",
       "\n",
       "    .dataframe tbody tr th {\n",
       "        vertical-align: top;\n",
       "    }\n",
       "\n",
       "    .dataframe thead th {\n",
       "        text-align: right;\n",
       "    }\n",
       "</style>\n",
       "<table border=\"1\" class=\"dataframe\">\n",
       "  <thead>\n",
       "    <tr style=\"text-align: right;\">\n",
       "      <th></th>\n",
       "      <th>id</th>\n",
       "      <th>subject</th>\n",
       "      <th>hours_per_day</th>\n",
       "      <th>hours_per_week</th>\n",
       "    </tr>\n",
       "  </thead>\n",
       "  <tbody>\n",
       "    <tr>\n",
       "      <th>0</th>\n",
       "      <td>1</td>\n",
       "      <td>maths</td>\n",
       "      <td>2.0</td>\n",
       "      <td>14.0</td>\n",
       "    </tr>\n",
       "    <tr>\n",
       "      <th>1</th>\n",
       "      <td>2</td>\n",
       "      <td>science</td>\n",
       "      <td>2.0</td>\n",
       "      <td>14.0</td>\n",
       "    </tr>\n",
       "    <tr>\n",
       "      <th>2</th>\n",
       "      <td>3</td>\n",
       "      <td>english</td>\n",
       "      <td>1.5</td>\n",
       "      <td>10.5</td>\n",
       "    </tr>\n",
       "    <tr>\n",
       "      <th>3</th>\n",
       "      <td>4</td>\n",
       "      <td>science</td>\n",
       "      <td>1.0</td>\n",
       "      <td>7.0</td>\n",
       "    </tr>\n",
       "    <tr>\n",
       "      <th>4</th>\n",
       "      <td>5</td>\n",
       "      <td>music</td>\n",
       "      <td>3.0</td>\n",
       "      <td>21.0</td>\n",
       "    </tr>\n",
       "  </tbody>\n",
       "</table>\n",
       "</div>"
      ],
      "text/plain": [
       "   id  subject  hours_per_day  hours_per_week\n",
       "0   1    maths            2.0            14.0\n",
       "1   2  science            2.0            14.0\n",
       "2   3  english            1.5            10.5\n",
       "3   4  science            1.0             7.0\n",
       "4   5    music            3.0            21.0"
      ]
     },
     "execution_count": 69,
     "metadata": {},
     "output_type": "execute_result"
    }
   ],
   "source": [
    "#-----transform columns i.e.------\n",
    "students[[\"hours_per_week\"]] =  students.apply(lambda row: row[[\"hours_per_day\"]] * 7, axis = 1)  \n",
    "\n",
    "students"
   ]
  },
  {
   "cell_type": "code",
   "execution_count": 60,
   "metadata": {},
   "outputs": [
    {
     "name": "stdout",
     "output_type": "stream",
     "text": [
      "[1, 2, 3]\n",
      "[4, 5, 6]\n"
     ]
    },
    {
     "data": {
      "text/plain": [
       "1"
      ]
     },
     "execution_count": 60,
     "metadata": {},
     "output_type": "execute_result"
    }
   ],
   "source": [
    "a = [1, 2, 3]\n",
    "print(a) \n",
    "\n",
    "b = [4, 5, 6] \n",
    "print(b)\n",
    "\n",
    "a[0]"
   ]
  },
  {
   "cell_type": "code",
   "execution_count": null,
   "metadata": {},
   "outputs": [],
   "source": []
  },
  {
   "cell_type": "code",
   "execution_count": 35,
   "metadata": {},
   "outputs": [
    {
     "name": "stdout",
     "output_type": "stream",
     "text": [
      "<class 'pandas.core.series.Series'>\n",
      "<class 'pandas.core.frame.DataFrame'>\n"
     ]
    }
   ],
   "source": [
    "# subset DataFrame columns\n",
    "students[[\"id\", \"subject\"]]  \n",
    "\n",
    "print(type(students[\"id\"])) # series\n",
    "print(type(students[[\"id\"]])) # DataFrame"
   ]
  }
 ],
 "metadata": {
  "kernelspec": {
   "display_name": "Python 3",
   "language": "python",
   "name": "python3"
  },
  "language_info": {
   "codemirror_mode": {
    "name": "ipython",
    "version": 3
   },
   "file_extension": ".py",
   "mimetype": "text/x-python",
   "name": "python",
   "nbconvert_exporter": "python",
   "pygments_lexer": "ipython3",
   "version": "3.7.1"
  }
 },
 "nbformat": 4,
 "nbformat_minor": 4
}
