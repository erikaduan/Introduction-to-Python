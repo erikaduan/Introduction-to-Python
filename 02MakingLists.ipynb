{
 "cells": [
  {
   "cell_type": "markdown",
   "metadata": {},
   "source": [
    "**Lists**  \n",
    "+ A list allows you to store many different types of information in a vector. \n",
    "+ A list can contain multiple data types (int versus float versus str) and even other lists in a list.\n",
    "+ **From left to right**, the first position is position 0 (i.e. distance 0 from the point).   \n",
    "+ **From right to left**, the last position is -1.  \n",
    "+ To navigate through a list, use []. \n"
   ]
  },
  {
   "cell_type": "markdown",
   "metadata": {},
   "source": []
  },
  {
   "cell_type": "code",
   "execution_count": 5,
   "metadata": {},
   "outputs": [
    {
     "data": {
      "text/plain": [
       "7"
      ]
     },
     "execution_count": 5,
     "metadata": {},
     "output_type": "execute_result"
    }
   ],
   "source": [
    "odds = [1,3,5,7]\n",
    "odds[-1] #last item from the list"
   ]
  },
  {
   "cell_type": "code",
   "execution_count": 4,
   "metadata": {},
   "outputs": [
    {
     "data": {
      "text/plain": [
       "6"
      ]
     },
     "execution_count": 4,
     "metadata": {},
     "output_type": "execute_result"
    }
   ],
   "source": [
    "odds = [1, 2, 4, 5, 6, 8]\n",
    "odds[-2] #second to last item from the list"
   ]
  },
  {
   "cell_type": "markdown",
   "metadata": {},
   "source": [
    "**Differences and similarities between strings and lists:**    \n",
    "+ Lists are mutable (can always be changed around) but strings are not. \n",
    "+ We can slice both lists and strings."
   ]
  },
  {
   "cell_type": "code",
   "execution_count": 9,
   "metadata": {},
   "outputs": [
    {
     "name": "stdout",
     "output_type": "stream",
     "text": [
      "['Yumyums', 'Gummy bears', ['Red sweets', 'Yellow sweets'], 'Licorice']\n"
     ]
    }
   ],
   "source": [
    "candy_cupboard = ['Yumyums', 'Gummy bears', ['Red sweets', 'Yellow sweets'], 'Licorice']\n",
    "print(candy_cupboard)"
   ]
  },
  {
   "cell_type": "code",
   "execution_count": 11,
   "metadata": {},
   "outputs": [
    {
     "name": "stdout",
     "output_type": "stream",
     "text": [
      "['Yumyums', 'Gummy bears', ['Red sweets', 'Yellow sweets'], 'Delicious sherbets']\n"
     ]
    }
   ],
   "source": [
    "#Let's swap licorice with delicious sherbets!\n",
    "candy_cupboard[-1] = 'Delicious sherbets'\n",
    "print(candy_cupboard)"
   ]
  },
  {
   "cell_type": "markdown",
   "metadata": {},
   "source": [
    "**Slicing strings versus slicing lists:**  "
   ]
  },
  {
   "cell_type": "code",
   "execution_count": 17,
   "metadata": {},
   "outputs": [
    {
     "name": "stdout",
     "output_type": "stream",
     "text": [
      "Slicing the index 1:3 is ['Index 1', 'Index 2'] There is not index 3!\n"
     ]
    }
   ],
   "source": [
    "Index_list = ['Index 0', 'Index 1', 'Index 2', 'Index 3', 'Index 4']\n",
    "print('Slicing the index 1:3 is', Index_list[1:3], 'There is not index 3!')\n",
    "#to slice the last index, use [a, b+1] to obtain position b. "
   ]
  },
  {
   "cell_type": "code",
   "execution_count": 21,
   "metadata": {},
   "outputs": [
    {
     "name": "stdout",
     "output_type": "stream",
     "text": [
      "Slicing from the second position index to the last is achieved using : to denote the last value. ['Index 1', 'Index 2', 'Index 3', 'Index 4']\n",
      "Slicing from the first position index to the last can also be achieved by doing this: ['Index 0', 'Index 1', 'Index 2', 'Index 3', 'Index 4']\n"
     ]
    }
   ],
   "source": [
    "print('Slicing from the second position index to the last is achieved using : to denote the last value.', Index_list[1:])\n",
    "print('Slicing from the first position index to the last can also be achieved by doing this:', Index_list[:])"
   ]
  },
  {
   "cell_type": "markdown",
   "metadata": {},
   "source": [
    "**Mini-challenge 6A**  \n",
    "Slicing strings."
   ]
  },
  {
   "cell_type": "code",
   "execution_count": 23,
   "metadata": {},
   "outputs": [],
   "source": [
    "S = 'allmymemoriessgatherroundherminersladystrangettobluewaterdarkanddustypaintedintheskymistytasteofmoonshinebringsateardroptomyeyecountryroadstakemehometotheplaceibelongwestvirginiamountainmamatakemehomecountryroads'"
   ]
  },
  {
   "cell_type": "code",
   "execution_count": 37,
   "metadata": {},
   "outputs": [
    {
     "name": "stdout",
     "output_type": "stream",
     "text": [
      "a\n",
      "t\n",
      "all\n",
      "all\n",
      "roads\n",
      "all roads\n"
     ]
    },
    {
     "data": {
      "text/plain": [
       "NoneType"
      ]
     },
     "execution_count": 37,
     "metadata": {},
     "output_type": "execute_result"
    }
   ],
   "source": [
    "#first letter in string S\n",
    "print(S[0])\n",
    "\n",
    "#17th letter in string S\n",
    "print(S[16])\n",
    "\n",
    "#take the first 3 letters from S and make them a variable\n",
    "new_vars = S[0:3]\n",
    "alt_vars = S[:3]\n",
    "print(new_vars)\n",
    "print(alt_vars)\n",
    "\n",
    "#take the last 5 letters from S and make them another variable\n",
    "last_vars = S[-5:]\n",
    "print(last_vars)\n",
    "\n",
    "#concatenate (\"add\") those two substrings together with a space in between\n",
    "final_vars = print(\"%s %s\" %(new_vars, last_vars))\n",
    "final_vars\n",
    "type(final_vars)"
   ]
  },
  {
   "cell_type": "code",
   "execution_count": 45,
   "metadata": {},
   "outputs": [
    {
     "data": {
      "text/plain": [
       "['tim tams', 'Picnic', 'milo', 'Snickers', 'Mars']"
      ]
     },
     "execution_count": 45,
     "metadata": {},
     "output_type": "execute_result"
    }
   ],
   "source": [
    "#switch around the 2nd and 4th items in the following list\n",
    "temp_list = ['tim tams', 'Snickers', 'milo', 'Picnic', 'Mars']\n",
    "new_list[1] = temp_list[3]\n",
    "new_list[3] = temp_list[1]\n",
    "new_list"
   ]
  },
  {
   "cell_type": "markdown",
   "metadata": {},
   "source": [
    "**Coping/duplicating variables**  \n",
    "Always use the method: list2 = list1[:] as list2 = list1 just creates two names for the same list.  \n",
    "Also can use new_variable = old_variable.copy()"
   ]
  },
  {
   "cell_type": "code",
   "execution_count": 46,
   "metadata": {},
   "outputs": [
    {
     "name": "stdout",
     "output_type": "stream",
     "text": [
      "Odds1: [1, 3, 5, 7]\n",
      "Odds2: [1, 3, 5, 7]\n"
     ]
    }
   ],
   "source": [
    "odds1 = [1,3,5,7]\n",
    "odds2 = odds1\n",
    "\n",
    "print(\"Odds1:\",odds1)\n",
    "print(\"Odds2:\", odds2)"
   ]
  },
  {
   "cell_type": "code",
   "execution_count": 48,
   "metadata": {},
   "outputs": [
    {
     "name": "stdout",
     "output_type": "stream",
     "text": [
      "Odds1: [1, 1300, 5, 7]\n",
      "Odds2: [1, 1300, 5, 7]\n"
     ]
    }
   ],
   "source": [
    "odds1[1] = 1300\n",
    "\n",
    "print(\"Odds1:\",odds1)\n",
    "print(\"Odds2:\", odds2)\n",
    "#both odds1 and odds 2 are changes because they link to the same variable"
   ]
  },
  {
   "cell_type": "code",
   "execution_count": 54,
   "metadata": {},
   "outputs": [
    {
     "name": "stdout",
     "output_type": "stream",
     "text": [
      "Odds1: [1, 30, 5, 7]\n",
      "Odds3: [1, 3, 5, 7]\n"
     ]
    }
   ],
   "source": [
    "odds1 = [1,3,5,7]\n",
    "odds3 = odds1.copy() #odds 3 is a new variable, not just new variable name for odds1; also use odds1[:]\n",
    "odds1[1] = 30\n",
    "print(\"Odds1:\", odds1)\n",
    "print(\"Odds3:\", odds3)"
   ]
  },
  {
   "cell_type": "markdown",
   "metadata": {},
   "source": [
    "**Adding elements in a list**  \n",
    "+ To add a new variable into a list, we can use the **.append()** method.  \n",
    "+ This adds the newest variable onto the end of the list.  \n",
    "+ To add an item at a specific location, use **insert()**.  \n",
    "+ The basic structure of this is list.insert(list_index,variable)  "
   ]
  },
  {
   "cell_type": "code",
   "execution_count": 56,
   "metadata": {},
   "outputs": [
    {
     "data": {
      "text/plain": [
       "[1, 3, 5, 7, 12]"
      ]
     },
     "execution_count": 56,
     "metadata": {},
     "output_type": "execute_result"
    }
   ],
   "source": [
    "#to use .append()\n",
    "odds1 = [1,3,5,7]\n",
    "odds1.append(12)\n",
    "odds1 #added onto the end of the current list"
   ]
  },
  {
   "cell_type": "code",
   "execution_count": 61,
   "metadata": {},
   "outputs": [
    {
     "data": {
      "text/plain": [
       "[['dark choc tim tams, tim tams'], 'picnics', 'mars', 'snickers']"
      ]
     },
     "execution_count": 61,
     "metadata": {},
     "output_type": "execute_result"
    }
   ],
   "source": [
    "candy_cupboard = [[\"dark choc tim tams, tim tams\"], \"picnics\", \"mars\"]\n",
    "candy_cupboard.append(\"snickers\")\n",
    "candy_cupboard"
   ]
  },
  {
   "cell_type": "code",
   "execution_count": 59,
   "metadata": {},
   "outputs": [
    {
     "data": {
      "text/plain": [
       "[1, 1.5, 3, 5, 7]"
      ]
     },
     "execution_count": 59,
     "metadata": {},
     "output_type": "execute_result"
    }
   ],
   "source": [
    "#to use list.insert(index position, variable) at a specified location\n",
    "odds1 = [1,3,5,7]\n",
    "odds1.insert(1, 1.5) #insert at second position, insert variable of choice)\n",
    "odds1"
   ]
  },
  {
   "cell_type": "code",
   "execution_count": 64,
   "metadata": {},
   "outputs": [
    {
     "data": {
      "text/plain": [
       "[['dark choc tim tams, tim tams'], 'picnics', 'flake', 'mars', 'snickers']"
      ]
     },
     "execution_count": 64,
     "metadata": {},
     "output_type": "execute_result"
    }
   ],
   "source": [
    "candy_cupboard\n",
    "candy_cupboard.insert(2, 'flake')\n",
    "candy_cupboard"
   ]
  },
  {
   "cell_type": "markdown",
   "metadata": {},
   "source": [
    "**Deleting elements in a list**  \n",
    "+ There are three options when deleting items from your list:  \n",
    "+ The first is **del**, which removes the item at a specific index location and returns your modified list back to you.  \n",
    "+ Then, **remove()** will find and delete the first matching value from your list, and return your modified list back to you.  \n",
    "+ It's typically used like this: list.remove(variable)  \n",
    "+ Lastly, **pop()** is index based, but pop() actually gives you back the value that you've removed."
   ]
  },
  {
   "cell_type": "code",
   "execution_count": 66,
   "metadata": {},
   "outputs": [
    {
     "data": {
      "text/plain": [
       "[3, 5, 7]"
      ]
     },
     "execution_count": 66,
     "metadata": {},
     "output_type": "execute_result"
    }
   ],
   "source": [
    "#deleting items\n",
    "odds1 = [1,3,5,7]\n",
    "\n",
    "del odds1[0] #weird syntax allows spacing\n",
    "odds1"
   ]
  },
  {
   "cell_type": "code",
   "execution_count": 67,
   "metadata": {},
   "outputs": [
    {
     "name": "stdout",
     "output_type": "stream",
     "text": [
      "[1, 3, 4, 5, 4, 7, 9]\n"
     ]
    }
   ],
   "source": [
    "odds_long = [1,3,4,5,4,7,9,9]\n",
    "odds_long.remove(9) #only removes the first 9\n",
    "print(odds_long)"
   ]
  },
  {
   "cell_type": "code",
   "execution_count": 72,
   "metadata": {},
   "outputs": [
    {
     "name": "stdout",
     "output_type": "stream",
     "text": [
      "[1, 3, 4, 6, 7, 8]\n",
      "5\n"
     ]
    }
   ],
   "source": [
    "#using pop to store a deleted variable\n",
    "odds1 = [1,3,4,5,6,7,8]\n",
    "temp_odds = odds1.pop(3) #removing just one variable at a time\n",
    "print(odds1)\n",
    "print(temp_odds)"
   ]
  },
  {
   "cell_type": "markdown",
   "metadata": {},
   "source": [
    "**Challenge 7**  \n",
    "Adding and extracting variables from lists. "
   ]
  },
  {
   "cell_type": "code",
   "execution_count": 73,
   "metadata": {},
   "outputs": [
    {
     "data": {
      "text/plain": [
       "['cats', 'fish', ['bulldog', 'terrier', 'greyhound']]"
      ]
     },
     "execution_count": 73,
     "metadata": {},
     "output_type": "execute_result"
    }
   ],
   "source": [
    "pets = [\"dogs\", \"cats\", \"fish\"]\n",
    "pets.pop(0)\n",
    "dog_breeds = [\"bulldog\", \"terrier\", \"greyhound\"]\n",
    "pets.append(dog_breeds)  # append list of dog breeds available\n",
    "del dog_breeds\n",
    "pets"
   ]
  },
  {
   "cell_type": "code",
   "execution_count": 55,
   "metadata": {},
   "outputs": [
    {
     "name": "stdout",
     "output_type": "stream",
     "text": [
      "greyhound\n"
     ]
    }
   ],
   "source": [
    "#to extract greyhound using pop and list extraction\n",
    "my_pet = pets.pop(2)[2]\n",
    "print(my_pet)"
   ]
  },
  {
   "cell_type": "code",
   "execution_count": 74,
   "metadata": {},
   "outputs": [
    {
     "name": "stdout",
     "output_type": "stream",
     "text": [
      "greyhound\n"
     ]
    }
   ],
   "source": [
    "#this also works\n",
    "my_pet = pets[2][2]\n",
    "print(my_pet)"
   ]
  },
  {
   "cell_type": "markdown",
   "metadata": {},
   "source": [
    "**Learning about other methods:**  \n",
    "+ .clear()  \n",
    "+ .sort()  \n",
    "+ enumerate"
   ]
  },
  {
   "cell_type": "code",
   "execution_count": 75,
   "metadata": {},
   "outputs": [
    {
     "name": "stdout",
     "output_type": "stream",
     "text": [
      "You have a ['cat', 'anti_cat'] .\n",
      "You now have these pets: []\n"
     ]
    }
   ],
   "source": [
    "#.clear()\n",
    "my_pets = [\"cat\", \"anti_cat\"]\n",
    "print(\"You have a\", my_pets, \".\")\n",
    "my_pets.clear() #methods are for changing things we are attached to\n",
    "print(\"You now have these pets:\", my_pets)"
   ]
  },
  {
   "cell_type": "code",
   "execution_count": 79,
   "metadata": {},
   "outputs": [
    {
     "name": "stdout",
     "output_type": "stream",
     "text": [
      "[5, 2, 66, 3, 7, 9457, 466, 7]\n",
      "[9457, 466, 66, 7, 7, 5, 3, 2]\n"
     ]
    }
   ],
   "source": [
    "#.sort()\n",
    "num_example = [5,2,66,3,7,9457,466,7]\n",
    "print(num_example)\n",
    "num_example.sort(reverse = True)\n",
    "print(num_example)"
   ]
  },
  {
   "cell_type": "code",
   "execution_count": 92,
   "metadata": {},
   "outputs": [
    {
     "name": "stdout",
     "output_type": "stream",
     "text": [
      "['bulldog', 'terrier', 'greyhound']\n",
      "0 bulldog\n",
      "1 terrier\n",
      "2 greyhound\n"
     ]
    }
   ],
   "source": [
    "# Enumerate\n",
    "# Enumerate keeps goes through every iteration of a loop, and allows you to see an itemised print out of each iteration.\n",
    "# So below we'll loop through all values in a list.\n",
    "\n",
    "pets[2] = ['bulldog', 'terrier', 'greyhound']\n",
    "print(pets[2])\n",
    "for index, value in enumerate(pets[2]): print(index, value)"
   ]
  },
  {
   "cell_type": "markdown",
   "metadata": {},
   "source": [
    "**Python crash course challenge**"
   ]
  },
  {
   "cell_type": "code",
   "execution_count": 2,
   "metadata": {
    "scrolled": true
   },
   "outputs": [
    {
     "name": "stdout",
     "output_type": "stream",
     "text": [
      "I would like to visit ['London', 'New York', 'Hawaii', 'Adelaide', 'Slovenia'] in the next two years.\n"
     ]
    }
   ],
   "source": [
    "locations = [\"London\", \"New York\", \"Hawaii\", \"Adelaide\", \"Slovenia\"]\n",
    "print(\"I would like to visit %s in the next two years.\"%(locations))"
   ]
  },
  {
   "cell_type": "code",
   "execution_count": 3,
   "metadata": {},
   "outputs": [
    {
     "name": "stdout",
     "output_type": "stream",
     "text": [
      "['London', 'New York', 'Hawaii', 'Adelaide', 'Slovenia']\n",
      "['Adelaide', 'Hawaii', 'London', 'New York', 'Slovenia']\n",
      "['London', 'New York', 'Hawaii', 'Adelaide', 'Slovenia']\n"
     ]
    }
   ],
   "source": [
    "print(locations)\n",
    "print(sorted(locations)) #sorted() doesn't change the original list's order\n",
    "print(locations)\n",
    "\n",
    "# sorted options include reverse = True, key = len() or key = takeSecond "
   ]
  },
  {
   "cell_type": "code",
   "execution_count": 7,
   "metadata": {},
   "outputs": [
    {
     "data": {
      "text/plain": [
       "['London', 'Hawaii', 'New York', 'Adelaide', 'Slovenia']"
      ]
     },
     "execution_count": 7,
     "metadata": {},
     "output_type": "execute_result"
    }
   ],
   "source": [
    "sorted(locations, key = len)"
   ]
  },
  {
   "cell_type": "code",
   "execution_count": 8,
   "metadata": {},
   "outputs": [
    {
     "data": {
      "text/plain": [
       "['Slovenia', 'New York', 'London', 'Hawaii', 'Adelaide']"
      ]
     },
     "execution_count": 8,
     "metadata": {},
     "output_type": "execute_result"
    }
   ],
   "source": [
    "sorted(locations, reverse = True) #reverse alphabetical order "
   ]
  },
  {
   "cell_type": "code",
   "execution_count": 10,
   "metadata": {},
   "outputs": [
    {
     "name": "stdout",
     "output_type": "stream",
     "text": [
      "Welcome to my dinner, Dad! There are 4 guests invited.\n",
      "Welcome to my dinner, Mama! There are 4 guests invited.\n",
      "Welcome to my dinner, Dong nubs! There are 4 guests invited.\n",
      "Welcome to my dinner, Caesar cattu! There are 4 guests invited.\n"
     ]
    }
   ],
   "source": [
    "original_invite = [\"Dad\", \"Mama\", \"Dong nubs\", \"Caesar cattu\"]\n",
    "\n",
    "for invitee in original_invite:\n",
    "    print(\"Welcome to my dinner, %s! There are %i guests invited.\" %(invitee, len(original_invite)))"
   ]
  }
 ],
 "metadata": {
  "kernelspec": {
   "display_name": "Python 3",
   "language": "python",
   "name": "python3"
  },
  "language_info": {
   "codemirror_mode": {
    "name": "ipython",
    "version": 3
   },
   "file_extension": ".py",
   "mimetype": "text/x-python",
   "name": "python",
   "nbconvert_exporter": "python",
   "pygments_lexer": "ipython3",
   "version": "3.7.1"
  }
 },
 "nbformat": 4,
 "nbformat_minor": 2
}
