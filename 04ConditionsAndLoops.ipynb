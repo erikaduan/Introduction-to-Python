{
 "cells": [
  {
   "cell_type": "markdown",
   "metadata": {},
   "source": [
    "**Writing conditions and loops**"
   ]
  },
  {
   "cell_type": "markdown",
   "metadata": {},
   "source": [
    "**Writing conditions using the Boolean data type**\n",
    "+ It can either be True or False\n",
    "+ You can make variables with Boolean Values\n",
    "+ Fill lists and dictionaries with boolean values"
   ]
  },
  {
   "cell_type": "code",
   "execution_count": 4,
   "metadata": {},
   "outputs": [
    {
     "name": "stdout",
     "output_type": "stream",
     "text": [
      "True is <class 'bool'> . So is False a <class 'bool'> .\n"
     ]
    }
   ],
   "source": [
    "print(True, \"is\", type(True), \".\", \"So is\", False, \"a\", type(False), \".\")"
   ]
  },
  {
   "cell_type": "markdown",
   "metadata": {},
   "source": [
    "We can also \"calculate\" booleans using Spock's logic operators:  \n",
    "\"<\" less than  \n",
    "\">\" greater than  \n",
    "\"<=\" less than or equal to  \n",
    "\">=\" greater than or equal to  \n",
    "\"==\" equals  \n",
    "\"!=\" does not equal  \n",
    "is, in and not  "
   ]
  },
  {
   "cell_type": "code",
   "execution_count": 2,
   "metadata": {},
   "outputs": [
    {
     "data": {
      "text/plain": [
       "False"
      ]
     },
     "execution_count": 2,
     "metadata": {},
     "output_type": "execute_result"
    }
   ],
   "source": [
    "3>5"
   ]
  },
  {
   "cell_type": "code",
   "execution_count": 3,
   "metadata": {},
   "outputs": [
    {
     "name": "stdout",
     "output_type": "stream",
     "text": [
      "True\n",
      "True\n",
      "False\n",
      "False\n"
     ]
    }
   ],
   "source": [
    "#example\n",
    "test = True\n",
    "\n",
    "# Can test True/False in a few ways. Using ==, or is/not.\n",
    "print(test == True)\n",
    "print(test is True)\n",
    "print(test != True)\n",
    "print(test is not True)"
   ]
  },
  {
   "cell_type": "code",
   "execution_count": 6,
   "metadata": {},
   "outputs": [],
   "source": [
    "# Can use \"in\" to test whether something exists in a data structure like a list\n",
    "odds = [1,3,5,7,['a','b',9]]"
   ]
  },
  {
   "cell_type": "code",
   "execution_count": 11,
   "metadata": {},
   "outputs": [
    {
     "name": "stdout",
     "output_type": "stream",
     "text": [
      "True\n",
      "True\n"
     ]
    }
   ],
   "source": [
    "#we can use 'in' and 'not in; to check whether a value is in a list\n",
    "print(1 in odds)\n",
    "print(9 in odds[-1])  #you can use in to look in a list within a list"
   ]
  },
  {
   "cell_type": "markdown",
   "metadata": {},
   "source": [
    "This also applies to dictionaries."
   ]
  },
  {
   "cell_type": "code",
   "execution_count": 14,
   "metadata": {},
   "outputs": [
    {
     "data": {
      "text/plain": [
       "'temporary data'"
      ]
     },
     "execution_count": 14,
     "metadata": {},
     "output_type": "execute_result"
    }
   ],
   "source": [
    "#creating an empty dictionary\n",
    "temp_dict = {}\n",
    "temp_dict[\"temp\"] = \"temporary data\"\n",
    "\n",
    "# Trying to access a non-existent key\n",
    "temp_dict[\"temp\"]"
   ]
  },
  {
   "cell_type": "code",
   "execution_count": 15,
   "metadata": {},
   "outputs": [
    {
     "data": {
      "text/plain": [
       "False"
      ]
     },
     "execution_count": 15,
     "metadata": {},
     "output_type": "execute_result"
    }
   ],
   "source": [
    "# Looking at the keys\n",
    "\"temp\" not in temp_dict"
   ]
  },
  {
   "cell_type": "code",
   "execution_count": 18,
   "metadata": {},
   "outputs": [
    {
     "data": {
      "text/plain": [
       "True"
      ]
     },
     "execution_count": 18,
     "metadata": {},
     "output_type": "execute_result"
    }
   ],
   "source": [
    "temp_dict[\"temp2\"] = \"something\"\n",
    "\"temp2\" in temp_dict"
   ]
  },
  {
   "cell_type": "markdown",
   "metadata": {},
   "source": [
    "**Minichallenge: Let's practice logic**"
   ]
  },
  {
   "cell_type": "code",
   "execution_count": 14,
   "metadata": {},
   "outputs": [
    {
     "data": {
      "text/plain": [
       "False"
      ]
     },
     "execution_count": 14,
     "metadata": {},
     "output_type": "execute_result"
    }
   ],
   "source": [
    "\"i\" in \"team\""
   ]
  },
  {
   "cell_type": "code",
   "execution_count": 15,
   "metadata": {},
   "outputs": [
    {
     "data": {
      "text/plain": [
       "False"
      ]
     },
     "execution_count": 15,
     "metadata": {},
     "output_type": "execute_result"
    }
   ],
   "source": [
    "15*(30/17)+80 > 13*(33/14.5)+115"
   ]
  },
  {
   "cell_type": "code",
   "execution_count": 18,
   "metadata": {},
   "outputs": [
    {
     "name": "stdout",
     "output_type": "stream",
     "text": [
      "False\n",
      "True\n"
     ]
    }
   ],
   "source": [
    "print(15*(30/17)+80 % 7 == 0)\n",
    "print(15%3 == 0) #check that I am using % correctly"
   ]
  },
  {
   "cell_type": "markdown",
   "metadata": {},
   "source": [
    "**Python syntax for writing conditions:**  \n",
    "if condition is **True**:  \n",
    "action(thing)\n",
    "\n",
    "if condition is a:    \n",
    "action(thing)  \n",
    "**else**:  \n",
    "action(thing2)\n",
    "\n",
    "If there are more than 2 possibilities you want to consider, then use **Elif**."
   ]
  },
  {
   "cell_type": "code",
   "execution_count": 22,
   "metadata": {},
   "outputs": [
    {
     "name": "stdout",
     "output_type": "stream",
     "text": [
      "Heyyy, nice weather!\n",
      "The end\n"
     ]
    }
   ],
   "source": [
    "#Testing if and else\n",
    "summer = True \n",
    "    \n",
    "if summer == False:\n",
    "    print(\"Turn on the heater\")\n",
    "else:\n",
    "    print(\"Heyyy, nice weather!\")\n",
    "\n",
    "print(\"The end\") #to check the sequence"
   ]
  },
  {
   "cell_type": "code",
   "execution_count": 23,
   "metadata": {},
   "outputs": [
    {
     "name": "stdout",
     "output_type": "stream",
     "text": [
      "Turn on the heater\n",
      "Outside the if block\n"
     ]
    }
   ],
   "source": [
    "#Testing if and else using numericals\n",
    "\n",
    "summer = False\n",
    "if summer == False:\n",
    "    print(\"Turn on the heater\")\n",
    "\n",
    "else:\n",
    "    print(\"Turn on the cooler\")\n",
    "\n",
    "#print(\"Outside the if block\") #to check the sequence"
   ]
  },
  {
   "cell_type": "code",
   "execution_count": 3,
   "metadata": {},
   "outputs": [
    {
     "name": "stdout",
     "output_type": "stream",
     "text": [
      "A no-man's land of indiscriminate weather\n",
      "The end\n"
     ]
    }
   ],
   "source": [
    "#Using elif due to multiple choices\n",
    "\n",
    "season = \"Autumn?\"\n",
    "if season == \"Winter\":\n",
    "    print(\"Turn on the heater\")\n",
    "\n",
    "elif season is \"Spring\":\n",
    "    print(\"Just make the goddamn coffee already\")\n",
    "elif season is \"Autumn\":\n",
    "    print(\"Wear a scarf and a t-shirt\")\n",
    "elif season is \"Summer\":\n",
    "    print(\"Turn on the cooler\")\n",
    "    \n",
    "else:\n",
    "    print(\"A no-man's land of indiscriminate weather\")\n",
    "\n",
    "    print(\"The end\")"
   ]
  },
  {
   "cell_type": "code",
   "execution_count": 6,
   "metadata": {},
   "outputs": [
    {
     "name": "stdout",
     "output_type": "stream",
     "text": [
      "Less than 50\n",
      "The end\n"
     ]
    }
   ],
   "source": [
    "# Where count is only ever 0 - 100\n",
    "count = 20\n",
    "\n",
    "if count < 50:\n",
    "    print(\"Less than 50\")\n",
    "elif count < 100:\n",
    "    print(\"Less than 100\")\n",
    "\n",
    "print(\"The end\")\n",
    "\n",
    "#only the first condition is fulfilled and the second is not printed\n",
    "#to print the second condition, nesting must be specified"
   ]
  },
  {
   "cell_type": "markdown",
   "metadata": {},
   "source": [
    "**We can also place conditional statements within a conditional statement.**  \n",
    "This is known as **nesting**.  \n",
    "Every Indention is a new layer.  \n",
    "\n",
    "if condition1:  \n",
    "    if condition2:  \n",
    "        do thing #both conditions need to be satisfied by a thing to be done (i.e. nesting)"
   ]
  },
  {
   "cell_type": "code",
   "execution_count": 7,
   "metadata": {},
   "outputs": [
    {
     "name": "stdout",
     "output_type": "stream",
     "text": [
      "Less than 100\n",
      "Less than 50\n",
      "The end\n"
     ]
    }
   ],
   "source": [
    "count = 20\n",
    "\n",
    "if count < 100: #most limiting statement at the top\n",
    "    print(\"Less than 100\")\n",
    "    \n",
    "    if count < 50: #indented nested second condition\n",
    "        print(\"Less than 50\")\n",
    "\n",
    "print(\"The end\")"
   ]
  },
  {
   "cell_type": "code",
   "execution_count": 9,
   "metadata": {},
   "outputs": [
    {
     "name": "stdout",
     "output_type": "stream",
     "text": [
      "Less than 50\n",
      "Less than 500\n",
      "The end\n"
     ]
    }
   ],
   "source": [
    "count = 20\n",
    "\n",
    "if count < 50: #most limiting statement at the top\n",
    "    print(\"Less than 50\")\n",
    "    \n",
    "    if count < 500: #indented nested second condition\n",
    "        print(\"Less than 500\")\n",
    "\n",
    "print(\"The end\")\n",
    "\n",
    "#nesting allows both directions"
   ]
  },
  {
   "cell_type": "markdown",
   "metadata": {},
   "source": [
    "**Combining boolean operators:**\n",
    "+ You can also combine multiple conditions in a single line using the **and** or **or** statements  \n",
    "+ We can also use & and | "
   ]
  },
  {
   "cell_type": "code",
   "execution_count": 12,
   "metadata": {},
   "outputs": [
    {
     "name": "stdout",
     "output_type": "stream",
     "text": [
      "This is alright I guess\n"
     ]
    }
   ],
   "source": [
    "winter = True #this is a Boolean type. Booleans are True or False.\n",
    "coffee = \"Plenty\"\n",
    "\n",
    "if (winter is True) ^ (coffee == None): # carrot is an exclusive or i.e. one or the other condition is met\n",
    "    print (\"This is alright I guess\")\n",
    "\n",
    "elif (winter is True) & (coffee == None):\n",
    "    print (\"Kill everything\")"
   ]
  },
  {
   "cell_type": "code",
   "execution_count": 13,
   "metadata": {},
   "outputs": [
    {
     "name": "stdout",
     "output_type": "stream",
     "text": [
      "This is alright I guess\n"
     ]
    }
   ],
   "source": [
    "winter = True \n",
    "coffee = None\n",
    "\n",
    "if (winter is True) | (coffee == None): #be careful as it overides the '&' option\n",
    "    print (\"This is alright I guess\")\n",
    "\n",
    "elif (winter is True) & (coffee == None):\n",
    "    print (\"Kill everything\")"
   ]
  },
  {
   "cell_type": "markdown",
   "metadata": {},
   "source": [
    "**Challenge 9: Write your own morning routine**  \n",
    "+ Use nested conditions \n",
    "+ Combine boolean operators"
   ]
  },
  {
   "cell_type": "code",
   "execution_count": 28,
   "metadata": {},
   "outputs": [
    {
     "name": "stdout",
     "output_type": "stream",
     "text": [
      "Stay in bed and press snooze... but then...\n",
      "Wow, you woke up so early!\n",
      "Then quickly run out of bed!\n",
      "The end!\n"
     ]
    }
   ],
   "source": [
    "#indentations matter for writing conditions\n",
    "\n",
    "sleepy = True\n",
    "wakeup_time = 8\n",
    "big_experiment_day = True\n",
    "\n",
    "if sleepy is True:\n",
    "    print('Stay in bed and press snooze... but then...')\n",
    "   \n",
    "    if wakeup_time <= 8:\n",
    "        print('Wow, you woke up so early!')\n",
    "    elif (wakeup_time > 8) & (wakeup_time < 10):\n",
    "        print('Okay, normal wake up time... do not panic...')\n",
    "    elif wakeup_time >= 10:\n",
    "        print('Arrghhh! I must run!!!') \n",
    "        \n",
    "    if big_experiment_day is True:\n",
    "            print('Then quickly run out of bed!')\n",
    "    else:\n",
    "            print('At least there is no big experiment!')\n",
    "            \n",
    "else:\n",
    "    print('Head to work as normal.')\n",
    "\n",
    "print(\"The end!\")"
   ]
  },
  {
   "cell_type": "markdown",
   "metadata": {},
   "source": [
    "**Writing For Loops**\n",
    "+ **For** each variable **in** a collection, perform an action on that variable\n",
    "+ **Indentation is very important** - if the instructions are indented, each new indent is a new commmand. \n",
    "+ You can print or write a final command without the indentation after indented tasks are completed. \n",
    "+ Each for loop command is run once for each individual item in a list. "
   ]
  },
  {
   "cell_type": "code",
   "execution_count": 1,
   "metadata": {},
   "outputs": [
    {
     "name": "stdout",
     "output_type": "stream",
     "text": [
      "l\n",
      "e\n",
      "a\n",
      "d\n"
     ]
    }
   ],
   "source": [
    "element = 'lead'\n",
    "for letter in element:\n",
    "    print(letter)"
   ]
  },
  {
   "cell_type": "code",
   "execution_count": 51,
   "metadata": {},
   "outputs": [
    {
     "name": "stdout",
     "output_type": "stream",
     "text": [
      "not a string 1\n",
      "not a string 3\n",
      "its a string with length 4\n",
      "done with loop!\n"
     ]
    },
    {
     "data": {
      "text/plain": [
       "'This'"
      ]
     },
     "execution_count": 51,
     "metadata": {},
     "output_type": "execute_result"
    }
   ],
   "source": [
    "p_list = [1,3,'This']\n",
    "for p in p_list:\n",
    "    if type(p) is str: #notice that we used our str function without Parentheses to compare types!\n",
    "        print('its a string with length', len(p))\n",
    "    else:\n",
    "        print('not a string', p)\n",
    "print('done with loop!')"
   ]
  },
  {
   "cell_type": "code",
   "execution_count": 10,
   "metadata": {},
   "outputs": [
    {
     "name": "stdout",
     "output_type": "stream",
     "text": [
      "1\n",
      "2\n",
      "3\n",
      "4\n",
      "5\n",
      "6\n",
      "7\n",
      "8\n",
      "9\n",
      "10\n",
      "Remember, the range does not print the last number specified.\n"
     ]
    }
   ],
   "source": [
    "#When writing for loops with numbers, you can use range to specify numbers\n",
    "for value in range(1,10+1):\n",
    "    print(value)\n",
    "print(\"Remember, the range does not print the last number specified.\")"
   ]
  },
  {
   "cell_type": "code",
   "execution_count": 28,
   "metadata": {},
   "outputs": [
    {
     "name": "stdout",
     "output_type": "stream",
     "text": [
      "[1, 3, 5, 7, 9]\n",
      "range(1, 11, 2)\n",
      "1\n",
      "9\n",
      "24\n"
     ]
    }
   ],
   "source": [
    "list1 = [(range(1,10+1,2))] # to skip values by 2 when printing between 1 to 10\n",
    "print(list)\n",
    "\n",
    "print(min(list1))\n",
    "print(min([1, 3, 4, 7, 9])) #min seems unable to read list1 directly\n",
    "print(max([1, 3, 4, 7, 9]))\n",
    "print(sum([1, 3, 4, 7, 9]))"
   ]
  },
  {
   "cell_type": "markdown",
   "metadata": {},
   "source": [
    "**List comprehensions**  \n",
    "Code can be written in shorter versions.  \n",
    "Take note of the example below. "
   ]
  },
  {
   "cell_type": "code",
   "execution_count": 30,
   "metadata": {},
   "outputs": [
    {
     "name": "stdout",
     "output_type": "stream",
     "text": [
      "[1, 4, 9, 16, 25, 36, 49, 64, 81, 100]\n"
     ]
    }
   ],
   "source": [
    "squares = []\n",
    "for value in range (1, 11):\n",
    "    square = value**2\n",
    "    squares.append(square)\n",
    "print(squares)"
   ]
  },
  {
   "cell_type": "code",
   "execution_count": 34,
   "metadata": {},
   "outputs": [
    {
     "data": {
      "text/plain": [
       "[1, 4, 9, 16, 25, 36, 49, 64, 81, 100]"
      ]
     },
     "execution_count": 34,
     "metadata": {},
     "output_type": "execute_result"
    }
   ],
   "source": [
    "#this can also be written as\n",
    "\n",
    "squares = [value**2 for value in range(1,11)]\n",
    "squares\n",
    "\n",
    "#this is probably how the format of some seq() or rep() functions is written"
   ]
  },
  {
   "cell_type": "markdown",
   "metadata": {},
   "source": [
    "**Challenge 10**  \n",
    "Iterate through a given list of numbers. Add odd numbers to another list, called odd. Add even numbers to another list called even. Then, sort and print out both odd and even lists.  \n",
    "Hint: Remember modulo (%?,) and remember our list methods for adding items?"
   ]
  },
  {
   "cell_type": "code",
   "execution_count": null,
   "metadata": {},
   "outputs": [],
   "source": [
    "numberList = [1,4,3,6,5,9,8,2,7,10]"
   ]
  },
  {
   "cell_type": "code",
   "execution_count": 66,
   "metadata": {},
   "outputs": [
    {
     "name": "stdout",
     "output_type": "stream",
     "text": [
      "[1, 3, 5, 7, 9]\n",
      "[2, 4, 6, 8, 10]\n"
     ]
    }
   ],
   "source": [
    "numberList = [1,4,3,6,5,9,8,2,7,10]\n",
    "odd_list = []\n",
    "even_list = []\n",
    "\n",
    "for number in numberList:\n",
    "    if number%2 != 0:\n",
    "        odd_list.append(number)\n",
    "    elif number%2 == 0:\n",
    "        even_list.append(number)\n",
    " \n",
    "odd_list.sort() #sorting lists\n",
    "even_list.sort() #sorting lists\n",
    "\n",
    "print(odd_list)\n",
    "print(even_list)"
   ]
  },
  {
   "cell_type": "markdown",
   "metadata": {},
   "source": [
    "**Python crash course challenges**\n",
    "+ Writing for loops\n",
    "+ Writing for loops with numbers\n",
    "+ Writing for loops for slicing parts of a list  \n",
    "*(Remember, slicing is weird - to slice, specify parameters x and y+1 to slice between x and y)*  \n",
    "+ Tuples (i.e. values that cannot change and are immutable)"
   ]
  },
  {
   "cell_type": "code",
   "execution_count": 7,
   "metadata": {},
   "outputs": [
    {
     "name": "stdout",
     "output_type": "stream",
     "text": [
      "I really like to eat Magarita at DOC.\n",
      "I really like to eat Chilli prawn at DOC.\n",
      "I really like to eat Proscuitto at DOC.\n",
      "Yum!\n"
     ]
    }
   ],
   "source": [
    "pizza_list = [\"Magarita\", \"Chilli prawn\", \"Proscuitto\"]\n",
    "\n",
    "for pizza in pizza_list:\n",
    "    print(\"I really like to eat %s at DOC.\" %(pizza))\n",
    "print(\"Yum!\")"
   ]
  },
  {
   "cell_type": "code",
   "execution_count": 41,
   "metadata": {},
   "outputs": [
    {
     "data": {
      "text/plain": [
       "[1, 2, 3, 4, 5, 6, 7, 8, 9, 10, 11, 12, 13, 14, 15, 16, 17, 18, 19, 20]"
      ]
     },
     "execution_count": 41,
     "metadata": {},
     "output_type": "execute_result"
    }
   ],
   "source": [
    "#printing 1 to 10\n",
    "list1 = [value for value in range(1,20+1)]\n",
    "list1"
   ]
  },
  {
   "cell_type": "code",
   "execution_count": 39,
   "metadata": {},
   "outputs": [
    {
     "name": "stdout",
     "output_type": "stream",
     "text": [
      "1\n",
      "1000000\n"
     ]
    }
   ],
   "source": [
    "#printing 1 to 1 million\n",
    "list2 = [value for value in range(1,(10**6)+1)]\n",
    "list2\n",
    "print(min(list2))\n",
    "print(max(list2))"
   ]
  },
  {
   "cell_type": "code",
   "execution_count": 44,
   "metadata": {},
   "outputs": [
    {
     "data": {
      "text/plain": [
       "[1, 3, 5, 7, 9, 11, 13, 15, 17, 19]"
      ]
     },
     "execution_count": 44,
     "metadata": {},
     "output_type": "execute_result"
    }
   ],
   "source": [
    "#printing odd numbers\n",
    "list3 = [value for value in range(1,20+1,2)]\n",
    "list3"
   ]
  },
  {
   "cell_type": "code",
   "execution_count": 45,
   "metadata": {},
   "outputs": [
    {
     "data": {
      "text/plain": [
       "[3, 6, 9, 12, 15, 18, 21, 24, 27, 30]"
      ]
     },
     "execution_count": 45,
     "metadata": {},
     "output_type": "execute_result"
    }
   ],
   "source": [
    "#printing by 3s\n",
    "list4 = [value for value in range(3, 30+1, 3)]\n",
    "list4"
   ]
  },
  {
   "cell_type": "code",
   "execution_count": 47,
   "metadata": {},
   "outputs": [
    {
     "data": {
      "text/plain": [
       "[1, 8, 27, 64, 125, 216, 343, 512, 729, 1000]"
      ]
     },
     "execution_count": 47,
     "metadata": {},
     "output_type": "execute_result"
    }
   ],
   "source": [
    "#printing cubed values\n",
    "list5 = [value**3 for value in range(1,10+1)] \n",
    "list5"
   ]
  },
  {
   "cell_type": "code",
   "execution_count": 51,
   "metadata": {},
   "outputs": [
    {
     "name": "stdout",
     "output_type": "stream",
     "text": [
      "50\n"
     ]
    },
    {
     "ename": "TypeError",
     "evalue": "'tuple' object does not support item assignment",
     "output_type": "error",
     "traceback": [
      "\u001b[1;31m---------------------------------------------------------------------------\u001b[0m",
      "\u001b[1;31mTypeError\u001b[0m                                 Traceback (most recent call last)",
      "\u001b[1;32m<ipython-input-51-030fc8c3745c>\u001b[0m in \u001b[0;36m<module>\u001b[1;34m\u001b[0m\n\u001b[0;32m      4\u001b[0m \u001b[1;33m\u001b[0m\u001b[0m\n\u001b[0;32m      5\u001b[0m \u001b[1;31m#changing tuples does not work\u001b[0m\u001b[1;33m\u001b[0m\u001b[1;33m\u001b[0m\u001b[1;33m\u001b[0m\u001b[0m\n\u001b[1;32m----> 6\u001b[1;33m \u001b[0mdimensions\u001b[0m\u001b[1;33m[\u001b[0m\u001b[1;36m1\u001b[0m\u001b[1;33m]\u001b[0m \u001b[1;33m=\u001b[0m \u001b[1;36m23\u001b[0m\u001b[1;33m\u001b[0m\u001b[1;33m\u001b[0m\u001b[0m\n\u001b[0m",
      "\u001b[1;31mTypeError\u001b[0m: 'tuple' object does not support item assignment"
     ]
    }
   ],
   "source": [
    "#tuples\n",
    "dimensions = (200, 50) \n",
    "print(dimensions[1])\n",
    "\n",
    "#changing tuples does not work\n",
    "dimensions[1] = 23 #produces an error message"
   ]
  },
  {
   "cell_type": "code",
   "execution_count": null,
   "metadata": {},
   "outputs": [],
   "source": []
  }
 ],
 "metadata": {
  "kernelspec": {
   "display_name": "Python 3",
   "language": "python",
   "name": "python3"
  },
  "language_info": {
   "codemirror_mode": {
    "name": "ipython",
    "version": 3
   },
   "file_extension": ".py",
   "mimetype": "text/x-python",
   "name": "python",
   "nbconvert_exporter": "python",
   "pygments_lexer": "ipython3",
   "version": "3.7.1"
  }
 },
 "nbformat": 4,
 "nbformat_minor": 2
}
