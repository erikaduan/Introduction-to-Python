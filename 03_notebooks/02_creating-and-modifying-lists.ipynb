{
 "cells": [
  {
   "cell_type": "markdown",
   "metadata": {},
   "source": [
    "**Creating Lists:**  "
   ]
  },
  {
   "cell_type": "markdown",
   "metadata": {},
   "source": [
    "![Welcome!](02_images/notebook2.jpg)"
   ]
  },
  {
   "cell_type": "markdown",
   "metadata": {},
   "source": [
    "Lists allow you to store sets of information in one place. This makes them one of Python's most powerful base features.  \n",
    "\n",
    "+ A list is a container that allows you to store many different data structures.  \n",
    "+ A list can contain multiple data structures (integer, float, characters and even other lists).  \n",
    "+ From left to right, the first position is **position 0** (i.e. distance 0 from the point).   \n",
    "+ From right to left, the last position is **position -1**.  \n",
    "+ To navigate through a list, use **[position]**.  "
   ]
  },
  {
   "cell_type": "code",
   "execution_count": 13,
   "metadata": {},
   "outputs": [
    {
     "data": {
      "text/plain": [
       "1"
      ]
     },
     "execution_count": 13,
     "metadata": {},
     "output_type": "execute_result"
    }
   ],
   "source": [
    "odds = [1, 3, 5, 7]\n",
    "odds[0] # first item from the list"
   ]
  },
  {
   "cell_type": "code",
   "execution_count": 1,
   "metadata": {},
   "outputs": [
    {
     "data": {
      "text/plain": [
       "7"
      ]
     },
     "execution_count": 1,
     "metadata": {},
     "output_type": "execute_result"
    }
   ],
   "source": [
    "odds[-1] # last item from the list"
   ]
  },
  {
   "cell_type": "code",
   "execution_count": 2,
   "metadata": {},
   "outputs": [
    {
     "data": {
      "text/plain": [
       "5"
      ]
     },
     "execution_count": 2,
     "metadata": {},
     "output_type": "execute_result"
    }
   ],
   "source": [
    "odds[-2] # second to last item from the list"
   ]
  },
  {
   "cell_type": "code",
   "execution_count": 3,
   "metadata": {
    "scrolled": true
   },
   "outputs": [
    {
     "data": {
      "text/plain": [
       "True"
      ]
     },
     "execution_count": 3,
     "metadata": {},
     "output_type": "execute_result"
    }
   ],
   "source": [
    "odds[1] == odds[-3]"
   ]
  },
  {
   "cell_type": "markdown",
   "metadata": {},
   "source": [
    "**To print the values from a list using a for loop:**  \n",
    "\n",
    "1. Use the **len(list)** function to work out the length of the list\n",
    "2. Use the **range(len(list))** function to generate a numerical range for that list to print from. "
   ]
  },
  {
   "cell_type": "code",
   "execution_count": 19,
   "metadata": {
    "scrolled": true
   },
   "outputs": [
    {
     "name": "stdout",
     "output_type": "stream",
     "text": [
      "The odds of winning a game of bingo is now 1.\n",
      "The odds of winning a game of bingo is now 3.\n",
      "The odds of winning a game of bingo is now 5.\n",
      "The odds of winning a game of bingo is now 7.\n"
     ]
    }
   ],
   "source": [
    "for number in range(len(odds)):\n",
    "    print(\"The odds of winning a game of bingo is now %i.\" %odds[number])\n"
   ]
  },
  {
   "cell_type": "code",
   "execution_count": 20,
   "metadata": {},
   "outputs": [
    {
     "name": "stdout",
     "output_type": "stream",
     "text": [
      "President 1: Washington\n",
      "President 2: Adams\n",
      "President 3: Jefferson\n",
      "President 4: Madison\n",
      "President 5: Monroe\n",
      "President 6: Adams\n",
      "President 7: Jackson\n"
     ]
    }
   ],
   "source": [
    "presidents = [\"Washington\", \"Adams\", \"Jefferson\", \"Madison\", \"Monroe\", \"Adams\", \"Jackson\"]\n",
    "for i in range(len(presidents)):\n",
    "    print(\"President {}: {}\".format(i + 1, presidents[i])) \n",
    "    \n",
    "# the new method .format() replaces \"%s %s\" %('string1', 'string2') with \"{} {}\".format('string one', 'string two')"
   ]
  },
  {
   "cell_type": "markdown",
   "metadata": {},
   "source": [
    "With regards to the last exercise, the **function enumerate()** also allows us to loop over a list and retrieve both the index and the value of each item in the list."
   ]
  },
  {
   "cell_type": "code",
   "execution_count": 22,
   "metadata": {},
   "outputs": [
    {
     "name": "stdout",
     "output_type": "stream",
     "text": [
      "President 1: Washington\n",
      "President 2: Adams\n",
      "President 3: Jefferson\n",
      "President 4: Madison\n",
      "President 5: Monroe\n",
      "President 6: Adams\n",
      "President 7: Jackson\n"
     ]
    }
   ],
   "source": [
    "presidents = [\"Washington\", \"Adams\", \"Jefferson\", \"Madison\", \"Monroe\", \"Adams\", \"Jackson\"]\n",
    "for num, name in enumerate(presidents, start = 1):\n",
    "    print(\"President {}: {}\".format(num, name))\n",
    "    \n",
    "# for counter, value in enumerate(some_list):\n",
    "    # print(counter, value)"
   ]
  },
  {
   "cell_type": "markdown",
   "metadata": {},
   "source": [
    "**Differences and similarities between strings and lists:**    \n",
    "\n",
    "+ Lists are mutable (items can always be ammended, deleted, changed and moved around) but strings are not mutable. \n",
    "+ We can slice both lists and strings."
   ]
  },
  {
   "cell_type": "code",
   "execution_count": 24,
   "metadata": {},
   "outputs": [
    {
     "name": "stdout",
     "output_type": "stream",
     "text": [
      "['Sherbert lemons', 'Gummy Bears', ['Red sweets', 'Yellow sweets'], 'Licorice']\n"
     ]
    }
   ],
   "source": [
    "candy_cupboard = ['Sherbert lemons', 'Gummy Bears', ['Red sweets', 'Yellow sweets'], 'Licorice']\n",
    "print(candy_cupboard)"
   ]
  },
  {
   "cell_type": "code",
   "execution_count": 25,
   "metadata": {},
   "outputs": [
    {
     "name": "stdout",
     "output_type": "stream",
     "text": [
      "['Sherbert lemons', 'Gummy Bears', ['Red sweets', 'Yellow sweets'], 'Humbugs']\n"
     ]
    }
   ],
   "source": [
    "# Let's swap licorice with humbugs!\n",
    "\n",
    "candy_cupboard[-1] = 'Humbugs' # replaced the last value in the list\n",
    "print(candy_cupboard)"
   ]
  },
  {
   "cell_type": "markdown",
   "metadata": {},
   "source": [
    "**Slicing strings versus slicing lists:**  \n",
    "To slice an index, always slice from **1 to n+1** to obtain 1:n items. "
   ]
  },
  {
   "cell_type": "code",
   "execution_count": 30,
   "metadata": {},
   "outputs": [
    {
     "name": "stdout",
     "output_type": "stream",
     "text": [
      "Slicing the index by position [1:3] produces ['Index 1', 'Index 2']. There is no Index 3 printed!\n",
      "Slicing the index by position [1:3] produces ['Index 1', 'Index 2']. There is no Index 3 printed!\n"
     ]
    }
   ],
   "source": [
    "Index_list = ['Index 0', 'Index 1', 'Index 2', 'Index 3', 'Index 4']\n",
    "\n",
    "print(\"Slicing the index by position [1:3] produces %s. There is no Index 3 printed!\" %(Index_list[1:3]))\n",
    "print(\"Slicing the index by position [1:3] produces {}. There is no Index 3 printed!\".format(Index_list[1:3]))\n",
    "\n",
    "# note: there are two ways to print using the old method versus the new .format() method\n",
    "# to slice the last index, use [a, b+1] to obtain position b"
   ]
  },
  {
   "cell_type": "code",
   "execution_count": 6,
   "metadata": {
    "scrolled": true
   },
   "outputs": [
    {
     "name": "stdout",
     "output_type": "stream",
     "text": [
      "Slicing from the 2nd position index to the last is achieved using : to denote the last value. ['Index 1', 'Index 2', 'Index 3', 'Index 4']\n",
      "Slicing from the 1st position index to the last can also be achieved by doing this: ['Index 0', 'Index 1', 'Index 2', 'Index 3', 'Index 4']\n"
     ]
    }
   ],
   "source": [
    "print('Slicing from the 2nd position index to the last is achieved using : to denote the last value.', Index_list[1:])\n",
    "print('Slicing from the 1st position index to the last can also be achieved by doing this:', Index_list[:])"
   ]
  },
  {
   "cell_type": "code",
   "execution_count": 7,
   "metadata": {},
   "outputs": [
    {
     "name": "stdout",
     "output_type": "stream",
     "text": [
      "['Tim Tams', 'Picnic', 'Milo', 'Snickers', 'Mars']\n"
     ]
    }
   ],
   "source": [
    "# switch around the 2nd and 4th items in the following list\n",
    "temp_list = ['Tim Tams', 'Snickers', 'Milo', 'Picnic', 'Mars']\n",
    "new_list = temp_list.copy()\n",
    "\n",
    "new_list[1] = temp_list[3]\n",
    "new_list[3] = temp_list[1]\n",
    "print(new_list)"
   ]
  },
  {
   "cell_type": "markdown",
   "metadata": {},
   "source": [
    "**Mini-challenge 6**  \n",
    "Manipulating strings (i.e. slicing and concatenating)."
   ]
  },
  {
   "cell_type": "code",
   "execution_count": 8,
   "metadata": {},
   "outputs": [],
   "source": [
    "S = 'allmymemoriessgatherroundherminersladystrangettobluewaterdarkanddustypaintedintheskymistytasteofmoonshinebringsateardroptomyeyecountryroadstakemehometotheplaceibelongwestvirginiamountainmamatakemehomecountryroads'"
   ]
  },
  {
   "cell_type": "code",
   "execution_count": 9,
   "metadata": {},
   "outputs": [
    {
     "name": "stdout",
     "output_type": "stream",
     "text": [
      "a\n",
      "t\n",
      "all\n",
      "all\n",
      "roads\n",
      "all roads\n"
     ]
    }
   ],
   "source": [
    "# 1st letter in string S i.e. position 0\n",
    "print(S[0])\n",
    "\n",
    "# 17th letter in string S i.e. position 17 - 1\n",
    "print(S[16])\n",
    "\n",
    "# take the first 3 letters from S and make them a variable\n",
    "new_vars = S[0:(2+1)]\n",
    "alt_vars = S[:(2+1)]\n",
    "print(new_vars)\n",
    "print(alt_vars)\n",
    "\n",
    "# take the last 5 letters from S and make them another variable\n",
    "last_vars = S[-5:]\n",
    "print(last_vars)\n",
    "\n",
    "# concatenate (\"add\") those two substrings together with a space in between\n",
    "final_vars = print(\"%s %s\" %(new_vars, last_vars))\n",
    "\n",
    "final_vars"
   ]
  },
  {
   "cell_type": "markdown",
   "metadata": {},
   "source": [
    "**Coping/duplicating variables:**  \n",
    "+ You can use the **list2 = list1[:]** \n",
    "+ You can also use **list2 = list1.copy()**"
   ]
  },
  {
   "cell_type": "code",
   "execution_count": 10,
   "metadata": {},
   "outputs": [
    {
     "name": "stdout",
     "output_type": "stream",
     "text": [
      "Odds1: [1, 3, 5, 7]\n",
      "Odds2: [1, 3, 5, 7]\n"
     ]
    }
   ],
   "source": [
    "odds1 = [1, 3, 5, 7]\n",
    "odds2 = odds1 # just gives [1,3,5,7] two simultaneous names\n",
    "\n",
    "print(\"Odds1:\", odds1)\n",
    "print(\"Odds2:\", odds2)"
   ]
  },
  {
   "cell_type": "code",
   "execution_count": 11,
   "metadata": {},
   "outputs": [
    {
     "name": "stdout",
     "output_type": "stream",
     "text": [
      "Odds1: [1, 1300, 5, 7]\n",
      "Odds2: [1, 1300, 5, 7]\n"
     ]
    }
   ],
   "source": [
    "odds1[1] = 1300\n",
    "\n",
    "print(\"Odds1:\",odds1)\n",
    "print(\"Odds2:\", odds2)\n",
    "# odds1 and odds 2 are both changed because they link to the same variable!"
   ]
  },
  {
   "cell_type": "code",
   "execution_count": 12,
   "metadata": {},
   "outputs": [
    {
     "name": "stdout",
     "output_type": "stream",
     "text": [
      "Odds1: [1, 30, 5, 7]\n",
      "Odds3: [1, 3, 5, 7]\n"
     ]
    }
   ],
   "source": [
    "odds1 = [1, 3, 5, 7]\n",
    "odds3 = odds1.copy() # odds 3 is a new variable\n",
    "odds1[1] = 30\n",
    "print(\"Odds1:\", odds1)\n",
    "print(\"Odds3:\", odds3)"
   ]
  },
  {
   "cell_type": "markdown",
   "metadata": {},
   "source": [
    "**Adding elements in a list**  \n",
    "+ To add a new variable into a list, we can use the method **.append()**.  \n",
    "+ This adds the newest variable onto the end of the list.  \n",
    "+ To add an item at a specific location, use **insert()**.  \n",
    "+ The basic structure of this is **list.insert(list_index, variable)**.  "
   ]
  },
  {
   "cell_type": "code",
   "execution_count": 13,
   "metadata": {},
   "outputs": [
    {
     "name": "stdout",
     "output_type": "stream",
     "text": [
      "[1, 3, 5, 7, 12]\n"
     ]
    }
   ],
   "source": [
    "# to use .append()\n",
    "odds1 = [1, 3, 5, 7]\n",
    "odds1.append(12)\n",
    "\n",
    "print(odds1) # added onto the end of the current list"
   ]
  },
  {
   "cell_type": "code",
   "execution_count": 14,
   "metadata": {},
   "outputs": [
    {
     "name": "stdout",
     "output_type": "stream",
     "text": [
      "[1, 1.5, 3, 5, 7]\n"
     ]
    }
   ],
   "source": [
    "# to use list.insert(index position, variable) at a specified location\n",
    "odds1 = [1, 3, 5, 7]\n",
    "odds1.insert(1, 1.5) #insert at second position, insert variable of choice)\n",
    "\n",
    "print(odds1)"
   ]
  },
  {
   "cell_type": "code",
   "execution_count": 15,
   "metadata": {},
   "outputs": [
    {
     "name": "stdout",
     "output_type": "stream",
     "text": [
      "[1, 3, 5, 'Chocolate', 7]\n"
     ]
    }
   ],
   "source": [
    "# you can insert characters into a list of vectors \n",
    "odds2 = [1, 3, 5, 7]\n",
    "odds2.insert(3, \"Chocolate\") #insertion at the last place actually places the insertion before the last object\n",
    "\n",
    "print(odds2)"
   ]
  },
  {
   "cell_type": "code",
   "execution_count": 16,
   "metadata": {},
   "outputs": [
    {
     "name": "stdout",
     "output_type": "stream",
     "text": [
      "[['Dark choc Tim Tams, Tim Tams', 'Caramel Tim Tams'], 'Gummy Bears', 'Picnics', 'Mars', 'Snickers']\n"
     ]
    }
   ],
   "source": [
    "candy_cupboard = [[\"Dark choc Tim Tams, Tim Tams\"], \"Picnics\", \"Mars\"]\n",
    "candy_cupboard.append(\"Snickers\")\n",
    "\n",
    "# inserting into a list inside a list\n",
    "candy_cupboard.insert(1, \"Gummy Bears\") # inserting into the overall list\n",
    "candy_cupboard[0].insert(1, \"Caramel Tim Tams\") # inserting into the list inside the list\n",
    "\n",
    "print(candy_cupboard)"
   ]
  },
  {
   "cell_type": "markdown",
   "metadata": {},
   "source": [
    "**Deleting elements in a list**  \n",
    "There are three options when deleting items from your list:  \n",
    "+ The first is **del**, which removes the item at a specific index location and returns your modified list back to you.  \n",
    "+ Then, **remove()** will find and delete the first matching value from your list, and return your modified list back to you.  \n",
    "+ It's typically used like this: **list.remove(variable)**.  \n",
    "+ Lastly, **pop()** is index based, but pop() actually returns the value that you've removed."
   ]
  },
  {
   "cell_type": "code",
   "execution_count": 17,
   "metadata": {},
   "outputs": [
    {
     "data": {
      "text/plain": [
       "[3, 5, 7]"
      ]
     },
     "execution_count": 17,
     "metadata": {},
     "output_type": "execute_result"
    }
   ],
   "source": [
    "# deleting items using del\n",
    "odds1 = [1, 3, 5, 7]\n",
    "\n",
    "del odds1[0] # weird syntax that allows spacing\n",
    "odds1"
   ]
  },
  {
   "cell_type": "code",
   "execution_count": 18,
   "metadata": {},
   "outputs": [
    {
     "name": "stdout",
     "output_type": "stream",
     "text": [
      "[1, 3, 4, 5, 4, 7, 8, 9]\n"
     ]
    }
   ],
   "source": [
    "# deleting items using remove()\n",
    "odds_long = [1, 3, 4, 5, 4, 7 , 9, 8, 9]\n",
    "odds_long.remove(9) #only removes the first 9\n",
    "print(odds_long)"
   ]
  },
  {
   "cell_type": "code",
   "execution_count": 19,
   "metadata": {},
   "outputs": [
    {
     "name": "stdout",
     "output_type": "stream",
     "text": [
      "[1, 3, 4, 6, 7, 8]\n",
      "5\n"
     ]
    }
   ],
   "source": [
    "# using pop to store a deleted variable\n",
    "odds1 = [1, 3, 4, 5, 6, 7, 8]\n",
    "temp_odds = odds1.pop(3) #removing just one variable at a time\n",
    "print(odds1)\n",
    "print(temp_odds)"
   ]
  },
  {
   "cell_type": "markdown",
   "metadata": {},
   "source": [
    "**Mini-challenge 7**  \n",
    "Adding and extracting variables from lists. "
   ]
  },
  {
   "cell_type": "code",
   "execution_count": 37,
   "metadata": {},
   "outputs": [
    {
     "name": "stdout",
     "output_type": "stream",
     "text": [
      "['cats', 'fish', ['bulldog', 'terrier', 'greyhound']]\n"
     ]
    }
   ],
   "source": [
    "# remove 'dogs' and replace with a list of dog types\n",
    "pets = [\"dogs\", \"cats\", \"fish\"]\n",
    "del pets[0] # removes dogs\n",
    "dog_breeds = [\"bulldog\", \"terrier\", \"greyhound\"]\n",
    "pets.append(dog_breeds)  # append list of dog breeds available\n",
    "\n",
    "print(pets)"
   ]
  },
  {
   "cell_type": "code",
   "execution_count": 38,
   "metadata": {},
   "outputs": [
    {
     "name": "stdout",
     "output_type": "stream",
     "text": [
      "terrier\n",
      "['cats', 'fish']\n"
     ]
    }
   ],
   "source": [
    "# to extract terrier using pop and list extraction\n",
    "my_pet = pets.pop(2)[1] # circle brackets - outer list and square brackets - inner list\n",
    "print(my_pet)\n",
    "print(pets) # all dogs have been removed"
   ]
  },
  {
   "cell_type": "code",
   "execution_count": 39,
   "metadata": {},
   "outputs": [
    {
     "name": "stdout",
     "output_type": "stream",
     "text": [
      "terrier\n"
     ]
    }
   ],
   "source": [
    "# this method of extraction also works and does not remove the whole inner list\n",
    "pets = ['cats', 'fish', ['bulldog', 'terrier', 'greyhound']]\n",
    "my_pet2 = pets[2][1] # moving from outer to inner lists\n",
    "print(my_pet2)"
   ]
  },
  {
   "cell_type": "markdown",
   "metadata": {},
   "source": [
    "**Learning about other methods:**  \n",
    "+ **.clear()** - removes all items from a list i.e. list.clear()\n",
    "+ **.sort()** - sorts all elements in a list from ascending/ descending i.e. list.sort(key = ..., reverse = ...)\n",
    "+ **enumerate()** - count the iteration number in an interation i.e. enumerate(iterable, start = 0)"
   ]
  },
  {
   "cell_type": "code",
   "execution_count": 40,
   "metadata": {},
   "outputs": [
    {
     "name": "stdout",
     "output_type": "stream",
     "text": [
      "Your pets are ['cat', 'quantum_cat', 'anti_cat'].\n",
      "Your pets are [].\n"
     ]
    }
   ],
   "source": [
    "# .clear() removes all items from a list\n",
    "my_pets = [\"cat\", \"quantum_cat\", \"anti_cat\"]\n",
    "print(\"Your pets are %s.\" %(my_pets))\n",
    "\n",
    "my_pets.clear() \n",
    "print(\"Your pets are %s.\" %(my_pets)) # an empty list!"
   ]
  },
  {
   "cell_type": "code",
   "execution_count": 41,
   "metadata": {},
   "outputs": [
    {
     "name": "stdout",
     "output_type": "stream",
     "text": [
      "[5, 2, 66, 3, 7, 9457, 466, 7]\n",
      "[9457, 466, 66, 7, 7, 5, 3, 2]\n"
     ]
    }
   ],
   "source": [
    "# .sort()\n",
    "num_example = [5, 2, 66, 3, 7, 9457, 466, 7]\n",
    "print(num_example)\n",
    "\n",
    "num_example.sort(reverse = True) # sort via descending values\n",
    "print(num_example)"
   ]
  },
  {
   "cell_type": "code",
   "execution_count": 45,
   "metadata": {
    "scrolled": true
   },
   "outputs": [
    {
     "name": "stdout",
     "output_type": "stream",
     "text": [
      "['bulldog', 'terrier', 'greyhound', 'sea snake']\n",
      "1 bulldog\n",
      "2 terrier\n",
      "3 greyhound\n",
      "4 sea snake\n"
     ]
    }
   ],
   "source": [
    "# enumerate() allows indexing and printing of lists \n",
    "pets = ['bulldog', 'terrier', 'greyhound', \"sea snake\"]\n",
    "print(pets)\n",
    "\n",
    "for pet, value in enumerate(pets, 1): \n",
    "                   print(pet, value)"
   ]
  },
  {
   "cell_type": "markdown",
   "metadata": {},
   "source": [
    "**Python crash course challenge - making lists**"
   ]
  },
  {
   "cell_type": "code",
   "execution_count": 46,
   "metadata": {
    "scrolled": true
   },
   "outputs": [
    {
     "name": "stdout",
     "output_type": "stream",
     "text": [
      "I would like to visit ['London', 'New York', 'Hawaii', 'Adelaide', 'Slovenia'] in the next two years.\n"
     ]
    }
   ],
   "source": [
    "locations = [\"London\", \"New York\", \"Hawaii\", \"Adelaide\", \"Slovenia\"]\n",
    "print(\"I would like to visit %s in the next two years.\"%(locations))"
   ]
  },
  {
   "cell_type": "code",
   "execution_count": 50,
   "metadata": {},
   "outputs": [
    {
     "name": "stdout",
     "output_type": "stream",
     "text": [
      "['London', 'New York', 'Hawaii', 'Adelaide', 'Slovenia']\n",
      "['Adelaide', 'Hawaii', 'London', 'New York', 'Slovenia']\n",
      "['London', 'New York', 'Hawaii', 'Adelaide', 'Slovenia']\n"
     ]
    }
   ],
   "source": [
    "print(locations)\n",
    "print(sorted(locations)) #sorted() allows sorting without changing the original list's order\n",
    "print(locations)\n",
    "\n",
    "# sorted options include reverse = True, key = len() or key = takeSecond "
   ]
  },
  {
   "cell_type": "code",
   "execution_count": 51,
   "metadata": {},
   "outputs": [
    {
     "name": "stdout",
     "output_type": "stream",
     "text": [
      "['London', 'New York', 'Hawaii', 'Adelaide', 'Slovenia']\n"
     ]
    },
    {
     "data": {
      "text/plain": [
       "['London', 'Hawaii', 'New York', 'Adelaide', 'Slovenia']"
      ]
     },
     "execution_count": 51,
     "metadata": {},
     "output_type": "execute_result"
    }
   ],
   "source": [
    "print(locations)\n",
    "sorted(locations, key = len) # sorting by length of characters without alphabetical ordering"
   ]
  },
  {
   "cell_type": "code",
   "execution_count": 52,
   "metadata": {},
   "outputs": [
    {
     "name": "stdout",
     "output_type": "stream",
     "text": [
      "['London', 'New York', 'Hawaii', 'Adelaide', 'Slovenia']\n"
     ]
    },
    {
     "data": {
      "text/plain": [
       "['Slovenia', 'New York', 'London', 'Hawaii', 'Adelaide']"
      ]
     },
     "execution_count": 52,
     "metadata": {},
     "output_type": "execute_result"
    }
   ],
   "source": [
    "print(locations)\n",
    "sorted(locations, reverse = True) #reverse alphabetical order "
   ]
  }
 ],
 "metadata": {
  "kernelspec": {
   "display_name": "Python 3",
   "language": "python",
   "name": "python3"
  },
  "language_info": {
   "codemirror_mode": {
    "name": "ipython",
    "version": 3
   },
   "file_extension": ".py",
   "mimetype": "text/x-python",
   "name": "python",
   "nbconvert_exporter": "python",
   "pygments_lexer": "ipython3",
   "version": "3.7.1"
  }
 },
 "nbformat": 4,
 "nbformat_minor": 2
}
