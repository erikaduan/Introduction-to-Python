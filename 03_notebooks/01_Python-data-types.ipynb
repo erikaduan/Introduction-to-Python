{
 "cells": [
  {
   "cell_type": "markdown",
   "metadata": {},
   "source": [
    "# Python data structures     \n",
    "## Author: Erika Duan"
   ]
  },
  {
   "cell_type": "markdown",
   "metadata": {},
   "source": [
    "![](../02_figures/01_lists-header.jpg)"
   ]
  },
  {
   "cell_type": "markdown",
   "metadata": {},
   "source": [
    "# Lists  \n",
    "\n",
    "A list is a sequential container for data values (whether logical, integers, floats, strings or other lists) and has some similarities to vectors in R. \n",
    "\n",
    "Properties of lists include:  \n",
    "\n",
    "+ Lists can store different primitive types and even other lists.    \n",
    "+ Lists have an integer and 0-based index, which allows for list slicing (i.e. subsetting).  \n",
    "+ Lists can be appended using the methods `append()` or `insert()`.  \n",
    "+ Values inside a list can be removed using the methods `remove()` or `pop()` or using the keyword `del`.  \n",
    "+ The function `len()` can calculate the number of items in a list.  \n",
    "+ Two lists can be concatenated with the operator `+`.  "
   ]
  },
  {
   "cell_type": "code",
   "execution_count": 1,
   "metadata": {},
   "outputs": [],
   "source": [
    "#-----example 1-----  \n",
    "list_a = [1, 2.4, \"hello world\", [0, 1, 2, 3]]\n",
    "print(list_a)  \n",
    "\n",
    "type(list_a) \n",
    "\n",
    "# Python allows lists containing different primitive types  "
   ]
  },
  {
   "cell_type": "code",
   "execution_count": 2,
   "metadata": {},
   "outputs": [],
   "source": [
    "#-----example 2-----\n",
    "list_b = [1, 2, 3, 4, 5, 6, 7, 8, 9, 10]  \n",
    "\n",
    "print(list_b[0]) # the integer 1 occupies position 0   \n",
    "print(list_b[1]) # the integer 2 occupies position 0 + 1  \n",
    "print(list_b[-2]) # the integer 9 occupies the second to last position i.e. position -2  \n",
    "print(list_b[0:3+1]) # extract values from position 0 to position 3\n",
    "print(list_b[0::2]) # start from position 0 and extract values from every subsequent second position\n",
    "print(list_b[::2]) # the same as list_b[0::2]  \n",
    "print(list_b[:]) # the same as list_b.copy()"
   ]
  },
  {
   "cell_type": "code",
   "execution_count": 3,
   "metadata": {},
   "outputs": [],
   "source": [
    "#-----example 3----- \n",
    "list_c = [\"apple\", \"bear\", \"donut\", \"elephant\", \"guava\"] \n",
    "\n",
    "list_c.append(\"horse\") # always appends onto the last position in a item\n",
    "list_c.insert(2, \"cat\") # appends \"cat\" to position 2 of the new list \n",
    "list_c.insert(5, \"french toast\") # appends \"cat\" to position 5 of the new list\n",
    "\n",
    "print(list_c)"
   ]
  },
  {
   "cell_type": "code",
   "execution_count": 4,
   "metadata": {},
   "outputs": [],
   "source": [
    "#-----example 4----- \n",
    "list_d = list_c.copy() \n",
    "print(\"Original list: {}\".format(list_d)) \n",
    "\n",
    "del list_d[0:1+1] # del removes objects in a list by index (accepts integers and slices)\n",
    "print(\"Objects in positions 0 to 1 are deleted: {}\".format(list_d)) \n",
    "\n",
    "list_d.append(\"cat\") # append \"cat\" to last position in the list\n",
    "list_d.remove(\"cat\") # only removes the first reference to an object in the list\n",
    "print(\"First reference to cat is removed: {}\".format(list_d))  "
   ]
  },
  {
   "cell_type": "code",
   "execution_count": 5,
   "metadata": {},
   "outputs": [],
   "source": [
    "#-----example 5-----  \n",
    "french_toast = list_d.pop(2)\n",
    "print(\"The function pop does two things. It removes the object from the original list: {}. It also stores the removed item: {}.\"\n",
    "      .format(list_d, french_toast))"
   ]
  },
  {
   "cell_type": "markdown",
   "metadata": {},
   "source": [
    "![](../02_figures/01_tuples-and-sets-header.jpg)"
   ]
  },
  {
   "cell_type": "markdown",
   "metadata": {},
   "source": [
    "# Tuples    \n",
    "\n",
    "A tuple is an object container that behaves like a list but is immutable.   \n",
    "\n",
    "Properties of tuples include:  \n",
    "+ Tuples can be created by enclosing objects inside round brackets `()`. \n",
    "+ You can subset tuples (tuples can be referenced by index i.e. `[n]`).   \n",
    "+ You cannot alter tuples after they are created.      \n",
    "+ You can check whether an item exists in a tuple with tuple position `in` tuple (i.e. returns a logical).  \n",
    "+ You can iterate through a tuple using a `for loop`.     \n",
    "\n",
    "**Note:** Tuples are not commonly used for data manipulation tasks (although their property of being immutable can make them more useful than lists in special circumstances).  "
   ]
  },
  {
   "cell_type": "code",
   "execution_count": 6,
   "metadata": {},
   "outputs": [],
   "source": [
    "#-----example 1-----  \n",
    "tuple_1 = (\"apple\", \"bear\", \"cat\", \"donut\", 1, 2, 3, 4)\n",
    "print(\"Object tuple_1 is of type {} and can contain different primitive types in the same tuple: {}.\"\n",
    "      .format(type(tuple_1), tuple_1)) "
   ]
  },
  {
   "cell_type": "code",
   "execution_count": 7,
   "metadata": {
    "scrolled": true
   },
   "outputs": [],
   "source": [
    "#-----example 2----- \n",
    "list_1 = list(tuple_1)\n",
    "print(tuple_1[0] == list_1[0])\n",
    "\n",
    "# tuple_1[0] = \"apple_red\" produces an error\n",
    "\n",
    "list_1[0] = \"apple_red\"\n",
    "list_1\n",
    "\n",
    "# lists are mutable but tuples are immutable  "
   ]
  },
  {
   "cell_type": "code",
   "execution_count": 8,
   "metadata": {},
   "outputs": [],
   "source": [
    "#-----example 3-----\n",
    "for index, object in enumerate(tuple_1, 1): # start index at 1 instead of 0  \n",
    "    print(\"Item {}: {}\".format(index, object))"
   ]
  },
  {
   "cell_type": "markdown",
   "metadata": {},
   "source": [
    "# Sets  \n",
    "\n",
    "A set is a container that behaves like a tuple but is unindexed and has no order (i.e. like a mathematical set).   \n",
    "\n",
    "Properties of sets include:   \n",
    "+ Sets can be created by including objects inside `{}`.    \n",
    "+ Duplicate objects enclosed inside a set will be removed.   \n",
    "+ You cannot subset tuples (tuples cannot be referenced by index i.e. `[n]`).    \n",
    "+ You can check if an item is in a set using `in`.    \n",
    "+ You can iterate through a set using a `for loop`.    \n",
    "\n",
    "**Note:** Sets are not commonly used for data manipulation tasks.  "
   ]
  },
  {
   "cell_type": "code",
   "execution_count": 9,
   "metadata": {},
   "outputs": [],
   "source": [
    "#-----example 1-----  \n",
    "set_1 = {\"maths\", \"physics\", \"chemistry\", \"maths\", \"biology\"}\n",
    "print(set_1) # no duplicate values"
   ]
  },
  {
   "cell_type": "code",
   "execution_count": 10,
   "metadata": {},
   "outputs": [],
   "source": [
    "#-----example 2-----  \n",
    "for value in set_1:\n",
    "    print(value)"
   ]
  },
  {
   "cell_type": "markdown",
   "metadata": {},
   "source": [
    "![](../02_figures/01_dictionaries-header.jpg)"
   ]
  },
  {
   "cell_type": "markdown",
   "metadata": {},
   "source": [
    "# Dictionary  \n",
    "\n",
    "A dictionary can be thought of as an unordered list with a customised index.  \n",
    "+ The index values are called **keys**.  \n",
    "+ A dictionary therefore contains **key-value pairs** with the format `{index: value(s)}`.      \n",
    "\n",
    "Properties of dictionaries include:  \n",
    "+ Dictionaries can be created using `dict()` or by listing key-values pairs inside `{}` i.e. `{\"key_1\": [\"value_1\", \"value_2\"]}`.  \n",
    "+ Dictionary key-value pairs can be accessed by subsetting on the key or by using the `get()` method.   \n",
    "+ You can check whether a key exists in a dictionary using the keyword `in` i.e. `\"key_2\" in dict_1` should return `True`.  \n",
    "+ You can retrieve dictionary keys using `dict_1.keys()`.  \n",
    "+ You can retrieve dictionary values using `dict_1.values()`.  \n",
    "+ You can retrieve dictionary items using `dict_1.items()`.    \n",
    "\n",
    "You can modify key-value pairs in a dictionary.    \n",
    "+ New items can be added through `dict_1[\"key_2\"] = [\"value_1\", \"value_2\"]`   \n",
    "+ You can delete items using the `del` keyword or the `pop()` method (both methods will modify the dictionary in place).  "
   ]
  },
  {
   "cell_type": "code",
   "execution_count": 11,
   "metadata": {},
   "outputs": [],
   "source": [
    "#-----example 1-----"
   ]
  },
  {
   "cell_type": "code",
   "execution_count": 12,
   "metadata": {},
   "outputs": [],
   "source": [
    "#-----example 2-----"
   ]
  },
  {
   "cell_type": "code",
   "execution_count": 13,
   "metadata": {},
   "outputs": [],
   "source": [
    "#-----example 3-----"
   ]
  },
  {
   "cell_type": "code",
   "execution_count": 14,
   "metadata": {},
   "outputs": [],
   "source": [
    "#-----example 4-----  "
   ]
  },
  {
   "cell_type": "markdown",
   "metadata": {},
   "source": [
    "# Numpy arrays  "
   ]
  },
  {
   "cell_type": "code",
   "execution_count": 15,
   "metadata": {},
   "outputs": [],
   "source": [
    "#-----example 1-----"
   ]
  },
  {
   "cell_type": "code",
   "execution_count": 16,
   "metadata": {},
   "outputs": [],
   "source": [
    "#-----example 2-----"
   ]
  },
  {
   "cell_type": "code",
   "execution_count": 17,
   "metadata": {},
   "outputs": [],
   "source": [
    "#-----example 3-----"
   ]
  },
  {
   "cell_type": "code",
   "execution_count": 18,
   "metadata": {},
   "outputs": [],
   "source": [
    "#-----example 4-----"
   ]
  },
  {
   "cell_type": "markdown",
   "metadata": {},
   "source": [
    "# Pandas DataFrame  "
   ]
  },
  {
   "cell_type": "code",
   "execution_count": 19,
   "metadata": {},
   "outputs": [],
   "source": [
    "#-----example 1-----"
   ]
  },
  {
   "cell_type": "code",
   "execution_count": 20,
   "metadata": {},
   "outputs": [],
   "source": [
    "#-----example 2-----"
   ]
  },
  {
   "cell_type": "code",
   "execution_count": 21,
   "metadata": {},
   "outputs": [],
   "source": [
    "#-----example 3-----"
   ]
  },
  {
   "cell_type": "code",
   "execution_count": 22,
   "metadata": {},
   "outputs": [],
   "source": [
    "#-----eample 4-----"
   ]
  }
 ],
 "metadata": {
  "kernelspec": {
   "display_name": "Python 3",
   "language": "python",
   "name": "python3"
  },
  "language_info": {
   "codemirror_mode": {
    "name": "ipython",
    "version": 3
   },
   "file_extension": ".py",
   "mimetype": "text/x-python",
   "name": "python",
   "nbconvert_exporter": "python",
   "pygments_lexer": "ipython3",
   "version": "3.7.1"
  }
 },
 "nbformat": 4,
 "nbformat_minor": 2
}
