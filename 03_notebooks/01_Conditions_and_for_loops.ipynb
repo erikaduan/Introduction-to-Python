{
 "cells": [
  {
   "cell_type": "markdown",
   "metadata": {},
   "source": [
    "# Conditions and for/while loops     \n",
    "## Author: Erika Duan"
   ]
  },
  {
   "cell_type": "markdown",
   "metadata": {},
   "source": [
    "[Insert image]  "
   ]
  },
  {
   "cell_type": "markdown",
   "metadata": {},
   "source": [
    "# Manipulating Booleans values    \n",
    "\n",
    "The Boolean data type is central to code evaluation.   \n",
    "\n",
    "Boolean values:    \n",
    "+ Can only either be `True` or `False`.      \n",
    "+ Can be stored inside data structures i.e. lists, dictionaries, tuples, sets and data frames.  \n",
    "+ Is the output of mathematical operations.  \n",
    "+ Is the output of equality/ non-equality statements using `==` or `!=`, or `is` or `is not` respectively.      "
   ]
  },
  {
   "cell_type": "code",
   "execution_count": 1,
   "metadata": {},
   "outputs": [
    {
     "name": "stdout",
     "output_type": "stream",
     "text": [
      "True is of class: <class 'bool'>\n"
     ]
    }
   ],
   "source": [
    "print(\"{} is of class: {}\" .format(True, type(True)))"
   ]
  },
  {
   "cell_type": "code",
   "execution_count": 2,
   "metadata": {},
   "outputs": [
    {
     "name": "stdout",
     "output_type": "stream",
     "text": [
      "[0, 1, 2, 3, ['a', 'c', 'c']]\n",
      "False\n",
      "True\n"
     ]
    }
   ],
   "source": [
    "#-----example 1-----\n",
    "list_1 = [0, 1, 2, 3,['a', 'c', 'c']] \n",
    "print(list_1)  \n",
    "\n",
    "print(4 in list_1) \n",
    "print(list_1[4][0] == 'a')"
   ]
  },
  {
   "cell_type": "code",
   "execution_count": 3,
   "metadata": {},
   "outputs": [
    {
     "name": "stdout",
     "output_type": "stream",
     "text": [
      "True\n",
      "True\n"
     ]
    }
   ],
   "source": [
    "#-----example 2-----  \n",
    "dict_1 = {\"team_1\": [\"a\", \"b\", \"c\"],\n",
    "          \"team_2\": [\"d\", \"e\", \"d\", \"f\"]}\n",
    "\n",
    "# you can use dict_1.get(\"key\", \"No key exists\") to return values from a dictionary\n",
    "# you can also check whether a key exists using an in/ not in statement  \n",
    "\n",
    "print(\"team_1\" in dict_1)\n",
    "print(\"team_3\" not in dict_1)"
   ]
  },
  {
   "cell_type": "markdown",
   "metadata": {},
   "source": [
    "# Writing if statements   \n",
    "\n",
    "The syntax for writing conditions (i.e. if statements) is:   \n",
    "\n",
    "**If you only want to perform an action if the condition is true.** \n",
    "\n",
    "+ **if** condition **is True:**   \n",
    "    + action(task 1)\n",
    "\n",
    "**If you want to perform two actions; one if the condition is true and another if the condition is not true.** \n",
    "\n",
    "+ **if** condition **is True:**    \n",
    "    + action(task 1)  \n",
    "+ **else:**    \n",
    "    + action(task 2)  \n",
    "\n",
    "**If the condition contains more than 2 possibilities.**    \n",
    "\n",
    "+ **if** condition == \"state_1\"**:**    \n",
    "    + action(task 1)  \n",
    "+ **elif** condition == \"state_2\"**:**  \n",
    "    + action(task 2)  \n",
    "+ **elif** condition == \"state_3\"**:**   \n",
    "    + action(task 3)  \n",
    "+ **else:**   \n",
    "    + action(task_4)    "
   ]
  },
  {
   "cell_type": "code",
   "execution_count": 26,
   "metadata": {},
   "outputs": [
    {
     "name": "stdout",
     "output_type": "stream",
     "text": [
      "Eat ice cream today.\n",
      "Hooray\n"
     ]
    }
   ],
   "source": [
    "#-----example 1-----  \n",
    "summer = True \n",
    "    \n",
    "if summer == True:\n",
    "    print(\"Eat ice cream today.\")\n",
    "else:\n",
    "    print(\"Eat icecream later\")\n",
    "\n",
    "print(\"Hooray\") # external print function"
   ]
  },
  {
   "cell_type": "code",
   "execution_count": 27,
   "metadata": {},
   "outputs": [
    {
     "name": "stdout",
     "output_type": "stream",
     "text": [
      "It's safe to cycle.\n"
     ]
    }
   ],
   "source": [
    "#-----example 2-----  \n",
    "import datetime\n",
    "today = datetime.date.today() # class datetime.date  \n",
    "\n",
    "if 1 <= today.month <= 2: \n",
    "    print(\"Warning: wear sunscreen!\")  \n",
    "elif 5 <= today.month <= 7:  \n",
    "    print(\"Warning: cold weather!\")  \n",
    "elif 8 <= today.month <= 10:  \n",
    "    print(\"Warning: MAGPIES!\") \n",
    "else: \n",
    "    print(\"It's safe to cycle.\")   "
   ]
  },
  {
   "cell_type": "markdown",
   "metadata": {},
   "source": [
    "**Note:** Make sure each condition represents a mutually exclusive statement or Python will just run the first line of applicable code.      "
   ]
  },
  {
   "cell_type": "code",
   "execution_count": 28,
   "metadata": {},
   "outputs": [
    {
     "name": "stdout",
     "output_type": "stream",
     "text": [
      "Less than 50\n"
     ]
    }
   ],
   "source": [
    "#-----example 3----- \n",
    "count = 20\n",
    "\n",
    "if 0 < count < 50: \n",
    "    print(\"Less than 50\")\n",
    "elif 0 < count < 100:\n",
    "    print(\"Less than 100\")\n",
    "else:\n",
    "    print(\"More than 100\")  \n",
    "    \n",
    "# Python will stop after the first applicable condition  "
   ]
  },
  {
   "cell_type": "markdown",
   "metadata": {},
   "source": [
    "## Nesting if statements   \n",
    "\n",
    "We can also place indented conditional statements within a conditional statement. This is known as nesting and permits the evaluation of multiple overlapping conditions.  \n",
    "\n",
    "**If we nest two conditions together.**   \n",
    "\n",
    "+ **if** condition == 1**:**  \n",
    "    + **if** condition == 2**:**    \n",
    "        + action(task 1.1) \n",
    "    + **else:** \n",
    "        + action(task 1.2)  \n",
    "+ **else:** \n",
    "    + action(task 2)  "
   ]
  },
  {
   "cell_type": "code",
   "execution_count": null,
   "metadata": {},
   "outputs": [],
   "source": [
    "count = 20\n",
    "\n",
    "if count < 100: #most limiting statement at the top\n",
    "    print(\"Less than 100\")\n",
    "    \n",
    "    if count < 50: #indented nested second condition\n",
    "        print(\"Less than 50\")\n",
    "\n",
    "print(\"The end\")"
   ]
  },
  {
   "cell_type": "code",
   "execution_count": null,
   "metadata": {},
   "outputs": [],
   "source": [
    "count = 20\n",
    "\n",
    "if count < 50: #most limiting statement at the top\n",
    "    print(\"Less than 50\")\n",
    "    \n",
    "    if count < 500: #indented nested second condition\n",
    "        print(\"Less than 500\")\n",
    "\n",
    "print(\"The end\")\n",
    "\n",
    "#nesting allows both directions"
   ]
  },
  {
   "cell_type": "markdown",
   "metadata": {},
   "source": [
    "## Combining boolean operators  \n",
    "\n",
    "+ You can also combine multiple conditions in a single line using the **and** or **or** statements  \n",
    "+ We can also use & and | "
   ]
  },
  {
   "cell_type": "code",
   "execution_count": null,
   "metadata": {},
   "outputs": [],
   "source": [
    "winter = True #this is a Boolean type. Booleans are True or False.\n",
    "coffee = \"Plenty\"\n",
    "\n",
    "if (winter is True) ^ (coffee == None): # carrot is an exclusive or i.e. one or the other condition is met\n",
    "    print (\"This is alright I guess\")\n",
    "\n",
    "elif (winter is True) & (coffee == None):\n",
    "    print (\"Kill everything\")"
   ]
  },
  {
   "cell_type": "code",
   "execution_count": null,
   "metadata": {},
   "outputs": [],
   "source": [
    "winter = True \n",
    "coffee = None\n",
    "\n",
    "if (winter is True) | (coffee == None): #be careful as it overides the '&' option\n",
    "    print (\"This is alright I guess\")\n",
    "\n",
    "elif (winter is True) & (coffee == None):\n",
    "    print (\"Kill everything\")"
   ]
  },
  {
   "cell_type": "markdown",
   "metadata": {},
   "source": [
    "**Challenge 9: Write your own morning routine**  \n",
    "+ Use nested conditions \n",
    "+ Combine boolean operators"
   ]
  },
  {
   "cell_type": "code",
   "execution_count": null,
   "metadata": {},
   "outputs": [],
   "source": [
    "#indentations matter for writing conditions\n",
    "\n",
    "sleepy = True\n",
    "wakeup_time = 8\n",
    "big_experiment_day = True\n",
    "\n",
    "if sleepy is True:\n",
    "    print('Stay in bed and press snooze... but then...')\n",
    "   \n",
    "    if wakeup_time <= 8:\n",
    "        print('Wow, you woke up so early!')\n",
    "    elif (wakeup_time > 8) & (wakeup_time < 10):\n",
    "        print('Okay, normal wake up time... do not panic...')\n",
    "    elif wakeup_time >= 10:\n",
    "        print('Arrghhh! I must run!!!') \n",
    "        \n",
    "    if big_experiment_day is True:\n",
    "            print('Then quickly run out of bed!')\n",
    "    else:\n",
    "            print('At least there is no big experiment!')\n",
    "            \n",
    "else:\n",
    "    print('Head to work as normal.')\n",
    "\n",
    "print(\"The end!\")"
   ]
  },
  {
   "cell_type": "markdown",
   "metadata": {},
   "source": [
    "**Writing For Loops**\n",
    "+ **For** each variable **in** a collection, perform an action on that variable\n",
    "+ **Indentation is very important** - if the instructions are indented, each new indent is a new commmand. \n",
    "+ You can print or write a final command without the indentation after indented tasks are completed. \n",
    "+ Each for loop command is run once for each individual item in a list. "
   ]
  },
  {
   "cell_type": "code",
   "execution_count": null,
   "metadata": {},
   "outputs": [],
   "source": [
    "element = 'lead'\n",
    "for letter in element:\n",
    "    print(letter)"
   ]
  },
  {
   "cell_type": "code",
   "execution_count": null,
   "metadata": {},
   "outputs": [],
   "source": [
    "p_list = [1,3,'This']\n",
    "for p in p_list:\n",
    "    if type(p) is str: #notice that we used our str function without Parentheses to compare types!\n",
    "        print('its a string with length', len(p))\n",
    "    else:\n",
    "        print('not a string', p)\n",
    "print('done with loop!')"
   ]
  },
  {
   "cell_type": "code",
   "execution_count": null,
   "metadata": {},
   "outputs": [],
   "source": [
    "#When writing for loops with numbers, you can use range to specify numbers\n",
    "for value in range(1,10+1):\n",
    "    print(value)\n",
    "print(\"Remember, the range does not print the last number specified.\")"
   ]
  },
  {
   "cell_type": "code",
   "execution_count": null,
   "metadata": {},
   "outputs": [],
   "source": [
    "list1 = [(range(1,10+1,2))] # to skip values by 2 when printing between 1 to 10\n",
    "print(list)\n",
    "\n",
    "print(min(list1))\n",
    "print(min([1, 3, 4, 7, 9])) #min seems unable to read list1 directly\n",
    "print(max([1, 3, 4, 7, 9]))\n",
    "print(sum([1, 3, 4, 7, 9]))"
   ]
  },
  {
   "cell_type": "markdown",
   "metadata": {},
   "source": [
    "**List comprehensions**  \n",
    "Code can be written in shorter versions.  \n",
    "Take note of the example below. "
   ]
  },
  {
   "cell_type": "code",
   "execution_count": null,
   "metadata": {},
   "outputs": [],
   "source": [
    "squares = []\n",
    "for value in range (1, 11):\n",
    "    square = value**2\n",
    "    squares.append(square)\n",
    "print(squares)"
   ]
  },
  {
   "cell_type": "code",
   "execution_count": null,
   "metadata": {},
   "outputs": [],
   "source": [
    "#this can also be written as\n",
    "\n",
    "squares = [value**2 for value in range(1,11)]\n",
    "squares\n",
    "\n",
    "#this is probably how the format of some seq() or rep() functions is written"
   ]
  },
  {
   "cell_type": "markdown",
   "metadata": {},
   "source": [
    "**Challenge 10**  \n",
    "Iterate through a given list of numbers. Add odd numbers to another list, called odd. Add even numbers to another list called even. Then, sort and print out both odd and even lists.  \n",
    "Hint: Remember modulo (%?,) and remember our list methods for adding items?"
   ]
  },
  {
   "cell_type": "code",
   "execution_count": null,
   "metadata": {},
   "outputs": [],
   "source": [
    "numberList = [1,4,3,6,5,9,8,2,7,10]"
   ]
  },
  {
   "cell_type": "code",
   "execution_count": null,
   "metadata": {},
   "outputs": [],
   "source": [
    "numberList = [1,4,3,6,5,9,8,2,7,10]\n",
    "odd_list = []\n",
    "even_list = []\n",
    "\n",
    "for number in numberList:\n",
    "    if number%2 != 0:\n",
    "        odd_list.append(number)\n",
    "    elif number%2 == 0:\n",
    "        even_list.append(number)\n",
    " \n",
    "odd_list.sort() #sorting lists\n",
    "even_list.sort() #sorting lists\n",
    "\n",
    "print(odd_list)\n",
    "print(even_list)"
   ]
  },
  {
   "cell_type": "markdown",
   "metadata": {},
   "source": [
    "**Python crash course challenges**\n",
    "+ Writing for loops\n",
    "+ Writing for loops with numbers\n",
    "+ Writing for loops for slicing parts of a list  \n",
    "*(Remember, slicing is weird - to slice, specify parameters x and y+1 to slice between x and y)*  \n",
    "+ Tuples (i.e. values that cannot change and are immutable)"
   ]
  },
  {
   "cell_type": "code",
   "execution_count": null,
   "metadata": {},
   "outputs": [],
   "source": [
    "pizza_list = [\"Magarita\", \"Chilli prawn\", \"Proscuitto\"]\n",
    "\n",
    "for pizza in pizza_list:\n",
    "    print(\"I really like to eat %s at DOC.\" %(pizza))\n",
    "print(\"Yum!\")"
   ]
  },
  {
   "cell_type": "code",
   "execution_count": null,
   "metadata": {},
   "outputs": [],
   "source": [
    "#printing 1 to 10\n",
    "list1 = [value for value in range(1,20+1)]\n",
    "list1"
   ]
  },
  {
   "cell_type": "code",
   "execution_count": null,
   "metadata": {},
   "outputs": [],
   "source": [
    "#printing 1 to 1 million\n",
    "list2 = [value for value in range(1,(10**6)+1)]\n",
    "list2\n",
    "print(min(list2))\n",
    "print(max(list2))"
   ]
  },
  {
   "cell_type": "code",
   "execution_count": null,
   "metadata": {},
   "outputs": [],
   "source": [
    "#printing odd numbers\n",
    "list3 = [value for value in range(1,20+1,2)]\n",
    "list3"
   ]
  },
  {
   "cell_type": "code",
   "execution_count": null,
   "metadata": {},
   "outputs": [],
   "source": [
    "#printing by 3s\n",
    "list4 = [value for value in range(3, 30+1, 3)]\n",
    "list4"
   ]
  },
  {
   "cell_type": "code",
   "execution_count": null,
   "metadata": {},
   "outputs": [],
   "source": [
    "#printing cubed values\n",
    "list5 = [value**3 for value in range(1,10+1)] \n",
    "list5"
   ]
  },
  {
   "cell_type": "code",
   "execution_count": null,
   "metadata": {},
   "outputs": [],
   "source": [
    "#tuples\n",
    "dimensions = (200, 50) \n",
    "print(dimensions[1])\n",
    "\n",
    "#changing tuples does not work\n",
    "dimensions[1] = 23 #produces an error message"
   ]
  },
  {
   "cell_type": "code",
   "execution_count": null,
   "metadata": {},
   "outputs": [],
   "source": []
  }
 ],
 "metadata": {
  "kernelspec": {
   "display_name": "Python 3",
   "language": "python",
   "name": "python3"
  },
  "language_info": {
   "codemirror_mode": {
    "name": "ipython",
    "version": 3
   },
   "file_extension": ".py",
   "mimetype": "text/x-python",
   "name": "python",
   "nbconvert_exporter": "python",
   "pygments_lexer": "ipython3",
   "version": "3.7.1"
  }
 },
 "nbformat": 4,
 "nbformat_minor": 2
}
