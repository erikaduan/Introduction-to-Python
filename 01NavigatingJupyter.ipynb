{
 "cells": [
  {
   "cell_type": "markdown",
   "metadata": {},
   "source": [
    "Welcome to **Jupyter notebooks**.  \n",
    "Jupyter notebooks consist of many different types of cells:\n",
    "+ Toggle between edit (enter) or command (esc) or code (y) or markdown (m).\n",
    "+ Each cell can run its individual code.\n",
    "+ Each cell only prints its last output, unless specified using print(). \n",
    "+ During edit mode, x|c|v|d commands can be used to manipulate individual cells.\n",
    "+ Create new cells using a|b and navigate through them using shift + enter or up | downs.\n",
    "+ Also use control + enter to run cells."
   ]
  },
  {
   "cell_type": "code",
   "execution_count": 14,
   "metadata": {},
   "outputs": [
    {
     "data": {
      "text/plain": [
       "[1, 2, 3]"
      ]
     },
     "execution_count": 14,
     "metadata": {},
     "output_type": "execute_result"
    }
   ],
   "source": [
    "b = [1,2,3] # use square brackets to store data in a list\n",
    "b # each cell prints the last output"
   ]
  },
  {
   "cell_type": "code",
   "execution_count": 16,
   "metadata": {},
   "outputs": [
    {
     "name": "stdout",
     "output_type": "stream",
     "text": [
      "[[14, 15, 16], 5, 6, 7]\n"
     ]
    },
    {
     "data": {
      "text/plain": [
       "15"
      ]
     },
     "execution_count": 16,
     "metadata": {},
     "output_type": "execute_result"
    }
   ],
   "source": [
    "c = [[14, 15, 16], 5, 6, 7]\n",
    "print(c) # print() displays the output during any stage of coding in a cell\n",
    "\n",
    "c[0][1] # 1st position in first list, 2nd position in second inner list"
   ]
  },
  {
   "cell_type": "markdown",
   "metadata": {},
   "source": [
    "**Python can be used as a calculator when working with numbers**\n",
    "+ Addition and subtraction\n",
    "+ Work with negative numbers\n",
    "+ Multiply and divide (following left to right rules, i.e. higher powers or multiplication and division first)\n",
    "+ Square numbers using the power command **2 (i.e. to the power of 2)  \n",
    "\n",
    "Note: Numbers can be either **integers** (faster, no decimals) or **floats** (slower, decimals)."
   ]
  },
  {
   "cell_type": "code",
   "execution_count": 17,
   "metadata": {},
   "outputs": [
    {
     "data": {
      "text/plain": [
       "16"
      ]
     },
     "execution_count": 17,
     "metadata": {},
     "output_type": "execute_result"
    }
   ],
   "source": [
    "4 + 12"
   ]
  },
  {
   "cell_type": "code",
   "execution_count": 18,
   "metadata": {},
   "outputs": [
    {
     "data": {
      "text/plain": [
       "5"
      ]
     },
     "execution_count": 18,
     "metadata": {},
     "output_type": "execute_result"
    }
   ],
   "source": [
    "-5 + 10"
   ]
  },
  {
   "cell_type": "code",
   "execution_count": 19,
   "metadata": {},
   "outputs": [
    {
     "data": {
      "text/plain": [
       "10.0"
      ]
     },
     "execution_count": 19,
     "metadata": {},
     "output_type": "execute_result"
    }
   ],
   "source": [
    "3 * 10 / 3 # operation calculated from left to right"
   ]
  },
  {
   "cell_type": "code",
   "execution_count": 13,
   "metadata": {},
   "outputs": [
    {
     "data": {
      "text/plain": [
       "8"
      ]
     },
     "execution_count": 13,
     "metadata": {},
     "output_type": "execute_result"
    }
   ],
   "source": [
    "2**3 # to the power of 3"
   ]
  },
  {
   "cell_type": "markdown",
   "metadata": {},
   "source": [
    "Some unique mathematical functions also exist:  \n",
    "+ Divide and floor - using **//**  \n",
    "+ Divides and prints the reminder - using **%**"
   ]
  },
  {
   "cell_type": "code",
   "execution_count": 21,
   "metadata": {},
   "outputs": [
    {
     "name": "stdout",
     "output_type": "stream",
     "text": [
      "2\n",
      "3\n",
      "2\n",
      "2\n"
     ]
    }
   ],
   "source": [
    "# divide and floor (find the closest whole numeber divisor?)\n",
    "print(7//3) # i.e. 2 x 3 = 6\n",
    "print(10//3) # i.e. 3 x 3 = 9\n",
    "print(10//4) # i.e. 2 x 4 = 8\n",
    "print(10//5) "
   ]
  },
  {
   "cell_type": "code",
   "execution_count": 23,
   "metadata": {},
   "outputs": [
    {
     "data": {
      "text/plain": [
       "3.5"
      ]
     },
     "execution_count": 23,
     "metadata": {},
     "output_type": "execute_result"
    }
   ],
   "source": [
    "# compare // with /\n",
    "7/2"
   ]
  },
  {
   "cell_type": "code",
   "execution_count": 25,
   "metadata": {
    "scrolled": true
   },
   "outputs": [
    {
     "name": "stdout",
     "output_type": "stream",
     "text": [
      "0\n",
      "1\n"
     ]
    }
   ],
   "source": [
    "# % returns you the remainder after division\n",
    "print(6%2)\n",
    "print(6%5) # 1 x 5 = 5 and 6 - 5 = 1"
   ]
  },
  {
   "cell_type": "markdown",
   "metadata": {},
   "source": [
    "**Using character strings**  \n",
    "+ Words can be converted into strings, by placing them inside \"\" or ''.  \n",
    "+ Consistency is key: used '' or \"\" consistently.  \n",
    "+ Unlike R, word strings can be directly added or even multiplied. "
   ]
  },
  {
   "cell_type": "code",
   "execution_count": 26,
   "metadata": {},
   "outputs": [
    {
     "data": {
      "text/plain": [
       "'This is a word'"
      ]
     },
     "execution_count": 26,
     "metadata": {},
     "output_type": "execute_result"
    }
   ],
   "source": [
    "word = \"This is a word\"\n",
    "word"
   ]
  },
  {
   "cell_type": "code",
   "execution_count": 29,
   "metadata": {},
   "outputs": [
    {
     "data": {
      "text/plain": [
       "'Erika Mubby Duan'"
      ]
     },
     "execution_count": 29,
     "metadata": {},
     "output_type": "execute_result"
    }
   ],
   "source": [
    "my_name = \"Erika\" + \" \" + \"M\" + \" \" + \"Duan\" #manually add spaces via \" \"\n",
    "my_name # do not use my.name for annotation"
   ]
  },
  {
   "cell_type": "code",
   "execution_count": 27,
   "metadata": {},
   "outputs": [
    {
     "data": {
      "text/plain": [
       "'my precioussssss'"
      ]
     },
     "execution_count": 27,
     "metadata": {},
     "output_type": "execute_result"
    }
   ],
   "source": [
    "Gollum = \"my\" + \" \" + \"precious\" + \"s\"*5\n",
    "Gollum"
   ]
  },
  {
   "cell_type": "markdown",
   "metadata": {},
   "source": [
    "**Using functions**  \n",
    "Functions follow the general structure function (objects, arguments).\n",
    "Examples include:  \n",
    "+ **type()** is a useful function for knowing your data type.\n",
    "+ **len()** is like length() in R - finds the length of a string.\n",
    "+ **int()** | **str()** | **float()** are forms of data coercion and is like as.integer, as.character and as.numeric in R."
   ]
  },
  {
   "cell_type": "code",
   "execution_count": 28,
   "metadata": {},
   "outputs": [
    {
     "data": {
      "text/plain": [
       "str"
      ]
     },
     "execution_count": 28,
     "metadata": {},
     "output_type": "execute_result"
    }
   ],
   "source": [
    "type(\"Hobbit\")"
   ]
  },
  {
   "cell_type": "code",
   "execution_count": 30,
   "metadata": {},
   "outputs": [
    {
     "data": {
      "text/plain": [
       "float"
      ]
     },
     "execution_count": 30,
     "metadata": {},
     "output_type": "execute_result"
    }
   ],
   "source": [
    "type(1.5) # has decimals, hence a float"
   ]
  },
  {
   "cell_type": "code",
   "execution_count": 31,
   "metadata": {},
   "outputs": [
    {
     "data": {
      "text/plain": [
       "int"
      ]
     },
     "execution_count": 31,
     "metadata": {},
     "output_type": "execute_result"
    }
   ],
   "source": [
    "type(3**2)"
   ]
  },
  {
   "cell_type": "code",
   "execution_count": 34,
   "metadata": {},
   "outputs": [
    {
     "data": {
      "text/plain": [
       "17"
      ]
     },
     "execution_count": 34,
     "metadata": {},
     "output_type": "execute_result"
    }
   ],
   "source": [
    "len(\"I want one pingu.\")"
   ]
  },
  {
   "cell_type": "code",
   "execution_count": 37,
   "metadata": {},
   "outputs": [
    {
     "data": {
      "text/plain": [
       "15"
      ]
     },
     "execution_count": 37,
     "metadata": {},
     "output_type": "execute_result"
    }
   ],
   "source": [
    "len(\"I want a pingu.\") # two spaces less"
   ]
  },
  {
   "cell_type": "code",
   "execution_count": 38,
   "metadata": {},
   "outputs": [
    {
     "ename": "TypeError",
     "evalue": "object of type 'int' has no len()",
     "output_type": "error",
     "traceback": [
      "\u001b[1;31m---------------------------------------------------------------------------\u001b[0m",
      "\u001b[1;31mTypeError\u001b[0m                                 Traceback (most recent call last)",
      "\u001b[1;32m<ipython-input-38-66cb7fb7a7d9>\u001b[0m in \u001b[0;36m<module>\u001b[1;34m\u001b[0m\n\u001b[1;32m----> 1\u001b[1;33m \u001b[0mlen\u001b[0m\u001b[1;33m(\u001b[0m\u001b[1;36m5000\u001b[0m\u001b[1;33m)\u001b[0m \u001b[1;31m# error - object of type 'int' has no len()\u001b[0m\u001b[1;33m\u001b[0m\u001b[1;33m\u001b[0m\u001b[0m\n\u001b[0m",
      "\u001b[1;31mTypeError\u001b[0m: object of type 'int' has no len()"
     ]
    }
   ],
   "source": [
    "len(5000) # error - object of type 'int' has no len()"
   ]
  },
  {
   "cell_type": "code",
   "execution_count": 42,
   "metadata": {},
   "outputs": [
    {
     "data": {
      "text/plain": [
       "4"
      ]
     },
     "execution_count": 42,
     "metadata": {},
     "output_type": "execute_result"
    }
   ],
   "source": [
    "len(\"5000\") # character length of 4\n",
    "len(str(5000)) # also coerces 5000 into a character"
   ]
  },
  {
   "cell_type": "code",
   "execution_count": 45,
   "metadata": {},
   "outputs": [
    {
     "data": {
      "text/plain": [
       "3"
      ]
     },
     "execution_count": 45,
     "metadata": {},
     "output_type": "execute_result"
    }
   ],
   "source": [
    "int(3.4445) # coercing integers always rounds down to the nearest full integer"
   ]
  },
  {
   "cell_type": "code",
   "execution_count": 47,
   "metadata": {},
   "outputs": [
    {
     "data": {
      "text/plain": [
       "5.0"
      ]
     },
     "execution_count": 47,
     "metadata": {},
     "output_type": "execute_result"
    }
   ],
   "source": [
    "float(5) # retains decimals if present"
   ]
  },
  {
   "cell_type": "code",
   "execution_count": 48,
   "metadata": {},
   "outputs": [
    {
     "data": {
      "text/plain": [
       "2"
      ]
     },
     "execution_count": 48,
     "metadata": {},
     "output_type": "execute_result"
    }
   ],
   "source": [
    "int(1.0) + int(float(\"1.1\")) # integer coercion forces float 1.1 into a 1"
   ]
  },
  {
   "cell_type": "markdown",
   "metadata": {},
   "source": [
    "**Navigating string specific functions**  \n",
    "+ To make everything uppercase, use .upper() \n",
    "    + Methods are functions specific to a certain type of object.\n",
    "    + Format follows object.methods(arguments)  \n",
    "+ Other examples exist [here](https://docs.python.org/3/library/stdtypes.html#string-methods).\n",
    "    + \"str\".capitalize\n",
    "    + \"str\".title"
   ]
  },
  {
   "cell_type": "code",
   "execution_count": 51,
   "metadata": {},
   "outputs": [
    {
     "ename": "NameError",
     "evalue": "name 'upper' is not defined",
     "output_type": "error",
     "traceback": [
      "\u001b[1;31m---------------------------------------------------------------------------\u001b[0m",
      "\u001b[1;31mNameError\u001b[0m                                 Traceback (most recent call last)",
      "\u001b[1;32m<ipython-input-51-04cde2cd7549>\u001b[0m in \u001b[0;36m<module>\u001b[1;34m\u001b[0m\n\u001b[1;32m----> 1\u001b[1;33m \u001b[0mupper\u001b[0m\u001b[1;33m(\u001b[0m\u001b[1;34m\"Hallo World\"\u001b[0m\u001b[1;33m)\u001b[0m \u001b[1;31m# incorrectly using a function instead of a method\u001b[0m\u001b[1;33m\u001b[0m\u001b[1;33m\u001b[0m\u001b[0m\n\u001b[0m",
      "\u001b[1;31mNameError\u001b[0m: name 'upper' is not defined"
     ]
    }
   ],
   "source": [
    "upper(\"Hallo World\") # incorrectly using a function instead of a method"
   ]
  },
  {
   "cell_type": "code",
   "execution_count": 52,
   "metadata": {},
   "outputs": [
    {
     "data": {
      "text/plain": [
       "'HALLO WORLD'"
      ]
     },
     "execution_count": 52,
     "metadata": {},
     "output_type": "execute_result"
    }
   ],
   "source": [
    "\"Hallo World\".upper() # method because it changes the object to another form"
   ]
  },
  {
   "cell_type": "code",
   "execution_count": 53,
   "metadata": {},
   "outputs": [
    {
     "data": {
      "text/plain": [
       "'Yarrgehe Pirate Language'"
      ]
     },
     "execution_count": 53,
     "metadata": {},
     "output_type": "execute_result"
    }
   ],
   "source": [
    "\"Yarrgehe PIRATE LANGUAGE\".title()"
   ]
  },
  {
   "cell_type": "markdown",
   "metadata": {},
   "source": [
    "**Using print()**  \n",
    "+ Print statements take the data input and print it as an output (i.e. as a string) to the console. \n",
    "+ Useful when trying to format some text output in a particular way - such as only using 2 decimal points of a number.\n",
    "+ Useful for 'looking under the hood' when you are coding.\n",
    "+ Useful when you are looking for issues in the code, i.e. you can print out your data at the point where you think things are going wrong. \n"
   ]
  },
  {
   "cell_type": "code",
   "execution_count": 54,
   "metadata": {},
   "outputs": [
    {
     "name": "stdout",
     "output_type": "stream",
     "text": [
      "Hello World 2019\n"
     ]
    }
   ],
   "source": [
    "print(\"Hello\", \"World\", 2019) # no need to add the \" \" spaces manually"
   ]
  },
  {
   "cell_type": "code",
   "execution_count": 55,
   "metadata": {},
   "outputs": [
    {
     "name": "stdout",
     "output_type": "stream",
     "text": [
      "100 0 0\n"
     ]
    }
   ],
   "source": [
    "print(100,000,000) # NEVER use commas for large integers"
   ]
  },
  {
   "cell_type": "markdown",
   "metadata": {},
   "source": [
    "**Assigning variables in python**  \n",
    "Like R (which uses <-), python allows assigning of variables (using **=**).  \n",
    "\n",
    "When naming variables, you must follow some rules:  \n",
    "+ Names must start with a letter (a-z,A-Z) or underscore (_) and can be followed by any number of letters, digits (0-9), or underscores\n",
    "+ Names cannot be the same as reserved words (False, True, None, And, If, For, While). \n",
    "+ Names are case-sensitive: 'YOU', 'you', 'You', and 'yOu' are all different names in Python\n",
    "+ '-', '+', '*', and '/' are used by Python for defining operations on data and cannot be used"
   ]
  },
  {
   "cell_type": "code",
   "execution_count": 56,
   "metadata": {},
   "outputs": [
    {
     "name": "stdout",
     "output_type": "stream",
     "text": [
      "<class 'float'>\n"
     ]
    }
   ],
   "source": [
    "number = 3.5\n",
    "\n",
    "print(type(number))\n",
    "# What will be the answer here?"
   ]
  },
  {
   "cell_type": "code",
   "execution_count": 58,
   "metadata": {},
   "outputs": [
    {
     "name": "stdout",
     "output_type": "stream",
     "text": [
      "17.25\n"
     ]
    }
   ],
   "source": [
    "print(number**2 + 5) # (3.5 x 3.5) + 5"
   ]
  },
  {
   "cell_type": "code",
   "execution_count": 59,
   "metadata": {},
   "outputs": [
    {
     "name": "stdout",
     "output_type": "stream",
     "text": [
      "Our team name is I like python . We are 2 in team number and our average age is 31.5 .\n"
     ]
    }
   ],
   "source": [
    "team_name = \"I like python\"\n",
    "team_count = 2\n",
    "team_age = 31.5\n",
    "\n",
    "print(\"Our team name is\", team_name, \".\", \"We are\", team_count, \"in team number and our average age is\", team_age, \".\")"
   ]
  },
  {
   "cell_type": "markdown",
   "metadata": {},
   "source": [
    "**Note that a more elegant method of printing exists (that doesn't add in extra spaces).**"
   ]
  },
  {
   "cell_type": "code",
   "execution_count": 76,
   "metadata": {},
   "outputs": [
    {
     "name": "stdout",
     "output_type": "stream",
     "text": [
      "Our team name is 'I like R'. We have 4 members and we are, on average, 25.98 years old\n"
     ]
    }
   ],
   "source": [
    "TeamName = 'I like R'\n",
    "X = 4\n",
    "Y = 25.976\n",
    "print(\"Our team name is '%s'. We have %i members and we are, on average, %0.2f years old\" %(TeamName, X, Y))\n",
    "\n",
    "# %0.2f represents a number rounded to 2 decimal places"
   ]
  },
  {
   "cell_type": "code",
   "execution_count": 77,
   "metadata": {},
   "outputs": [
    {
     "name": "stdout",
     "output_type": "stream",
     "text": [
      "In the Fellowship of the Ring, the team was 9 with a height difference of 1.2 metres, and the shortest person was Gimli.\n"
     ]
    }
   ],
   "source": [
    "Fellowship = 'Fellowship of the Ring'\n",
    "Team_number = 9\n",
    "Height_diff = 1.23\n",
    "Member = 'Gimli'\n",
    "\n",
    "print(\"In the %s, the team was %i with a height difference of %0.1f metres, and the shortest person was %s.\"\n",
    "      %(Fellowship, Team_number, Height_diff, Member))"
   ]
  },
  {
   "cell_type": "markdown",
   "metadata": {},
   "source": [
    "**You will notice that the latter print format is more flexible for use.**  \n",
    "Use the **%** to add other data types and formatting into your print string.  \n",
    "You can add multiple %i in one sentence, and the order is determined by the sequence specified in brackets. \n",
    "    + Use %i = int\n",
    "    + Use %f = float (add numbers/decimals before the f to specify how many numbers you want to be visible)\n",
    "    + Use %s = string\n",
    "    \n",
    "What happens when you mislabel or forget to label a type? (Error messages!)"
   ]
  },
  {
   "cell_type": "code",
   "execution_count": 78,
   "metadata": {},
   "outputs": [
    {
     "name": "stdout",
     "output_type": "stream",
     "text": [
      "Hello world. I have chocolate and 2 cats.\n"
     ]
    },
    {
     "data": {
      "text/plain": [
       "NoneType"
      ]
     },
     "execution_count": 78,
     "metadata": {},
     "output_type": "execute_result"
    }
   ],
   "source": [
    "snack = \"chocolate\"\n",
    "message = print(\"Hello world. I have %s and %i %s.\" %(snack, 2, 'cats'))\n",
    "type(message) # Nonetype it is a string? "
   ]
  },
  {
   "cell_type": "code",
   "execution_count": 79,
   "metadata": {},
   "outputs": [
    {
     "name": "stdout",
     "output_type": "stream",
     "text": [
      "Hello world. I have chocolate and 2 lamas.\n",
      "<class 'NoneType'>\n",
      "<class 'NoneType'>\n"
     ]
    }
   ],
   "source": [
    "message = print(\"Hello world. I have %s and %i lamas.\" %(snack, 2))\n",
    "print(type(message)) \n",
    "\n",
    "str(message) # coerces to characters\n",
    "print(type(message))"
   ]
  },
  {
   "cell_type": "markdown",
   "metadata": {},
   "source": [
    "**3 pet peeves of python**\n",
    "1. The first object in a list is **[0]**\n",
    "2. To slice from a list, always slice between a and b+1 to extract a:b\n",
    "3. Using list2 = list1 creates two names for the same list; use **list2 = list1[:]** or **list2 = list1.copy()**"
   ]
  },
  {
   "cell_type": "markdown",
   "metadata": {},
   "source": [
    "**Extra Python challenges**  \n",
    "+ Guest list challenge"
   ]
  },
  {
   "cell_type": "code",
   "execution_count": 80,
   "metadata": {},
   "outputs": [
    {
     "name": "stdout",
     "output_type": "stream",
     "text": [
      "Hello Dad! I would like to invite you to dinner.\n",
      "Hello Mum! I would like to invite you to dinner.\n",
      "Hello Dan! I would like to invite you to dinner.\n",
      "Hello Caesar cat! I would like to invite you to dinner.\n"
     ]
    }
   ],
   "source": [
    "# Write a guest list and individually write an invitation asking people to dinner. \n",
    "original_invite = [\"Dad\", \"Mum\", \"Dan\", \"Caesar cat\"]\n",
    "\n",
    "for invitee in original_invite:\n",
    "    print(\"Hello %s! I would like to invite you to dinner.\" %(invitee))"
   ]
  },
  {
   "cell_type": "code",
   "execution_count": 73,
   "metadata": {},
   "outputs": [
    {
     "name": "stdout",
     "output_type": "stream",
     "text": [
      "Oh no, Caesar cat can't make it to dinner anymore. I guess I will have to change the list.\n"
     ]
    }
   ],
   "source": [
    "print(\"Oh no, %s can't make it to dinner anymore. I guess I will have to change the list.\" %(original_invite[3]))"
   ]
  },
  {
   "cell_type": "code",
   "execution_count": 81,
   "metadata": {},
   "outputs": [
    {
     "name": "stdout",
     "output_type": "stream",
     "text": [
      "Hello 'Dad'! I would like to invite you to dinner.\n",
      "Hello 'Mum'! I would like to invite you to dinner.\n",
      "Hello 'Dan'! I would like to invite you to dinner.\n",
      "Hello 'Caesar cat'! I would like to invite you to dinner.\n"
     ]
    }
   ],
   "source": [
    "new_invite = original_invite.copy() # create a copy of the original invite\n",
    "\n",
    "original_invite[3] = \"Caesar\" # wait Caesar can still make it but he dislikes being termed a cat\n",
    "\n",
    "for new_invitee in new_invite:\n",
    "     print(\"Hello '%s'! I would like to invite you to dinner.\" %(new_invitee))"
   ]
  },
  {
   "cell_type": "code",
   "execution_count": 83,
   "metadata": {},
   "outputs": [
    {
     "name": "stdout",
     "output_type": "stream",
     "text": [
      "Now the invite includes ['Dad', 'Mum', 'Baozhi the corgi', 'Baozhi the corgi', 'Dan', 'Caesar cat', 'Xiongxiong the German Shepard', 'Xiongxiong the German Shepard'].\n"
     ]
    }
   ],
   "source": [
    "# The list increases in size!\n",
    "\n",
    "new_invite.insert(2, \"Baozhi the corgi\") # adds a new object at the third position\n",
    "new_invite.append(\"Xiongxiong the German Shepard\") # adds a new object into the last position\n",
    "                  \n",
    "print(\"Now the invite includes %s.\" %(new_invite))"
   ]
  },
  {
   "cell_type": "code",
   "execution_count": 85,
   "metadata": {},
   "outputs": [
    {
     "name": "stdout",
     "output_type": "stream",
     "text": [
      "Okay, ['Dad', 'Mum', 'Baozhi the corgi', 'Baozhi the corgi']! It's dinner time.\n"
     ]
    }
   ],
   "source": [
    "for next_time in new_invite[4:]: # objects from the fifth to last position \n",
    "    next_time = new_invite.pop(-1) # remove objects from new_invite list and store the object in in next_time \n",
    "    print(\"Sorry %s, we will be inviting you to dinner another day.\" %(next_time))\n",
    "\n",
    "print(\"Okay, %s! It's dinner time.\" %(new_invite))"
   ]
  },
  {
   "cell_type": "code",
   "execution_count": 86,
   "metadata": {},
   "outputs": [
    {
     "name": "stdout",
     "output_type": "stream",
     "text": [
      "['Dad', 'Mum', 'Baozhi the corgi', 'Baozhi the corgi']\n",
      "['Dad', 'Mum', 'Baozhi the corgi']\n"
     ]
    }
   ],
   "source": [
    "print(new_invite)\n",
    "\n",
    "del new_invite[2] # del can also be used to delete an object in a list\n",
    "\n",
    "print(new_invite)"
   ]
  },
  {
   "cell_type": "markdown",
   "metadata": {},
   "source": [
    "**Well done. You have completed the introduction to Navigating Jupyter and using Python variables!**"
   ]
  }
 ],
 "metadata": {
  "kernelspec": {
   "display_name": "Python 3",
   "language": "python",
   "name": "python3"
  },
  "language_info": {
   "codemirror_mode": {
    "name": "ipython",
    "version": 3
   },
   "file_extension": ".py",
   "mimetype": "text/x-python",
   "name": "python",
   "nbconvert_exporter": "python",
   "pygments_lexer": "ipython3",
   "version": "3.7.1"
  }
 },
 "nbformat": 4,
 "nbformat_minor": 2
}
